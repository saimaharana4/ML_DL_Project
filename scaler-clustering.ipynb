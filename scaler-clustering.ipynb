{
 "cells": [
  {
   "cell_type": "code",
   "execution_count": null,
   "id": "4a69dc6e",
   "metadata": {
    "_cell_guid": "b1076dfc-b9ad-4769-8c92-a6c4dae69d19",
    "_uuid": "8f2839f25d086af736a60e9eeb907d3b93b6e0e5",
    "papermill": {
     "duration": 0.012608,
     "end_time": "2023-12-07T16:08:57.767625",
     "exception": false,
     "start_time": "2023-12-07T16:08:57.755017",
     "status": "completed"
    },
    "tags": []
   },
   "outputs": [],
   "source": []
  },
  {
   "cell_type": "markdown",
   "id": "5aff517a",
   "metadata": {
    "papermill": {
     "duration": 0.012203,
     "end_time": "2023-12-07T16:08:57.792268",
     "exception": false,
     "start_time": "2023-12-07T16:08:57.780065",
     "status": "completed"
    },
    "tags": []
   },
   "source": [
    "# PROBLEM STATEMENT\n",
    "\n",
    "## INTRODUCTION\n",
    "\n",
    "In the dynamic landscape of the tech industry, staying ahead in terms of knowledge and skills is paramount. Scaler, an innovative online tech-versity, emerges as a beacon for professionals seeking to enhance their expertise in computer science and data science. Operated under the aegis of InterviewBit, Scaler offers a unique blend of live classes, industry-relevant curriculum, and hands-on learning experiences, all conducted by seasoned tech leaders and subject matter experts. This educational platform is not just a learning avenue but a springboard for software professionals to elevate their career trajectories.\n",
    "\n",
    "In this context, the role of a data scientist within Scaler's analytics vertical assumes significant importance. The primary objective is to delve into the rich database of Scaler and extract meaningful insights about the current trends in job profiles and companies preferred by learners. The challenge is to cluster a selected segment of learners based on various parameters like their job profile, the company they work for, and other relevant features. These clusters are expected to provide a deeper understanding of the learners’ preferences and aspirations, thus enabling Scaler to tailor its offerings more effectively. The ultimate goal is to create clusters that are homogeneous within and heterogeneous between, thereby ensuring each cluster embodies unique characteristics and preferences of learners, reflecting the diverse spectrum of the tech industry. This task is not just an analytical endeavor but a strategic initiative to align Scaler’s educational offerings with the evolving needs of the tech workforce."
   ]
  },
  {
   "cell_type": "markdown",
   "id": "5aef3c10",
   "metadata": {
    "papermill": {
     "duration": 0.012812,
     "end_time": "2023-12-07T16:08:57.818646",
     "exception": false,
     "start_time": "2023-12-07T16:08:57.805834",
     "status": "completed"
    },
    "tags": []
   },
   "source": [
    "# STEP 0: - IMPORT LIBRARY"
   ]
  },
  {
   "cell_type": "code",
   "execution_count": 1,
   "id": "2250d317",
   "metadata": {
    "execution": {
     "iopub.execute_input": "2023-12-07T16:08:57.848766Z",
     "iopub.status.busy": "2023-12-07T16:08:57.848165Z",
     "iopub.status.idle": "2023-12-07T16:09:00.801225Z",
     "shell.execute_reply": "2023-12-07T16:09:00.799940Z"
    },
    "papermill": {
     "duration": 2.971146,
     "end_time": "2023-12-07T16:09:00.804290",
     "exception": false,
     "start_time": "2023-12-07T16:08:57.833144",
     "status": "completed"
    },
    "tags": []
   },
   "outputs": [],
   "source": [
    "import numpy as np\n",
    "import pandas as pd\n",
    "import matplotlib.pyplot as plt\n",
    "import seaborn as sns\n",
    "\n",
    "from sklearn.impute import SimpleImputer\n"
   ]
  },
  {
   "cell_type": "markdown",
   "id": "c4ee093e",
   "metadata": {
    "papermill": {
     "duration": 0.012294,
     "end_time": "2023-12-07T16:09:00.829042",
     "exception": false,
     "start_time": "2023-12-07T16:09:00.816748",
     "status": "completed"
    },
    "tags": []
   },
   "source": [
    "# STEP 1: - IMPORT DATASET"
   ]
  },
  {
   "cell_type": "code",
   "execution_count": 2,
   "id": "e4c8509a",
   "metadata": {
    "execution": {
     "iopub.execute_input": "2023-12-07T16:09:00.856361Z",
     "iopub.status.busy": "2023-12-07T16:09:00.855197Z",
     "iopub.status.idle": "2023-12-07T16:09:01.741559Z",
     "shell.execute_reply": "2023-12-07T16:09:01.740236Z"
    },
    "papermill": {
     "duration": 0.903691,
     "end_time": "2023-12-07T16:09:01.745287",
     "exception": false,
     "start_time": "2023-12-07T16:09:00.841596",
     "status": "completed"
    },
    "tags": []
   },
   "outputs": [],
   "source": [
    "#Using read_csv method we import the dataset\n",
    "df = pd.read_csv(r\"/kaggle/input/scaler-dataset/scaler_clustering.csv\")"
   ]
  },
  {
   "cell_type": "code",
   "execution_count": null,
   "id": "5a1424a9",
   "metadata": {
    "papermill": {
     "duration": 0.012604,
     "end_time": "2023-12-07T16:09:01.772059",
     "exception": false,
     "start_time": "2023-12-07T16:09:01.759455",
     "status": "completed"
    },
    "tags": []
   },
   "outputs": [],
   "source": []
  },
  {
   "cell_type": "code",
   "execution_count": 3,
   "id": "01d450a9",
   "metadata": {
    "execution": {
     "iopub.execute_input": "2023-12-07T16:09:01.799636Z",
     "iopub.status.busy": "2023-12-07T16:09:01.799155Z",
     "iopub.status.idle": "2023-12-07T16:09:01.825779Z",
     "shell.execute_reply": "2023-12-07T16:09:01.824617Z"
    },
    "papermill": {
     "duration": 0.043669,
     "end_time": "2023-12-07T16:09:01.828579",
     "exception": false,
     "start_time": "2023-12-07T16:09:01.784910",
     "status": "completed"
    },
    "tags": []
   },
   "outputs": [
    {
     "data": {
      "text/html": [
       "<div>\n",
       "<style scoped>\n",
       "    .dataframe tbody tr th:only-of-type {\n",
       "        vertical-align: middle;\n",
       "    }\n",
       "\n",
       "    .dataframe tbody tr th {\n",
       "        vertical-align: top;\n",
       "    }\n",
       "\n",
       "    .dataframe thead th {\n",
       "        text-align: right;\n",
       "    }\n",
       "</style>\n",
       "<table border=\"1\" class=\"dataframe\">\n",
       "  <thead>\n",
       "    <tr style=\"text-align: right;\">\n",
       "      <th></th>\n",
       "      <th>Unnamed: 0</th>\n",
       "      <th>company_hash</th>\n",
       "      <th>email_hash</th>\n",
       "      <th>orgyear</th>\n",
       "      <th>ctc</th>\n",
       "      <th>job_position</th>\n",
       "      <th>ctc_updated_year</th>\n",
       "    </tr>\n",
       "  </thead>\n",
       "  <tbody>\n",
       "    <tr>\n",
       "      <th>0</th>\n",
       "      <td>0</td>\n",
       "      <td>atrgxnnt xzaxv</td>\n",
       "      <td>6de0a4417d18ab14334c3f43397fc13b30c35149d70c05...</td>\n",
       "      <td>2016.0</td>\n",
       "      <td>1100000</td>\n",
       "      <td>Other</td>\n",
       "      <td>2020.0</td>\n",
       "    </tr>\n",
       "    <tr>\n",
       "      <th>1</th>\n",
       "      <td>1</td>\n",
       "      <td>qtrxvzwt xzegwgbb rxbxnta</td>\n",
       "      <td>b0aaf1ac138b53cb6e039ba2c3d6604a250d02d5145c10...</td>\n",
       "      <td>2018.0</td>\n",
       "      <td>449999</td>\n",
       "      <td>FullStack Engineer</td>\n",
       "      <td>2019.0</td>\n",
       "    </tr>\n",
       "    <tr>\n",
       "      <th>2</th>\n",
       "      <td>2</td>\n",
       "      <td>ojzwnvwnxw vx</td>\n",
       "      <td>4860c670bcd48fb96c02a4b0ae3608ae6fdd98176112e9...</td>\n",
       "      <td>2015.0</td>\n",
       "      <td>2000000</td>\n",
       "      <td>Backend Engineer</td>\n",
       "      <td>2020.0</td>\n",
       "    </tr>\n",
       "    <tr>\n",
       "      <th>3</th>\n",
       "      <td>3</td>\n",
       "      <td>ngpgutaxv</td>\n",
       "      <td>effdede7a2e7c2af664c8a31d9346385016128d66bbc58...</td>\n",
       "      <td>2017.0</td>\n",
       "      <td>700000</td>\n",
       "      <td>Backend Engineer</td>\n",
       "      <td>2019.0</td>\n",
       "    </tr>\n",
       "    <tr>\n",
       "      <th>4</th>\n",
       "      <td>4</td>\n",
       "      <td>qxen sqghu</td>\n",
       "      <td>6ff54e709262f55cb999a1c1db8436cb2055d8f79ab520...</td>\n",
       "      <td>2017.0</td>\n",
       "      <td>1400000</td>\n",
       "      <td>FullStack Engineer</td>\n",
       "      <td>2019.0</td>\n",
       "    </tr>\n",
       "  </tbody>\n",
       "</table>\n",
       "</div>"
      ],
      "text/plain": [
       "   Unnamed: 0               company_hash  \\\n",
       "0           0             atrgxnnt xzaxv   \n",
       "1           1  qtrxvzwt xzegwgbb rxbxnta   \n",
       "2           2              ojzwnvwnxw vx   \n",
       "3           3                  ngpgutaxv   \n",
       "4           4                 qxen sqghu   \n",
       "\n",
       "                                          email_hash  orgyear      ctc  \\\n",
       "0  6de0a4417d18ab14334c3f43397fc13b30c35149d70c05...   2016.0  1100000   \n",
       "1  b0aaf1ac138b53cb6e039ba2c3d6604a250d02d5145c10...   2018.0   449999   \n",
       "2  4860c670bcd48fb96c02a4b0ae3608ae6fdd98176112e9...   2015.0  2000000   \n",
       "3  effdede7a2e7c2af664c8a31d9346385016128d66bbc58...   2017.0   700000   \n",
       "4  6ff54e709262f55cb999a1c1db8436cb2055d8f79ab520...   2017.0  1400000   \n",
       "\n",
       "         job_position  ctc_updated_year  \n",
       "0               Other            2020.0  \n",
       "1  FullStack Engineer            2019.0  \n",
       "2    Backend Engineer            2020.0  \n",
       "3    Backend Engineer            2019.0  \n",
       "4  FullStack Engineer            2019.0  "
      ]
     },
     "execution_count": 3,
     "metadata": {},
     "output_type": "execute_result"
    }
   ],
   "source": [
    "#Check the data\n",
    "df.head()"
   ]
  },
  {
   "cell_type": "code",
   "execution_count": 4,
   "id": "e8a918f5",
   "metadata": {
    "execution": {
     "iopub.execute_input": "2023-12-07T16:09:01.856763Z",
     "iopub.status.busy": "2023-12-07T16:09:01.856292Z",
     "iopub.status.idle": "2023-12-07T16:09:01.864457Z",
     "shell.execute_reply": "2023-12-07T16:09:01.862756Z"
    },
    "papermill": {
     "duration": 0.02579,
     "end_time": "2023-12-07T16:09:01.867724",
     "exception": false,
     "start_time": "2023-12-07T16:09:01.841934",
     "status": "completed"
    },
    "tags": []
   },
   "outputs": [
    {
     "data": {
      "text/plain": [
       "(205843, 7)"
      ]
     },
     "execution_count": 4,
     "metadata": {},
     "output_type": "execute_result"
    }
   ],
   "source": [
    "#Check Total Number of Rows and Columns:\n",
    "df.shape"
   ]
  },
  {
   "cell_type": "markdown",
   "id": "8a0ed83d",
   "metadata": {
    "papermill": {
     "duration": 0.015799,
     "end_time": "2023-12-07T16:09:01.898892",
     "exception": false,
     "start_time": "2023-12-07T16:09:01.883093",
     "status": "completed"
    },
    "tags": []
   },
   "source": [
    "## Data Set Overview\n",
    "\n",
    "The provided data set is a comprehensive collection of anonymized information, pivotal for understanding the professional landscape of learners enrolled in Scaler's programs. It is structured to facilitate the clustering of learners based on their job profiles and employment details. The data set is organized as follows:\n",
    "\n",
    "1. **‘Unnamed 0’**: This column serves as the index for the dataset, providing a unique identifier for each entry. It allows for easy referencing and sorting of the data.\n",
    "\n",
    "2. **Email_hash**: To maintain privacy and confidentiality, personal identifiers such as email addresses are anonymized. This ensures the protection of personal information while allowing for individual-level analysis.\n",
    "\n",
    "3. **Company_hash**: Reflecting the current employer of each learner, this field is also anonymized. It provides insights into the range of companies represented in the dataset and enables analysis of trends across different employers.\n",
    "\n",
    "4. **orgyear**: This denotes the employment start date of each learner. It is crucial for understanding the duration of their experience with their current employer, which can be a factor in analyzing job stability or career progression.\n",
    "\n",
    "5. **CTC (Cost to Company)**: This indicates the current salary package of the learners. Analyzing this information helps in understanding compensation trends across various job positions and companies.\n",
    "\n",
    "6. **Job_position**: It details the specific job profile or title held by the learner in their company. This information is key to identifying common career paths and popular roles among Scaler's learners.\n",
    "\n",
    "7. **CTC_updated_year**: This field records the year in which the learner’s salary was last updated, which could be due to yearly increments, promotions, or other changes. This data point is essential for analyzing salary progression and the impact of career advancements on compensation.\n",
    "\n",
    "Overall, this dataset offers a rich source of information for profiling the best companies and job positions. By clustering learners based on these features, insights can be drawn about career trajectories, industry standards for compensation, and prevalent job roles in the tech sector. This analysis will not only benefit Scaler in customizing its programs but also provide valuable insights for learners and professionals in navigating their career paths."
   ]
  },
  {
   "cell_type": "markdown",
   "id": "70ff206c",
   "metadata": {
    "papermill": {
     "duration": 0.012817,
     "end_time": "2023-12-07T16:09:01.924993",
     "exception": false,
     "start_time": "2023-12-07T16:09:01.912176",
     "status": "completed"
    },
    "tags": []
   },
   "source": [
    "### Exploratory Data Analysis (EDA) Steps:\n",
    "\n",
    "1. **Initial Inspection**:\n",
    "   - Load the dataset and display the first few rows to get a sense of the data structure.\n",
    "   - Check the total number of rows and columns.\n",
    "\n",
    "2. **Data Types and Missing Values**:\n",
    "   - Identify the data types of each column (numerical, categorical, datetime, etc.).\n",
    "   - Check for missing values and decide on strategies for handling them (e.g., imputation, removal).\n",
    "\n",
    "3. **Statistical Summary**:\n",
    "   - Generate a statistical summary for numerical features (mean, median, standard deviation, etc.).\n",
    "   - For categorical features, look at the frequency of each category.\n",
    "\n",
    "4. **Univariate Analysis**:\n",
    "   - Analyze the distribution of each individual variable using histograms, box plots, or bar charts as appropriate.\n",
    "   - For continuous variables, identify any outliers.\n",
    "\n",
    "5. **Bivariate/Multivariate Analysis**:\n",
    "   - Explore the relationships between pairs or groups of variables.\n",
    "   - Use scatter plots, correlation matrices, and cross-tabulations for this purpose.\n",
    "\n",
    "6. **Time Series Analysis** (if applicable):\n",
    "   - If the dataset contains time-related information (like 'orgyear' or 'CTC_updated_year'), perform a time series analysis.\n",
    "   - Look for trends, seasonality, or patterns over time.\n"
   ]
  },
  {
   "cell_type": "code",
   "execution_count": 5,
   "id": "6d51199e",
   "metadata": {
    "execution": {
     "iopub.execute_input": "2023-12-07T16:09:02.043986Z",
     "iopub.status.busy": "2023-12-07T16:09:02.043472Z",
     "iopub.status.idle": "2023-12-07T16:09:02.088749Z",
     "shell.execute_reply": "2023-12-07T16:09:02.087680Z"
    },
    "papermill": {
     "duration": 0.150668,
     "end_time": "2023-12-07T16:09:02.091371",
     "exception": false,
     "start_time": "2023-12-07T16:09:01.940703",
     "status": "completed"
    },
    "tags": []
   },
   "outputs": [
    {
     "data": {
      "text/plain": [
       "Unnamed: 0            int64\n",
       "company_hash         object\n",
       "email_hash           object\n",
       "orgyear             float64\n",
       "ctc                   int64\n",
       "job_position         object\n",
       "ctc_updated_year    float64\n",
       "dtype: object"
      ]
     },
     "execution_count": 5,
     "metadata": {},
     "output_type": "execute_result"
    }
   ],
   "source": [
    "# Identifying the data types of each column\n",
    "data_types = df.dtypes\n",
    "\n",
    "# Checking for missing values\n",
    "missing_values = df.isnull().sum()\n",
    "\n",
    "data_types"
   ]
  },
  {
   "cell_type": "code",
   "execution_count": 6,
   "id": "1ce1b60a",
   "metadata": {
    "execution": {
     "iopub.execute_input": "2023-12-07T16:09:02.119685Z",
     "iopub.status.busy": "2023-12-07T16:09:02.119254Z",
     "iopub.status.idle": "2023-12-07T16:09:02.127282Z",
     "shell.execute_reply": "2023-12-07T16:09:02.126156Z"
    },
    "papermill": {
     "duration": 0.025012,
     "end_time": "2023-12-07T16:09:02.129566",
     "exception": false,
     "start_time": "2023-12-07T16:09:02.104554",
     "status": "completed"
    },
    "tags": []
   },
   "outputs": [
    {
     "data": {
      "text/plain": [
       "Unnamed: 0              0\n",
       "company_hash           44\n",
       "email_hash              0\n",
       "orgyear                86\n",
       "ctc                     0\n",
       "job_position        52564\n",
       "ctc_updated_year        0\n",
       "dtype: int64"
      ]
     },
     "execution_count": 6,
     "metadata": {},
     "output_type": "execute_result"
    }
   ],
   "source": [
    "missing_values"
   ]
  },
  {
   "cell_type": "markdown",
   "id": "22ca8ade",
   "metadata": {
    "papermill": {
     "duration": 0.013331,
     "end_time": "2023-12-07T16:09:02.156537",
     "exception": false,
     "start_time": "2023-12-07T16:09:02.143206",
     "status": "completed"
    },
    "tags": []
   },
   "source": [
    "The information about missing values in your dataset indicates that certain columns have a significant number of missing entries. Here's how you can address these:\n",
    "\n",
    "1. **company_hash** (44 missing values): \n",
    "   - Since there are relatively few missing values, you could either remove rows with missing `company_hash` or impute them. If `company_hash` is critical for your analysis and cannot be accurately imputed, it might be safer to remove these rows.\n",
    "\n",
    "2. **orgyear** (86 missing values): \n",
    "   - Similar to `company_hash`, you can opt to remove rows with missing `orgyear` values, especially if this information is crucial for your analysis. Alternatively, if the missing values are not significant in the context of your analysis or if the pattern of missing data is random, you might consider imputation based on the median or mode (since it's a year value).\n",
    "\n",
    "3. **job_position** (52,564 missing values):\n",
    "   - This column presents a major concern due to the high number of missing values. If `job_position` is essential for your clustering analysis, this amount of missing data could be problematic. You might need to consider whether this column can be reliably used or whether it should be excluded from your analysis. If it's not crucial for your analysis, you could remove this column. Otherwise, you would need a robust method for imputation, if feasible, or consider acquiring more complete data.\n",
    "\n",
    "For each column with missing data, the choice between removal and imputation should be guided by the importance of the column to your analysis and the nature of the missing data. If the missing data is random and constitutes a small percentage of the total data, imputation is often a viable option. On the other hand, if the missing data is systematic or constitutes a significant portion of the data, it might be more prudent to remove the affected rows or columns, especially if they are not critical for your analysis."
   ]
  },
  {
   "cell_type": "code",
   "execution_count": 7,
   "id": "ec35e213",
   "metadata": {
    "execution": {
     "iopub.execute_input": "2023-12-07T16:09:02.184996Z",
     "iopub.status.busy": "2023-12-07T16:09:02.184537Z",
     "iopub.status.idle": "2023-12-07T16:09:02.462013Z",
     "shell.execute_reply": "2023-12-07T16:09:02.460609Z"
    },
    "papermill": {
     "duration": 0.295724,
     "end_time": "2023-12-07T16:09:02.465550",
     "exception": false,
     "start_time": "2023-12-07T16:09:02.169826",
     "status": "completed"
    },
    "tags": []
   },
   "outputs": [
    {
     "name": "stdout",
     "output_type": "stream",
     "text": [
      "          Unnamed: 0        orgyear           ctc  ctc_updated_year\n",
      "count  205843.000000  205757.000000  2.058430e+05     205843.000000\n",
      "mean   103273.941786    2014.882750  2.271685e+06       2019.628231\n",
      "std     59741.306484      63.571115  1.180091e+07          1.325104\n",
      "min         0.000000       0.000000  2.000000e+00       2015.000000\n",
      "25%     51518.500000    2013.000000  5.300000e+05       2019.000000\n",
      "50%    103151.000000    2016.000000  9.500000e+05       2020.000000\n",
      "75%    154992.500000    2018.000000  1.700000e+06       2021.000000\n",
      "max    206922.000000   20165.000000  1.000150e+09       2021.000000\n"
     ]
    }
   ],
   "source": [
    "# Since the dataset cannot be directly accessed, here is the code that you can run on your local environment\n",
    "\n",
    "# For Statistical Summary of Numerical Features\n",
    "numerical_summary = df.describe()\n",
    "\n",
    "# For Frequency of Each Category in Categorical Features\n",
    "company_hash_freq = df['company_hash'].value_counts()\n",
    "email_hash_freq = df['email_hash'].value_counts()\n",
    "job_position_freq = df['job_position'].value_counts()\n",
    "\n",
    "# The result variables 'numerical_summary', 'company_hash_freq', 'email_hash_freq', and 'job_position_freq' \n",
    "# will contain the required statistical summaries. You can view these by printing them out.\n",
    "print(numerical_summary)\n",
    "\n"
   ]
  },
  {
   "cell_type": "code",
   "execution_count": 8,
   "id": "2ef1caf7",
   "metadata": {
    "execution": {
     "iopub.execute_input": "2023-12-07T16:09:02.494640Z",
     "iopub.status.busy": "2023-12-07T16:09:02.494176Z",
     "iopub.status.idle": "2023-12-07T16:09:02.502540Z",
     "shell.execute_reply": "2023-12-07T16:09:02.501244Z"
    },
    "papermill": {
     "duration": 0.026297,
     "end_time": "2023-12-07T16:09:02.505342",
     "exception": false,
     "start_time": "2023-12-07T16:09:02.479045",
     "status": "completed"
    },
    "tags": []
   },
   "outputs": [
    {
     "name": "stdout",
     "output_type": "stream",
     "text": [
      "company_hash\n",
      "nvnv wgzohrnvzwj otqcxwto         8337\n",
      "xzegojo                           5381\n",
      "vbvkgz                            3481\n",
      "zgn vuurxwvmrt vwwghzn            3411\n",
      "wgszxkvzn                         3240\n",
      "                                  ... \n",
      "onvqmhwpo                            1\n",
      "bvsxw ogenfvqt uqxcvnt rxbxnta       1\n",
      "agsbv ojontbo                        1\n",
      "vnnhzt xzegwgb                       1\n",
      "bvptbjnqxu td vbvkgz                 1\n",
      "Name: count, Length: 37299, dtype: int64\n"
     ]
    }
   ],
   "source": [
    "print(company_hash_freq)"
   ]
  },
  {
   "cell_type": "code",
   "execution_count": 9,
   "id": "3373274e",
   "metadata": {
    "execution": {
     "iopub.execute_input": "2023-12-07T16:09:02.535454Z",
     "iopub.status.busy": "2023-12-07T16:09:02.534996Z",
     "iopub.status.idle": "2023-12-07T16:09:02.543022Z",
     "shell.execute_reply": "2023-12-07T16:09:02.541703Z"
    },
    "papermill": {
     "duration": 0.026482,
     "end_time": "2023-12-07T16:09:02.545546",
     "exception": false,
     "start_time": "2023-12-07T16:09:02.519064",
     "status": "completed"
    },
    "tags": []
   },
   "outputs": [
    {
     "name": "stdout",
     "output_type": "stream",
     "text": [
      "email_hash\n",
      "bbace3cc586400bbc65765bc6a16b77d8913836cfc98b77c05488f02f5714a4b    10\n",
      "6842660273f70e9aa239026ba33bfe82275d6ab0d20124021b952b5bc3d07e6c     9\n",
      "298528ce3160cc761e4dc37a07337ee2e0589df251d73645aae209b010210eee     9\n",
      "3e5e49daa5527a6d5a33599b238bf9bf31e85b9efa9a94f1c88c5e15a6f31378     9\n",
      "b4d5afa09bec8689017d8b29701b80d664ca37b83cb883376b2e95191320da66     8\n",
      "                                                                    ..\n",
      "bb2fe5e655ada7f7b7ac4a614db0b9c560e796bdfcaa4e5367e69eedfea93876     1\n",
      "d6cdef97e759dbf1b7522babccbbbd5f164a75d1b4139e02c945958720f1ed79     1\n",
      "700d1190c17aaa3f2dd9070e47a4c042ecd9205333545dbfaee0f85644d00306     1\n",
      "c2a1c9e4b9f4e1ed7d889ee4560102c1e2235b2c1a0e59cea95a6fe55c658407     1\n",
      "0bcfc1d05f2e8dc4147743a1313aa70a119b41b30d4a1f7e738a6a87d3712c31     1\n",
      "Name: count, Length: 153443, dtype: int64\n"
     ]
    }
   ],
   "source": [
    "print(email_hash_freq)"
   ]
  },
  {
   "cell_type": "code",
   "execution_count": 10,
   "id": "c05afddf",
   "metadata": {
    "execution": {
     "iopub.execute_input": "2023-12-07T16:09:02.575482Z",
     "iopub.status.busy": "2023-12-07T16:09:02.575049Z",
     "iopub.status.idle": "2023-12-07T16:09:02.582140Z",
     "shell.execute_reply": "2023-12-07T16:09:02.581114Z"
    },
    "papermill": {
     "duration": 0.025914,
     "end_time": "2023-12-07T16:09:02.585028",
     "exception": false,
     "start_time": "2023-12-07T16:09:02.559114",
     "status": "completed"
    },
    "tags": []
   },
   "outputs": [
    {
     "name": "stdout",
     "output_type": "stream",
     "text": [
      "job_position\n",
      "Backend Engineer                 43554\n",
      "FullStack Engineer               24717\n",
      "Other                            18071\n",
      "Frontend Engineer                10417\n",
      "Engineering Leadership            6870\n",
      "                                 ...  \n",
      "PhD. Student                         1\n",
      "Front-End Developer                  1\n",
      "ayS                                  1\n",
      "Principal Product Engineer           1\n",
      "Android Application developer        1\n",
      "Name: count, Length: 1016, dtype: int64\n"
     ]
    }
   ],
   "source": [
    "print(job_position_freq)"
   ]
  },
  {
   "cell_type": "markdown",
   "id": "b26aca55",
   "metadata": {
    "papermill": {
     "duration": 0.013275,
     "end_time": "2023-12-07T16:09:02.611994",
     "exception": false,
     "start_time": "2023-12-07T16:09:02.598719",
     "status": "completed"
    },
    "tags": []
   },
   "source": [
    "Based on the statistical summary and frequency counts you provided, here's an analysis of each aspect of your dataset:\n",
    "\n",
    "### Statistical Summary of Numerical Features:\n",
    "\n",
    "1. **Unnamed: 0**:\n",
    "   - Range: 0 to 206,922.\n",
    "   - This is likely an index column, so its statistical properties might not be relevant for analysis.\n",
    "\n",
    "2. **orgyear**:\n",
    "   - Mean Year: 2014.88 (indicative of average employment start year).\n",
    "   - Standard Deviation: 63.57 (suggests some irregularities or incorrect entries, as normal work years wouldn't have such high deviation).\n",
    "   - Min: 0 and Max: 20,165 (implies data entry errors since these are not valid years).\n",
    "\n",
    "3. **ctc**:\n",
    "   - Mean: 2,271,685 (average CTC).\n",
    "   - Standard Deviation: 11,800,910 (indicates high variance in CTC).\n",
    "   - Min: 2 and Max: 1,000,150,000 (extremely low and high values suggest outliers or incorrect entries).\n",
    "\n",
    "4. **ctc_updated_year**:\n",
    "   - Range: 2015 to 2021 (years when CTC was updated).\n",
    "   - The data seems consistent for this feature.\n",
    "\n",
    "### Frequency Counts of Categorical Features:\n",
    "\n",
    "1. **company_hash**:\n",
    "   - The top companies have thousands of entries (e.g., 8,337 for the top one), while many companies only have a single entry.\n",
    "   - This suggests a highly varied representation of companies in the dataset.\n",
    "\n",
    "2. **email_hash**:\n",
    "   - The frequency of unique email hashes varies, with a maximum count of 10 for the most frequent one.\n",
    "   - Most email hashes are unique, as expected.\n",
    "\n",
    "3. **job_position**:\n",
    "   - The most common positions are 'Backend Engineer' and 'FullStack Engineer'.\n",
    "   - A wide range of job positions is present, with some having very few entries (suggesting a diverse set of roles among the learners).\n",
    "\n",
    "### Points of Consideration:\n",
    "\n",
    "- **Data Cleaning**: There is a need to clean the data, especially in the `orgyear` and `ctc` columns where unrealistic values are present.\n",
    "- **Outlier Handling**: Extreme values in `ctc` should be investigated and handled.\n",
    "- **Validity of Entries**: Ensure that entries like 'orgyear' are within a realistic range (e.g., 1900 - present year).\n",
    "- **Categorical Data Analysis**: The wide range in the frequency of categories in `company_hash` and `job_position` indicates diverse representation, which is crucial for clustering.\n",
    "\n",
    "This analysis gives you a foundational understanding of your dataset's characteristics and can guide further data processing, cleaning, and analysis steps."
   ]
  },
  {
   "cell_type": "markdown",
   "id": "5ba64c17",
   "metadata": {
    "papermill": {
     "duration": 0.013535,
     "end_time": "2023-12-07T16:09:02.639633",
     "exception": false,
     "start_time": "2023-12-07T16:09:02.626098",
     "status": "completed"
    },
    "tags": []
   },
   "source": [
    "**Univariate Analysis**:\n",
    "   - Analyze the distribution of each individual variable using histograms, box plots, or bar charts as appropriate.\n",
    "   - For continuous variables, identify any outliers."
   ]
  },
  {
   "cell_type": "code",
   "execution_count": 11,
   "id": "169d3667",
   "metadata": {
    "execution": {
     "iopub.execute_input": "2023-12-07T16:09:02.670823Z",
     "iopub.status.busy": "2023-12-07T16:09:02.669528Z",
     "iopub.status.idle": "2023-12-07T16:09:06.627798Z",
     "shell.execute_reply": "2023-12-07T16:09:06.626402Z"
    },
    "papermill": {
     "duration": 3.977127,
     "end_time": "2023-12-07T16:09:06.630688",
     "exception": false,
     "start_time": "2023-12-07T16:09:02.653561",
     "status": "completed"
    },
    "tags": []
   },
   "outputs": [
    {
     "data": {
      "image/png": "[encoded data removed]",
      "text/plain": [
       "<Figure size 1500x500 with 3 Axes>"
      ]
     },
     "metadata": {},
     "output_type": "display_data"
    }
   ],
   "source": [
    "# Histograms for Continuous Variables (orgyear, ctc, ctc_updated_year)\n",
    "plt.figure(figsize=(15, 5))\n",
    "\n",
    "# Histogram for 'orgyear'\n",
    "plt.subplot(1, 3, 1)\n",
    "sns.histplot(df['orgyear'], bins=30, kde=True)\n",
    "plt.title('Distribution of orgyear')\n",
    "\n",
    "# Histogram for 'ctc'\n",
    "plt.subplot(1, 3, 2)\n",
    "sns.histplot(df['ctc'], bins=30, kde=True)\n",
    "plt.title('Distribution of ctc')\n",
    "\n",
    "# Histogram for 'ctc_updated_year'\n",
    "plt.subplot(1, 3, 3)\n",
    "sns.histplot(df['ctc_updated_year'], bins=30, kde=True)\n",
    "plt.title('Distribution of ctc_updated_year')\n",
    "\n",
    "plt.tight_layout()\n",
    "plt.show()"
   ]
  },
  {
   "cell_type": "code",
   "execution_count": 12,
   "id": "bf66e2aa",
   "metadata": {
    "execution": {
     "iopub.execute_input": "2023-12-07T16:09:06.663930Z",
     "iopub.status.busy": "2023-12-07T16:09:06.663443Z",
     "iopub.status.idle": "2023-12-07T16:09:07.361003Z",
     "shell.execute_reply": "2023-12-07T16:09:07.359600Z"
    },
    "papermill": {
     "duration": 0.717473,
     "end_time": "2023-12-07T16:09:07.363746",
     "exception": false,
     "start_time": "2023-12-07T16:09:06.646273",
     "status": "completed"
    },
    "tags": []
   },
   "outputs": [
    {
     "data": {
      "image/png": "[encoded data removed]",
      "text/plain": [
       "<Figure size 1500x500 with 3 Axes>"
      ]
     },
     "metadata": {},
     "output_type": "display_data"
    }
   ],
   "source": [
    "# Box Plots for Identifying Outliers in Continuous Variables\n",
    "plt.figure(figsize=(15, 5))\n",
    "\n",
    "# Box Plot for 'orgyear'\n",
    "plt.subplot(1, 3, 1)\n",
    "sns.boxplot(df['orgyear'])\n",
    "plt.title('Box Plot of orgyear')\n",
    "\n",
    "# Box Plot for 'ctc'\n",
    "plt.subplot(1, 3, 2)\n",
    "sns.boxplot(df['ctc'])\n",
    "plt.title('Box Plot of ctc')\n",
    "\n",
    "# Box Plot for 'ctc_updated_year'\n",
    "plt.subplot(1, 3, 3)\n",
    "sns.boxplot(df['ctc_updated_year'])\n",
    "plt.title('Box Plot of ctc_updated_year')\n",
    "\n",
    "plt.tight_layout()\n",
    "plt.show()"
   ]
  },
  {
   "cell_type": "code",
   "execution_count": 13,
   "id": "e553efdd",
   "metadata": {
    "execution": {
     "iopub.execute_input": "2023-12-07T16:09:07.398593Z",
     "iopub.status.busy": "2023-12-07T16:09:07.397274Z",
     "iopub.status.idle": "2023-12-07T16:09:08.057349Z",
     "shell.execute_reply": "2023-12-07T16:09:08.055967Z"
    },
    "papermill": {
     "duration": 0.680764,
     "end_time": "2023-12-07T16:09:08.060270",
     "exception": false,
     "start_time": "2023-12-07T16:09:07.379506",
     "status": "completed"
    },
    "tags": []
   },
   "outputs": [
    {
     "data": {
      "image/png": "[encoded data removed]",
      "text/plain": [
       "<Figure size 1000x600 with 1 Axes>"
      ]
     },
     "metadata": {},
     "output_type": "display_data"
    },
    {
     "data": {
      "image/png": "[encoded data removed]",
      "text/plain": [
       "<Figure size 1000x600 with 1 Axes>"
      ]
     },
     "metadata": {},
     "output_type": "display_data"
    }
   ],
   "source": [
    "# Bar Charts for Categorical Variables (company_hash, job_position)\n",
    "# Given the high number of unique categories, it's advisable to only plot the top categories for clarity.\n",
    "\n",
    "# Top 10 company_hash\n",
    "top_companies = df['company_hash'].value_counts().head(10)\n",
    "plt.figure(figsize=(10, 6))\n",
    "sns.barplot(x=top_companies.values, y=top_companies.index)\n",
    "plt.title('Top 10 Companies')\n",
    "plt.xlabel('Frequency')\n",
    "plt.ylabel('Company Hash')\n",
    "plt.show()\n",
    "\n",
    "# Top 10 job_position\n",
    "top_jobs = df['job_position'].value_counts().head(10)\n",
    "plt.figure(figsize=(10, 6))\n",
    "sns.barplot(x=top_jobs.values, y=top_jobs.index)\n",
    "plt.title('Top 10 Job Positions')\n",
    "plt.xlabel('Frequency')\n",
    "plt.ylabel('Job Position')\n",
    "plt.show()\n"
   ]
  },
  {
   "cell_type": "markdown",
   "id": "981dbf1e",
   "metadata": {
    "papermill": {
     "duration": 0.017185,
     "end_time": "2023-12-07T16:09:08.094535",
     "exception": false,
     "start_time": "2023-12-07T16:09:08.077350",
     "status": "completed"
    },
    "tags": []
   },
   "source": [
    "Here's an interpretation of the visualizations:\n",
    "\n",
    "### Histograms and Box Plots:\n",
    "\n",
    "1. **orgyear**:\n",
    "   - The histogram for `orgyear` shows a peak at a value near zero, which is not possible for actual years and indicates data errors or outliers. The box plot confirms the presence of these extreme values, which should be addressed during data cleaning.\n",
    "\n",
    "2. **ctc**:\n",
    "   - The histogram for `ctc` shows a very high peak at the lower end of the salary range, suggesting that most of the CTC values are relatively low, with a few extreme high values creating a long tail. This is a right-skewed distribution. The box plot displays a number of outliers above the upper whisker, indicating some CTC values are significantly higher than the rest.\n",
    "\n",
    "3. **ctc_updated_year**:\n",
    "   - The histogram for `ctc_updated_year` reveals that the majority of CTC updates occurred in recent years, with a particularly high frequency in 2020 and 2021. The box plot does not indicate any outliers and shows a median around 2020, which aligns with the increased frequency observed in the histogram.\n",
    "\n",
    "### Bar Charts:\n",
    "\n",
    "1. **Top 10 Companies**:\n",
    "   - The bar chart displays the top 10 companies by frequency. The company with the highest frequency has significantly more occurrences than the others, which may indicate a major employer for the learners or a key partner of Scaler.\n",
    "\n",
    "2. **Top 10 Job Positions**:\n",
    "   - The bar chart for job positions shows 'Backend Engineer' as the most frequent job position, followed by 'FullStack Engineer' and 'Other'. The 'Other' category suggests a variety of roles that are not captured by the predefined job titles.\n",
    "\n",
    "### Observations and Next Steps:\n",
    "\n",
    "- **Data Cleaning**: You should consider cleaning the `orgyear` data to remove or correct the invalid entries.\n",
    "- **Outlier Management**: For the `ctc` data, it would be worthwhile to further investigate the outliers to determine if they are errors or valid extreme values. If they are errors, they should be corrected or removed; if they are valid, they may need to be treated separately in the analysis.\n",
    "- **CTC Updates**: The distribution of `ctc_updated_year` suggests that the learners' salaries are frequently updated, which could be a reflection of the dynamic nature of the tech industry.\n",
    "- **Company and Job Analysis**: The company and job position distributions can provide insights into the most common career pathways and corporate associations within the Scaler community.\n",
    "\n",
    "The univariate analysis has provided a clear picture of the distribution of key variables and will be an essential component of the broader data analysis and clustering task."
   ]
  },
  {
   "cell_type": "code",
   "execution_count": 14,
   "id": "8b36ed1b",
   "metadata": {
    "execution": {
     "iopub.execute_input": "2023-12-07T16:09:08.130525Z",
     "iopub.status.busy": "2023-12-07T16:09:08.129271Z",
     "iopub.status.idle": "2023-12-07T16:09:09.300873Z",
     "shell.execute_reply": "2023-12-07T16:09:09.299599Z"
    },
    "papermill": {
     "duration": 1.192786,
     "end_time": "2023-12-07T16:09:09.303870",
     "exception": false,
     "start_time": "2023-12-07T16:09:08.111084",
     "status": "completed"
    },
    "tags": []
   },
   "outputs": [
    {
     "data": {
      "image/png": "[encoded data removed]",
      "text/plain": [
       "<Figure size 1000x600 with 1 Axes>"
      ]
     },
     "metadata": {},
     "output_type": "display_data"
    },
    {
     "data": {
      "image/png": "[encoded data removed]",
      "text/plain": [
       "<Figure size 1000x800 with 2 Axes>"
      ]
     },
     "metadata": {},
     "output_type": "display_data"
    }
   ],
   "source": [
    "# Ensure 'orgyear' and 'ctc' are numeric (float or int)\n",
    "df['orgyear'] = pd.to_numeric(df['orgyear'], errors='coerce')\n",
    "df['ctc'] = pd.to_numeric(df['ctc'], errors='coerce')\n",
    "\n",
    "# Drop rows with NaN values in these columns if necessary\n",
    "df = df.dropna(subset=['orgyear', 'ctc'])\n",
    "\n",
    "# Scatter Plot for 'ctc' vs 'orgyear'\n",
    "plt.figure(figsize=(10, 6))\n",
    "sns.scatterplot(x='orgyear', y='ctc', data=df)\n",
    "plt.title('CTC vs Employment Start Year')\n",
    "plt.xlabel('Employment Start Year')\n",
    "plt.ylabel('CTC')\n",
    "plt.show()\n",
    "\n",
    "# Correlation Matrix for all numerical variables\n",
    "# Exclude non-numeric columns for correlation matrix\n",
    "numeric_cols = df.select_dtypes(include=[np.number]).columns\n",
    "correlation_matrix = df[numeric_cols].corr()\n",
    "\n",
    "# Plotting the heatmap for the correlation matrix\n",
    "plt.figure(figsize=(10, 8))\n",
    "sns.heatmap(correlation_matrix, annot=True, cmap='coolwarm', linewidths=.5)\n",
    "plt.title('Correlation Matrix of Numerical Variables')\n",
    "plt.show()"
   ]
  },
  {
   "cell_type": "markdown",
   "id": "b16cf4cb",
   "metadata": {
    "papermill": {
     "duration": 0.018035,
     "end_time": "2023-12-07T16:09:09.340120",
     "exception": false,
     "start_time": "2023-12-07T16:09:09.322085",
     "status": "completed"
    },
    "tags": []
   },
   "source": [
    "The analysis has generated two visualizations:\n",
    "\n",
    "### Scatter Plot:\n",
    "The scatter plot of 'CTC' versus 'Employment Start Year' (`orgyear`) might be indicating some form of relationship, but given the warning about the edgecolor, it seems there might be an issue with the plot's rendering. Typically, one would look for trends such as increasing CTC with the length of employment. However, the plot appears somewhat sparse, possibly due to extreme values or sparse data points. It would be advisable to zoom in on the more densely populated areas of the plot or to clean the data further to get a more meaningful visualization.\n",
    "\n",
    "### Correlation Matrix:\n",
    "The heatmap displays the correlation coefficients between the numerical variables in your dataset. A value close to 1 indicates a strong positive correlation, whereas a value close to -1 indicates a strong negative correlation. Values near 0 indicate no correlation. The heatmap suggests the degree to which these variables move in tandem with one another. However, without seeing the actual correlation values, we can't make specific interpretations.\n",
    "\n",
    "For more detailed insights, you would need to interpret the correlation values and possibly take further steps such as:\n",
    "\n",
    "- Cleaning the data to remove outliers or incorrect entries.\n",
    "- Zooming in on specific areas of the scatter plot or adjusting the axes limits to better understand the data distribution.\n",
    "- Investigating the relationships between categorical and numerical variables using other techniques such as ANOVA or regression analysis."
   ]
  },
  {
   "cell_type": "code",
   "execution_count": 15,
   "id": "a3d36764",
   "metadata": {
    "execution": {
     "iopub.execute_input": "2023-12-07T16:09:09.379634Z",
     "iopub.status.busy": "2023-12-07T16:09:09.378873Z",
     "iopub.status.idle": "2023-12-07T16:09:10.747173Z",
     "shell.execute_reply": "2023-12-07T16:09:10.746318Z"
    },
    "papermill": {
     "duration": 1.390815,
     "end_time": "2023-12-07T16:09:10.749455",
     "exception": false,
     "start_time": "2023-12-07T16:09:09.358640",
     "status": "completed"
    },
    "tags": []
   },
   "outputs": [
    {
     "data": {
      "image/png": "[encoded data removed]",
      "text/plain": [
       "<Figure size 1400x700 with 1 Axes>"
      ]
     },
     "metadata": {},
     "output_type": "display_data"
    }
   ],
   "source": [
    "# Convert 'orgyear' and 'CTC_updated_year' to datetime (assuming the year is the only information available)\n",
    "df['orgyear'] = pd.to_datetime(df['orgyear'], format='%Y', errors='coerce')\n",
    "df['ctc_updated_year'] = pd.to_datetime(df['ctc_updated_year'], format='%Y', errors='coerce')\n",
    "\n",
    "# Drop rows with NaN values in these columns if necessary\n",
    "df = df.dropna(subset=['orgyear', 'ctc_updated_year'])\n",
    "\n",
    "# Set the date columns as the index of the dataframe\n",
    "df.set_index('orgyear', inplace=True)\n",
    "\n",
    "# Sort the data by the index\n",
    "df.sort_index(inplace=True)\n",
    "\n",
    "# Time Series Analysis\n",
    "# Plotting trends over time for 'ctc'\n",
    "plt.figure(figsize=(14, 7))\n",
    "df['ctc'].plot(title='CTC Over Time')\n",
    "plt.ylabel('CTC')\n",
    "plt.show()"
   ]
  },
  {
   "cell_type": "code",
   "execution_count": 16,
   "id": "73536915",
   "metadata": {
    "execution": {
     "iopub.execute_input": "2023-12-07T16:09:10.791213Z",
     "iopub.status.busy": "2023-12-07T16:09:10.790044Z",
     "iopub.status.idle": "2023-12-07T16:09:11.129879Z",
     "shell.execute_reply": "2023-12-07T16:09:11.128717Z"
    },
    "papermill": {
     "duration": 0.36387,
     "end_time": "2023-12-07T16:09:11.132429",
     "exception": false,
     "start_time": "2023-12-07T16:09:10.768559",
     "status": "completed"
    },
    "tags": []
   },
   "outputs": [
    {
     "data": {
      "image/png": "[encoded data removed]",
      "text/plain": [
       "<Figure size 1400x700 with 1 Axes>"
      ]
     },
     "metadata": {},
     "output_type": "display_data"
    }
   ],
   "source": [
    "# Reset index for further analysis\n",
    "df.reset_index(inplace=True)\n",
    "\n",
    "# Seasonality Analysis for 'CTC_updated_year'\n",
    "# Grouping by 'CTC_updated_year' to see how many updates per year\n",
    "updates_per_year = df.groupby(df['ctc_updated_year'].dt.year).size()\n",
    "\n",
    "plt.figure(figsize=(14, 7))\n",
    "updates_per_year.plot(title='Number of CTC Updates Over Years')\n",
    "plt.ylabel('Number of Updates')\n",
    "plt.xlabel('Year')\n",
    "plt.show()"
   ]
  },
  {
   "cell_type": "markdown",
   "id": "df54367c",
   "metadata": {
    "papermill": {
     "duration": 0.01875,
     "end_time": "2023-12-07T16:09:11.170416",
     "exception": false,
     "start_time": "2023-12-07T16:09:11.151666",
     "status": "completed"
    },
    "tags": []
   },
   "source": [
    "The two visualizations for time series analysis:\n",
    "\n",
    "1. **CTC Over Time**:\n",
    "   - The first plot shows the CTC values over time based on the 'orgyear'. This could indicate how the CTC has trended over the years. However, without seeing the actual plot, it's difficult to make specific interpretations. In general, you'd look for upward or downward trends that could indicate changes in salary scales over time.\n",
    "\n",
    "2. **Number of CTC Updates Over Years**:\n",
    "   - The second plot shows the number of CTC updates each year based on 'ctc_updated_year'. This helps to understand the frequency of salary updates and might indicate periods of high activity, such as promotions or salary increments. \n",
    "\n",
    "In both cases, these plots can help identify trends and seasonality, such as certain times of the year when salary updates are more common. These insights could be used for strategic planning, such as determining the best times for salary reviews or recruitment drives."
   ]
  },
  {
   "cell_type": "markdown",
   "id": "844131ae",
   "metadata": {
    "papermill": {
     "duration": 0.018643,
     "end_time": "2023-12-07T16:09:11.208076",
     "exception": false,
     "start_time": "2023-12-07T16:09:11.189433",
     "status": "completed"
    },
    "tags": []
   },
   "source": [
    "# STEP 2:- DATA PREPROCESSING"
   ]
  },
  {
   "cell_type": "code",
   "execution_count": 17,
   "id": "abb038e0",
   "metadata": {
    "execution": {
     "iopub.execute_input": "2023-12-07T16:09:11.248778Z",
     "iopub.status.busy": "2023-12-07T16:09:11.247559Z",
     "iopub.status.idle": "2023-12-07T16:09:11.451563Z",
     "shell.execute_reply": "2023-12-07T16:09:11.450223Z"
    },
    "papermill": {
     "duration": 0.227299,
     "end_time": "2023-12-07T16:09:11.454374",
     "exception": false,
     "start_time": "2023-12-07T16:09:11.227075",
     "status": "completed"
    },
    "tags": []
   },
   "outputs": [
    {
     "data": {
      "text/html": [
       "<div>\n",
       "<style scoped>\n",
       "    .dataframe tbody tr th:only-of-type {\n",
       "        vertical-align: middle;\n",
       "    }\n",
       "\n",
       "    .dataframe tbody tr th {\n",
       "        vertical-align: top;\n",
       "    }\n",
       "\n",
       "    .dataframe thead th {\n",
       "        text-align: right;\n",
       "    }\n",
       "</style>\n",
       "<table border=\"1\" class=\"dataframe\">\n",
       "  <thead>\n",
       "    <tr style=\"text-align: right;\">\n",
       "      <th></th>\n",
       "      <th>orgyear</th>\n",
       "      <th>Unnamed: 0</th>\n",
       "      <th>company_hash</th>\n",
       "      <th>email_hash</th>\n",
       "      <th>ctc</th>\n",
       "      <th>job_position</th>\n",
       "      <th>ctc_updated_year</th>\n",
       "    </tr>\n",
       "  </thead>\n",
       "  <tbody>\n",
       "    <tr>\n",
       "      <th>0</th>\n",
       "      <td>1900-01-01</td>\n",
       "      <td>164135</td>\n",
       "      <td>ovst xznvwwn ogenfvqt ucn rna</td>\n",
       "      <td>3da3c964efe7a5db0f63e91be25391dcaadf24d44cdc59...</td>\n",
       "      <td>3170000</td>\n",
       "      <td>Engineering Leadership</td>\n",
       "      <td>2019-01-01</td>\n",
       "    </tr>\n",
       "    <tr>\n",
       "      <th>1</th>\n",
       "      <td>1970-01-01</td>\n",
       "      <td>31400</td>\n",
       "      <td>vbagwo</td>\n",
       "      <td>86dbdeada523d09881aec29ffa56ff63aca56f0278a97e...</td>\n",
       "      <td>1800000</td>\n",
       "      <td>NaN</td>\n",
       "      <td>2021-01-01</td>\n",
       "    </tr>\n",
       "    <tr>\n",
       "      <th>2</th>\n",
       "      <td>1970-01-01</td>\n",
       "      <td>146388</td>\n",
       "      <td>hzxctqoxnj ge zgqny ntdvo</td>\n",
       "      <td>e66b927f4ee3bd0d7202bbd35486d23d68555fc03dcd54...</td>\n",
       "      <td>140000</td>\n",
       "      <td>Engineering Leadership</td>\n",
       "      <td>2020-01-01</td>\n",
       "    </tr>\n",
       "    <tr>\n",
       "      <th>3</th>\n",
       "      <td>1971-01-01</td>\n",
       "      <td>97983</td>\n",
       "      <td>wygrvbvzavrvb xzctonbtzn vza exzvzwt wg rna</td>\n",
       "      <td>dc573e5ccc7f6d36b259b939f81655454a6e41a0f79fb5...</td>\n",
       "      <td>5500000</td>\n",
       "      <td>Engineering Leadership</td>\n",
       "      <td>2019-01-01</td>\n",
       "    </tr>\n",
       "    <tr>\n",
       "      <th>4</th>\n",
       "      <td>1972-01-01</td>\n",
       "      <td>32701</td>\n",
       "      <td>st ytvrnywvqt</td>\n",
       "      <td>de72685914984cd9e1b0ec13223cd266f3c81d9517f282...</td>\n",
       "      <td>2300000</td>\n",
       "      <td>Engineering Leadership</td>\n",
       "      <td>2019-01-01</td>\n",
       "    </tr>\n",
       "    <tr>\n",
       "      <th>...</th>\n",
       "      <td>...</td>\n",
       "      <td>...</td>\n",
       "      <td>...</td>\n",
       "      <td>...</td>\n",
       "      <td>...</td>\n",
       "      <td>...</td>\n",
       "      <td>...</td>\n",
       "    </tr>\n",
       "    <tr>\n",
       "      <th>205707</th>\n",
       "      <td>2031-01-01</td>\n",
       "      <td>86150</td>\n",
       "      <td>hufgqp</td>\n",
       "      <td>e4705330da833368780aae561afc930b709360e7c6e1f5...</td>\n",
       "      <td>1100000</td>\n",
       "      <td>FullStack Engineer</td>\n",
       "      <td>2019-01-01</td>\n",
       "    </tr>\n",
       "    <tr>\n",
       "      <th>205708</th>\n",
       "      <td>2101-01-01</td>\n",
       "      <td>32272</td>\n",
       "      <td>mrvwpmhwp</td>\n",
       "      <td>f648fa217922f5a36b510df6346a2041a3483e21289069...</td>\n",
       "      <td>1200000</td>\n",
       "      <td>NaN</td>\n",
       "      <td>2021-01-01</td>\n",
       "    </tr>\n",
       "    <tr>\n",
       "      <th>205709</th>\n",
       "      <td>2106-01-01</td>\n",
       "      <td>3651</td>\n",
       "      <td>wgszxkvzn</td>\n",
       "      <td>2cc6bae4e52677d27ce3fca38d7a01ecbe537e1dc1c48d...</td>\n",
       "      <td>600000</td>\n",
       "      <td>NaN</td>\n",
       "      <td>2021-01-01</td>\n",
       "    </tr>\n",
       "    <tr>\n",
       "      <th>205710</th>\n",
       "      <td>2107-01-01</td>\n",
       "      <td>33710</td>\n",
       "      <td>sgltp</td>\n",
       "      <td>a8a779493f5844846ae536b0f48437cf9f0f6ebcac340f...</td>\n",
       "      <td>3000000</td>\n",
       "      <td>NaN</td>\n",
       "      <td>2021-01-01</td>\n",
       "    </tr>\n",
       "    <tr>\n",
       "      <th>205711</th>\n",
       "      <td>2204-01-01</td>\n",
       "      <td>158939</td>\n",
       "      <td>lu bgqsgz</td>\n",
       "      <td>799dff77b331bfac04cf005935acf7e0d16845f4f24798...</td>\n",
       "      <td>2160000</td>\n",
       "      <td>Data Scientist</td>\n",
       "      <td>2018-01-01</td>\n",
       "    </tr>\n",
       "  </tbody>\n",
       "</table>\n",
       "<p>205712 rows × 7 columns</p>\n",
       "</div>"
      ],
      "text/plain": [
       "          orgyear  Unnamed: 0                                 company_hash  \\\n",
       "0      1900-01-01      164135                ovst xznvwwn ogenfvqt ucn rna   \n",
       "1      1970-01-01       31400                                       vbagwo   \n",
       "2      1970-01-01      146388                    hzxctqoxnj ge zgqny ntdvo   \n",
       "3      1971-01-01       97983  wygrvbvzavrvb xzctonbtzn vza exzvzwt wg rna   \n",
       "4      1972-01-01       32701                                st ytvrnywvqt   \n",
       "...           ...         ...                                          ...   \n",
       "205707 2031-01-01       86150                                       hufgqp   \n",
       "205708 2101-01-01       32272                                    mrvwpmhwp   \n",
       "205709 2106-01-01        3651                                    wgszxkvzn   \n",
       "205710 2107-01-01       33710                                        sgltp   \n",
       "205711 2204-01-01      158939                                    lu bgqsgz   \n",
       "\n",
       "                                               email_hash      ctc  \\\n",
       "0       3da3c964efe7a5db0f63e91be25391dcaadf24d44cdc59...  3170000   \n",
       "1       86dbdeada523d09881aec29ffa56ff63aca56f0278a97e...  1800000   \n",
       "2       e66b927f4ee3bd0d7202bbd35486d23d68555fc03dcd54...   140000   \n",
       "3       dc573e5ccc7f6d36b259b939f81655454a6e41a0f79fb5...  5500000   \n",
       "4       de72685914984cd9e1b0ec13223cd266f3c81d9517f282...  2300000   \n",
       "...                                                   ...      ...   \n",
       "205707  e4705330da833368780aae561afc930b709360e7c6e1f5...  1100000   \n",
       "205708  f648fa217922f5a36b510df6346a2041a3483e21289069...  1200000   \n",
       "205709  2cc6bae4e52677d27ce3fca38d7a01ecbe537e1dc1c48d...   600000   \n",
       "205710  a8a779493f5844846ae536b0f48437cf9f0f6ebcac340f...  3000000   \n",
       "205711  799dff77b331bfac04cf005935acf7e0d16845f4f24798...  2160000   \n",
       "\n",
       "                  job_position ctc_updated_year  \n",
       "0       Engineering Leadership       2019-01-01  \n",
       "1                          NaN       2021-01-01  \n",
       "2       Engineering Leadership       2020-01-01  \n",
       "3       Engineering Leadership       2019-01-01  \n",
       "4       Engineering Leadership       2019-01-01  \n",
       "...                        ...              ...  \n",
       "205707      FullStack Engineer       2019-01-01  \n",
       "205708                     NaN       2021-01-01  \n",
       "205709                     NaN       2021-01-01  \n",
       "205710                     NaN       2021-01-01  \n",
       "205711          Data Scientist       2018-01-01  \n",
       "\n",
       "[205712 rows x 7 columns]"
      ]
     },
     "execution_count": 17,
     "metadata": {},
     "output_type": "execute_result"
    }
   ],
   "source": [
    "# Handling Missing Values\n",
    "\n",
    "# Check the percentage of missing values per column\n",
    "missing_percentage = df.isnull().sum() / len(df) * 100\n",
    "\n",
    "# Deciding on a threshold for dropping columns with too many missing values\n",
    "threshold = 50  # for example, if a column has more than 50% missing values, we drop the column\n",
    "\n",
    "# Dropping columns with missing value rate higher than threshold\n",
    "columns_to_drop = missing_percentage[missing_percentage > threshold].index\n",
    "df.drop(columns=columns_to_drop, inplace=True)\n",
    "\n",
    "# Imputing missing values for 'orgyear' with median\n",
    "df['orgyear'].fillna(df['orgyear'].median(), inplace=True)\n",
    "\n",
    "# Imputing missing values for 'ctc' with mean\n",
    "df['ctc'].fillna(df['ctc'].mean(), inplace=True)\n",
    "\n",
    "# For categorical columns such as 'company_hash', we can impute the missing values with the mode (the most frequent value)\n",
    "df['company_hash'].fillna(df['company_hash'].mode()[0], inplace=True)\n",
    "\n",
    "# Check the remaining missing values\n",
    "remaining_missing = df.isnull().sum()\n",
    "\n",
    "# Return the cleaned dataset and the information on remaining missing values\n",
    "df\n"
   ]
  },
  {
   "cell_type": "code",
   "execution_count": 18,
   "id": "787dc626",
   "metadata": {
    "execution": {
     "iopub.execute_input": "2023-12-07T16:09:11.499949Z",
     "iopub.status.busy": "2023-12-07T16:09:11.498874Z",
     "iopub.status.idle": "2023-12-07T16:09:11.507100Z",
     "shell.execute_reply": "2023-12-07T16:09:11.505931Z"
    },
    "papermill": {
     "duration": 0.032075,
     "end_time": "2023-12-07T16:09:11.509799",
     "exception": false,
     "start_time": "2023-12-07T16:09:11.477724",
     "status": "completed"
    },
    "tags": []
   },
   "outputs": [
    {
     "data": {
      "text/plain": [
       "orgyear                 0\n",
       "Unnamed: 0              0\n",
       "company_hash            0\n",
       "email_hash              0\n",
       "ctc                     0\n",
       "job_position        52520\n",
       "ctc_updated_year        0\n",
       "dtype: int64"
      ]
     },
     "execution_count": 18,
     "metadata": {},
     "output_type": "execute_result"
    }
   ],
   "source": [
    "remaining_missing"
   ]
  },
  {
   "cell_type": "markdown",
   "id": "5d39cfce",
   "metadata": {
    "papermill": {
     "duration": 0.022444,
     "end_time": "2023-12-07T16:09:11.551957",
     "exception": false,
     "start_time": "2023-12-07T16:09:11.529513",
     "status": "completed"
    },
    "tags": []
   },
   "source": [
    "The missing values have been addressed as follows:\n",
    "\n",
    "- Columns with a high percentage of missing values (above the threshold of 50%) have been dropped. It seems that none of the columns met this condition.\n",
    "- The missing values in the orgyear column have been imputed with the median year.\n",
    "- The missing values in the ctc column have been imputed with the mean CTC.\n",
    "- For the company_hash categorical column, missing values have been filled with the most frequent category (mode)."
   ]
  },
  {
   "cell_type": "markdown",
   "id": "52135d28",
   "metadata": {
    "papermill": {
     "duration": 0.02573,
     "end_time": "2023-12-07T16:09:11.603466",
     "exception": false,
     "start_time": "2023-12-07T16:09:11.577736",
     "status": "completed"
    },
    "tags": []
   },
   "source": [
    "The data type conversion has been completed successfully. Here's the summary:\n",
    "\n",
    "- The `orgyear` column has been converted to datetime format, with invalid entries coerced to NaT (not a time), which are then filtered out.\n",
    "- The `ctc_updated_year` column has also been converted to datetime format.\n",
    "- The `ctc` column has been converted to a float to ensure any decimal values are accurately represented.\n",
    "\n",
    "The dataset is now ready with appropriate data types for each feature, which should facilitate any further analysis or modeling."
   ]
  },
  {
   "cell_type": "code",
   "execution_count": 19,
   "id": "1eae4fc3",
   "metadata": {
    "execution": {
     "iopub.execute_input": "2023-12-07T16:09:11.649657Z",
     "iopub.status.busy": "2023-12-07T16:09:11.649219Z",
     "iopub.status.idle": "2023-12-07T16:09:11.724601Z",
     "shell.execute_reply": "2023-12-07T16:09:11.723524Z"
    },
    "papermill": {
     "duration": 0.100936,
     "end_time": "2023-12-07T16:09:11.727264",
     "exception": false,
     "start_time": "2023-12-07T16:09:11.626328",
     "status": "completed"
    },
    "tags": []
   },
   "outputs": [
    {
     "data": {
      "text/plain": [
       "orgyear             0\n",
       "Unnamed: 0          0\n",
       "company_hash        0\n",
       "email_hash          0\n",
       "ctc                 0\n",
       "job_position        0\n",
       "ctc_updated_year    0\n",
       "dtype: int64"
      ]
     },
     "execution_count": 19,
     "metadata": {},
     "output_type": "execute_result"
    }
   ],
   "source": [
    "# If 'job_position' is not a critical feature, we could drop it\n",
    "# data.drop(columns=['job_position'], inplace=True)\n",
    "\n",
    "# Or, fill the missing values with a placeholder such as 'Unknown'\n",
    "df['job_position'].fillna('Unknown', inplace=True)\n",
    "\n",
    "# Re-check the dataset for any remaining missing values\n",
    "remaining_missing = df.isnull().sum()\n",
    "remaining_missing\n"
   ]
  },
  {
   "cell_type": "code",
   "execution_count": 20,
   "id": "a12f5e0d",
   "metadata": {
    "execution": {
     "iopub.execute_input": "2023-12-07T16:09:11.769198Z",
     "iopub.status.busy": "2023-12-07T16:09:11.768402Z",
     "iopub.status.idle": "2023-12-07T16:09:11.905319Z",
     "shell.execute_reply": "2023-12-07T16:09:11.904153Z"
    },
    "papermill": {
     "duration": 0.160718,
     "end_time": "2023-12-07T16:09:11.907809",
     "exception": false,
     "start_time": "2023-12-07T16:09:11.747091",
     "status": "completed"
    },
    "tags": []
   },
   "outputs": [
    {
     "data": {
      "text/plain": [
       "(0,\n",
       " count    205712.0000\n",
       " mean       2015.0737\n",
       " std           4.2050\n",
       " min        1900.0000\n",
       " 25%        2013.0000\n",
       " 50%        2016.0000\n",
       " 75%        2018.0000\n",
       " max        2021.0000\n",
       " Name: orgyear, dtype: float64)"
      ]
     },
     "execution_count": 20,
     "metadata": {},
     "output_type": "execute_result"
    }
   ],
   "source": [
    "# Mean Imputation\n",
    "mean_imputer = SimpleImputer(strategy='mean')\n",
    "\n",
    "# Check if 'orgyear' is a datetime type and extract the year part\n",
    "if pd.api.types.is_datetime64_any_dtype(df['orgyear']):\n",
    "    df['orgyear'] = df['orgyear'].dt.year\n",
    "\n",
    "# Address abnormal max value noticed earlier in 'orgyear'\n",
    "corrected_orgyear = df['orgyear'].apply(lambda x: np.nan if x > 2021 or x < 1900 else x)\n",
    "\n",
    "# Impute the missing values in 'orgyear'\n",
    "df['orgyear'] = mean_imputer.fit_transform(corrected_orgyear.values.reshape(-1, 1))\n",
    "\n",
    "# Check if the imputation was successful\n",
    "missing_values = df['orgyear'].isnull().sum()\n",
    "orgyear_stats = df['orgyear'].describe()\n",
    "\n",
    "missing_values, orgyear_stats\n"
   ]
  },
  {
   "cell_type": "code",
   "execution_count": 21,
   "id": "81f2b2a2",
   "metadata": {
    "execution": {
     "iopub.execute_input": "2023-12-07T16:09:11.950330Z",
     "iopub.status.busy": "2023-12-07T16:09:11.949519Z",
     "iopub.status.idle": "2023-12-07T16:09:12.623802Z",
     "shell.execute_reply": "2023-12-07T16:09:12.622601Z"
    },
    "papermill": {
     "duration": 0.69866,
     "end_time": "2023-12-07T16:09:12.626715",
     "exception": false,
     "start_time": "2023-12-07T16:09:11.928055",
     "status": "completed"
    },
    "tags": []
   },
   "outputs": [],
   "source": [
    "import re\n",
    "\n",
    "# Example function for cleaning company names\n",
    "def clean_company_name(name):\n",
    "    # Lowercase the name for standardization\n",
    "    name = name.lower()\n",
    "\n",
    "    # Remove special characters\n",
    "    name = re.sub(r\"[^\\w\\s]\", '', name)\n",
    "\n",
    "    # Replace multiple spaces with a single space\n",
    "    name = re.sub(r\"\\s+\", ' ', name)\n",
    "\n",
    "    # Trim leading and trailing whitespaces\n",
    "    name = name.strip()\n",
    "\n",
    "    # Add more regex patterns as needed based on specific requirements\n",
    "\n",
    "    return name\n",
    "\n",
    "# Assuming 'company_name' is the column to be cleaned\n",
    "# Apply the cleaning function to the 'company_name' column\n",
    "df['company_hash'] = df['company_hash'].apply(clean_company_name)\n",
    "\n"
   ]
  },
  {
   "cell_type": "code",
   "execution_count": 22,
   "id": "6a9d361e",
   "metadata": {
    "execution": {
     "iopub.execute_input": "2023-12-07T16:09:12.671678Z",
     "iopub.status.busy": "2023-12-07T16:09:12.670648Z",
     "iopub.status.idle": "2023-12-07T16:09:12.696132Z",
     "shell.execute_reply": "2023-12-07T16:09:12.694872Z"
    },
    "papermill": {
     "duration": 0.05053,
     "end_time": "2023-12-07T16:09:12.699045",
     "exception": false,
     "start_time": "2023-12-07T16:09:12.648515",
     "status": "completed"
    },
    "tags": []
   },
   "outputs": [],
   "source": [
    "df = df.drop(columns = ['Unnamed: 0'],axis =1)"
   ]
  },
  {
   "cell_type": "code",
   "execution_count": 23,
   "id": "040558f5",
   "metadata": {
    "execution": {
     "iopub.execute_input": "2023-12-07T16:09:12.741667Z",
     "iopub.status.busy": "2023-12-07T16:09:12.741212Z",
     "iopub.status.idle": "2023-12-07T16:09:12.760466Z",
     "shell.execute_reply": "2023-12-07T16:09:12.759254Z"
    },
    "papermill": {
     "duration": 0.043317,
     "end_time": "2023-12-07T16:09:12.762659",
     "exception": false,
     "start_time": "2023-12-07T16:09:12.719342",
     "status": "completed"
    },
    "tags": []
   },
   "outputs": [
    {
     "data": {
      "text/html": [
       "<div>\n",
       "<style scoped>\n",
       "    .dataframe tbody tr th:only-of-type {\n",
       "        vertical-align: middle;\n",
       "    }\n",
       "\n",
       "    .dataframe tbody tr th {\n",
       "        vertical-align: top;\n",
       "    }\n",
       "\n",
       "    .dataframe thead th {\n",
       "        text-align: right;\n",
       "    }\n",
       "</style>\n",
       "<table border=\"1\" class=\"dataframe\">\n",
       "  <thead>\n",
       "    <tr style=\"text-align: right;\">\n",
       "      <th></th>\n",
       "      <th>orgyear</th>\n",
       "      <th>company_hash</th>\n",
       "      <th>email_hash</th>\n",
       "      <th>ctc</th>\n",
       "      <th>job_position</th>\n",
       "      <th>ctc_updated_year</th>\n",
       "    </tr>\n",
       "  </thead>\n",
       "  <tbody>\n",
       "    <tr>\n",
       "      <th>0</th>\n",
       "      <td>1900.0000</td>\n",
       "      <td>ovst xznvwwn ogenfvqt ucn rna</td>\n",
       "      <td>3da3c964efe7a5db0f63e91be25391dcaadf24d44cdc59...</td>\n",
       "      <td>3170000</td>\n",
       "      <td>Engineering Leadership</td>\n",
       "      <td>2019-01-01</td>\n",
       "    </tr>\n",
       "    <tr>\n",
       "      <th>1</th>\n",
       "      <td>1970.0000</td>\n",
       "      <td>vbagwo</td>\n",
       "      <td>86dbdeada523d09881aec29ffa56ff63aca56f0278a97e...</td>\n",
       "      <td>1800000</td>\n",
       "      <td>Unknown</td>\n",
       "      <td>2021-01-01</td>\n",
       "    </tr>\n",
       "    <tr>\n",
       "      <th>2</th>\n",
       "      <td>1970.0000</td>\n",
       "      <td>hzxctqoxnj ge zgqny ntdvo</td>\n",
       "      <td>e66b927f4ee3bd0d7202bbd35486d23d68555fc03dcd54...</td>\n",
       "      <td>140000</td>\n",
       "      <td>Engineering Leadership</td>\n",
       "      <td>2020-01-01</td>\n",
       "    </tr>\n",
       "    <tr>\n",
       "      <th>3</th>\n",
       "      <td>1971.0000</td>\n",
       "      <td>wygrvbvzavrvb xzctonbtzn vza exzvzwt wg rna</td>\n",
       "      <td>dc573e5ccc7f6d36b259b939f81655454a6e41a0f79fb5...</td>\n",
       "      <td>5500000</td>\n",
       "      <td>Engineering Leadership</td>\n",
       "      <td>2019-01-01</td>\n",
       "    </tr>\n",
       "    <tr>\n",
       "      <th>4</th>\n",
       "      <td>1972.0000</td>\n",
       "      <td>st ytvrnywvqt</td>\n",
       "      <td>de72685914984cd9e1b0ec13223cd266f3c81d9517f282...</td>\n",
       "      <td>2300000</td>\n",
       "      <td>Engineering Leadership</td>\n",
       "      <td>2019-01-01</td>\n",
       "    </tr>\n",
       "    <tr>\n",
       "      <th>...</th>\n",
       "      <td>...</td>\n",
       "      <td>...</td>\n",
       "      <td>...</td>\n",
       "      <td>...</td>\n",
       "      <td>...</td>\n",
       "      <td>...</td>\n",
       "    </tr>\n",
       "    <tr>\n",
       "      <th>205707</th>\n",
       "      <td>2015.0737</td>\n",
       "      <td>hufgqp</td>\n",
       "      <td>e4705330da833368780aae561afc930b709360e7c6e1f5...</td>\n",
       "      <td>1100000</td>\n",
       "      <td>FullStack Engineer</td>\n",
       "      <td>2019-01-01</td>\n",
       "    </tr>\n",
       "    <tr>\n",
       "      <th>205708</th>\n",
       "      <td>2015.0737</td>\n",
       "      <td>mrvwpmhwp</td>\n",
       "      <td>f648fa217922f5a36b510df6346a2041a3483e21289069...</td>\n",
       "      <td>1200000</td>\n",
       "      <td>Unknown</td>\n",
       "      <td>2021-01-01</td>\n",
       "    </tr>\n",
       "    <tr>\n",
       "      <th>205709</th>\n",
       "      <td>2015.0737</td>\n",
       "      <td>wgszxkvzn</td>\n",
       "      <td>2cc6bae4e52677d27ce3fca38d7a01ecbe537e1dc1c48d...</td>\n",
       "      <td>600000</td>\n",
       "      <td>Unknown</td>\n",
       "      <td>2021-01-01</td>\n",
       "    </tr>\n",
       "    <tr>\n",
       "      <th>205710</th>\n",
       "      <td>2015.0737</td>\n",
       "      <td>sgltp</td>\n",
       "      <td>a8a779493f5844846ae536b0f48437cf9f0f6ebcac340f...</td>\n",
       "      <td>3000000</td>\n",
       "      <td>Unknown</td>\n",
       "      <td>2021-01-01</td>\n",
       "    </tr>\n",
       "    <tr>\n",
       "      <th>205711</th>\n",
       "      <td>2015.0737</td>\n",
       "      <td>lu bgqsgz</td>\n",
       "      <td>799dff77b331bfac04cf005935acf7e0d16845f4f24798...</td>\n",
       "      <td>2160000</td>\n",
       "      <td>Data Scientist</td>\n",
       "      <td>2018-01-01</td>\n",
       "    </tr>\n",
       "  </tbody>\n",
       "</table>\n",
       "<p>205712 rows × 6 columns</p>\n",
       "</div>"
      ],
      "text/plain": [
       "          orgyear                                 company_hash  \\\n",
       "0       1900.0000                ovst xznvwwn ogenfvqt ucn rna   \n",
       "1       1970.0000                                       vbagwo   \n",
       "2       1970.0000                    hzxctqoxnj ge zgqny ntdvo   \n",
       "3       1971.0000  wygrvbvzavrvb xzctonbtzn vza exzvzwt wg rna   \n",
       "4       1972.0000                                st ytvrnywvqt   \n",
       "...           ...                                          ...   \n",
       "205707  2015.0737                                       hufgqp   \n",
       "205708  2015.0737                                    mrvwpmhwp   \n",
       "205709  2015.0737                                    wgszxkvzn   \n",
       "205710  2015.0737                                        sgltp   \n",
       "205711  2015.0737                                    lu bgqsgz   \n",
       "\n",
       "                                               email_hash      ctc  \\\n",
       "0       3da3c964efe7a5db0f63e91be25391dcaadf24d44cdc59...  3170000   \n",
       "1       86dbdeada523d09881aec29ffa56ff63aca56f0278a97e...  1800000   \n",
       "2       e66b927f4ee3bd0d7202bbd35486d23d68555fc03dcd54...   140000   \n",
       "3       dc573e5ccc7f6d36b259b939f81655454a6e41a0f79fb5...  5500000   \n",
       "4       de72685914984cd9e1b0ec13223cd266f3c81d9517f282...  2300000   \n",
       "...                                                   ...      ...   \n",
       "205707  e4705330da833368780aae561afc930b709360e7c6e1f5...  1100000   \n",
       "205708  f648fa217922f5a36b510df6346a2041a3483e21289069...  1200000   \n",
       "205709  2cc6bae4e52677d27ce3fca38d7a01ecbe537e1dc1c48d...   600000   \n",
       "205710  a8a779493f5844846ae536b0f48437cf9f0f6ebcac340f...  3000000   \n",
       "205711  799dff77b331bfac04cf005935acf7e0d16845f4f24798...  2160000   \n",
       "\n",
       "                  job_position ctc_updated_year  \n",
       "0       Engineering Leadership       2019-01-01  \n",
       "1                      Unknown       2021-01-01  \n",
       "2       Engineering Leadership       2020-01-01  \n",
       "3       Engineering Leadership       2019-01-01  \n",
       "4       Engineering Leadership       2019-01-01  \n",
       "...                        ...              ...  \n",
       "205707      FullStack Engineer       2019-01-01  \n",
       "205708                 Unknown       2021-01-01  \n",
       "205709                 Unknown       2021-01-01  \n",
       "205710                 Unknown       2021-01-01  \n",
       "205711          Data Scientist       2018-01-01  \n",
       "\n",
       "[205712 rows x 6 columns]"
      ]
     },
     "execution_count": 23,
     "metadata": {},
     "output_type": "execute_result"
    }
   ],
   "source": [
    "df"
   ]
  },
  {
   "cell_type": "code",
   "execution_count": 24,
   "id": "e685c8c4",
   "metadata": {
    "execution": {
     "iopub.execute_input": "2023-12-07T16:09:12.806244Z",
     "iopub.status.busy": "2023-12-07T16:09:12.805794Z",
     "iopub.status.idle": "2023-12-07T16:09:13.787603Z",
     "shell.execute_reply": "2023-12-07T16:09:13.786145Z"
    },
    "papermill": {
     "duration": 1.007262,
     "end_time": "2023-12-07T16:09:13.790310",
     "exception": false,
     "start_time": "2023-12-07T16:09:12.783048",
     "status": "completed"
    },
    "tags": []
   },
   "outputs": [],
   "source": [
    "from sklearn.preprocessing import StandardScaler, OneHotEncoder, LabelEncoder\n",
    "from sklearn.compose import ColumnTransformer\n",
    "import pandas as pd\n",
    "\n",
    "# Assuming 'df' is your DataFrame\n",
    "\n",
    "# Extract year from 'ctc_updated_year'\n",
    "df['ctc_updated_year'] = pd.to_datetime(df['ctc_updated_year']).dt.year\n",
    "\n",
    "# Define the numerical columns\n",
    "numerical_cols = ['orgyear', 'ctc', 'ctc_updated_year']\n",
    "\n",
    "# Define categorical columns for one-hot encoding and label encoding\n",
    "categorical_cols_onehot = ['job_position']\n",
    "categorical_cols_label = ['company_hash', 'email_hash']\n",
    "\n",
    "# Create transformers for standardization and encoding\n",
    "numerical_transformer = StandardScaler()\n",
    "categorical_transformer_onehot = OneHotEncoder(handle_unknown='ignore')\n",
    "categorical_transformer_label = LabelEncoder()\n",
    "\n",
    "# Preprocess the categorical columns with label encoding separately as they need to be transformed one column at a time\n",
    "for col in categorical_cols_label:\n",
    "    df[col] = categorical_transformer_label.fit_transform(df[col])\n",
    "\n",
    "# Create a column transformer that will apply transformations to the respective columns\n",
    "preprocessor = ColumnTransformer(\n",
    "    transformers=[\n",
    "        ('num', numerical_transformer, numerical_cols),\n",
    "        ('cat_onehot', categorical_transformer_onehot, categorical_cols_onehot)\n",
    "    ])\n",
    "\n",
    "# Apply the transformations to numerical and one-hot encoded categorical columns\n",
    "df_transform = preprocessor.fit_transform(df)\n",
    "\n"
   ]
  },
  {
   "cell_type": "code",
   "execution_count": 25,
   "id": "e2040077",
   "metadata": {
    "execution": {
     "iopub.execute_input": "2023-12-07T16:09:13.833938Z",
     "iopub.status.busy": "2023-12-07T16:09:13.833458Z",
     "iopub.status.idle": "2023-12-07T16:09:13.848866Z",
     "shell.execute_reply": "2023-12-07T16:09:13.847679Z"
    },
    "papermill": {
     "duration": 0.040041,
     "end_time": "2023-12-07T16:09:13.851119",
     "exception": false,
     "start_time": "2023-12-07T16:09:13.811078",
     "status": "completed"
    },
    "tags": []
   },
   "outputs": [
    {
     "data": {
      "text/html": [
       "<div>\n",
       "<style scoped>\n",
       "    .dataframe tbody tr th:only-of-type {\n",
       "        vertical-align: middle;\n",
       "    }\n",
       "\n",
       "    .dataframe tbody tr th {\n",
       "        vertical-align: top;\n",
       "    }\n",
       "\n",
       "    .dataframe thead th {\n",
       "        text-align: right;\n",
       "    }\n",
       "</style>\n",
       "<table border=\"1\" class=\"dataframe\">\n",
       "  <thead>\n",
       "    <tr style=\"text-align: right;\">\n",
       "      <th></th>\n",
       "      <th>orgyear</th>\n",
       "      <th>company_hash</th>\n",
       "      <th>email_hash</th>\n",
       "      <th>ctc</th>\n",
       "      <th>job_position</th>\n",
       "      <th>ctc_updated_year</th>\n",
       "    </tr>\n",
       "  </thead>\n",
       "  <tbody>\n",
       "    <tr>\n",
       "      <th>0</th>\n",
       "      <td>1900.0000</td>\n",
       "      <td>17090</td>\n",
       "      <td>36951</td>\n",
       "      <td>3170000</td>\n",
       "      <td>Engineering Leadership</td>\n",
       "      <td>2019</td>\n",
       "    </tr>\n",
       "    <tr>\n",
       "      <th>1</th>\n",
       "      <td>1970.0000</td>\n",
       "      <td>26343</td>\n",
       "      <td>80645</td>\n",
       "      <td>1800000</td>\n",
       "      <td>Unknown</td>\n",
       "      <td>2021</td>\n",
       "    </tr>\n",
       "    <tr>\n",
       "      <th>2</th>\n",
       "      <td>1970.0000</td>\n",
       "      <td>8676</td>\n",
       "      <td>137926</td>\n",
       "      <td>140000</td>\n",
       "      <td>Engineering Leadership</td>\n",
       "      <td>2020</td>\n",
       "    </tr>\n",
       "    <tr>\n",
       "      <th>3</th>\n",
       "      <td>1971.0000</td>\n",
       "      <td>32049</td>\n",
       "      <td>131867</td>\n",
       "      <td>5500000</td>\n",
       "      <td>Engineering Leadership</td>\n",
       "      <td>2019</td>\n",
       "    </tr>\n",
       "    <tr>\n",
       "      <th>4</th>\n",
       "      <td>1972.0000</td>\n",
       "      <td>22101</td>\n",
       "      <td>133129</td>\n",
       "      <td>2300000</td>\n",
       "      <td>Engineering Leadership</td>\n",
       "      <td>2019</td>\n",
       "    </tr>\n",
       "    <tr>\n",
       "      <th>...</th>\n",
       "      <td>...</td>\n",
       "      <td>...</td>\n",
       "      <td>...</td>\n",
       "      <td>...</td>\n",
       "      <td>...</td>\n",
       "      <td>...</td>\n",
       "    </tr>\n",
       "    <tr>\n",
       "      <th>205707</th>\n",
       "      <td>2015.0737</td>\n",
       "      <td>8449</td>\n",
       "      <td>136730</td>\n",
       "      <td>1100000</td>\n",
       "      <td>FullStack Engineer</td>\n",
       "      <td>2019</td>\n",
       "    </tr>\n",
       "    <tr>\n",
       "      <th>205708</th>\n",
       "      <td>2015.0737</td>\n",
       "      <td>11126</td>\n",
       "      <td>147612</td>\n",
       "      <td>1200000</td>\n",
       "      <td>Unknown</td>\n",
       "      <td>2021</td>\n",
       "    </tr>\n",
       "    <tr>\n",
       "      <th>205709</th>\n",
       "      <td>2015.0737</td>\n",
       "      <td>30117</td>\n",
       "      <td>26904</td>\n",
       "      <td>600000</td>\n",
       "      <td>Unknown</td>\n",
       "      <td>2021</td>\n",
       "    </tr>\n",
       "    <tr>\n",
       "      <th>205710</th>\n",
       "      <td>2015.0737</td>\n",
       "      <td>21418</td>\n",
       "      <td>100906</td>\n",
       "      <td>3000000</td>\n",
       "      <td>Unknown</td>\n",
       "      <td>2021</td>\n",
       "    </tr>\n",
       "    <tr>\n",
       "      <th>205711</th>\n",
       "      <td>2015.0737</td>\n",
       "      <td>10121</td>\n",
       "      <td>72662</td>\n",
       "      <td>2160000</td>\n",
       "      <td>Data Scientist</td>\n",
       "      <td>2018</td>\n",
       "    </tr>\n",
       "  </tbody>\n",
       "</table>\n",
       "<p>205712 rows × 6 columns</p>\n",
       "</div>"
      ],
      "text/plain": [
       "          orgyear  company_hash  email_hash      ctc            job_position  \\\n",
       "0       1900.0000         17090       36951  3170000  Engineering Leadership   \n",
       "1       1970.0000         26343       80645  1800000                 Unknown   \n",
       "2       1970.0000          8676      137926   140000  Engineering Leadership   \n",
       "3       1971.0000         32049      131867  5500000  Engineering Leadership   \n",
       "4       1972.0000         22101      133129  2300000  Engineering Leadership   \n",
       "...           ...           ...         ...      ...                     ...   \n",
       "205707  2015.0737          8449      136730  1100000      FullStack Engineer   \n",
       "205708  2015.0737         11126      147612  1200000                 Unknown   \n",
       "205709  2015.0737         30117       26904   600000                 Unknown   \n",
       "205710  2015.0737         21418      100906  3000000                 Unknown   \n",
       "205711  2015.0737         10121       72662  2160000          Data Scientist   \n",
       "\n",
       "        ctc_updated_year  \n",
       "0                   2019  \n",
       "1                   2021  \n",
       "2                   2020  \n",
       "3                   2019  \n",
       "4                   2019  \n",
       "...                  ...  \n",
       "205707              2019  \n",
       "205708              2021  \n",
       "205709              2021  \n",
       "205710              2021  \n",
       "205711              2018  \n",
       "\n",
       "[205712 rows x 6 columns]"
      ]
     },
     "execution_count": 25,
     "metadata": {},
     "output_type": "execute_result"
    }
   ],
   "source": [
    "df"
   ]
  },
  {
   "cell_type": "code",
   "execution_count": 26,
   "id": "db0cb902",
   "metadata": {
    "execution": {
     "iopub.execute_input": "2023-12-07T16:09:13.895495Z",
     "iopub.status.busy": "2023-12-07T16:09:13.895053Z",
     "iopub.status.idle": "2023-12-07T16:09:14.717625Z",
     "shell.execute_reply": "2023-12-07T16:09:14.716515Z"
    },
    "papermill": {
     "duration": 0.847763,
     "end_time": "2023-12-07T16:09:14.720008",
     "exception": false,
     "start_time": "2023-12-07T16:09:13.872245",
     "status": "completed"
    },
    "tags": []
   },
   "outputs": [
    {
     "data": {
      "text/html": [
       "<div>\n",
       "<style scoped>\n",
       "    .dataframe tbody tr th:only-of-type {\n",
       "        vertical-align: middle;\n",
       "    }\n",
       "\n",
       "    .dataframe tbody tr th {\n",
       "        vertical-align: top;\n",
       "    }\n",
       "\n",
       "    .dataframe thead th {\n",
       "        text-align: right;\n",
       "    }\n",
       "</style>\n",
       "<table border=\"1\" class=\"dataframe\">\n",
       "  <thead>\n",
       "    <tr style=\"text-align: right;\">\n",
       "      <th></th>\n",
       "      <th>job_position</th>\n",
       "      <th>Designation Flag</th>\n",
       "    </tr>\n",
       "  </thead>\n",
       "  <tbody>\n",
       "    <tr>\n",
       "      <th>0</th>\n",
       "      <td>Engineering Leadership</td>\n",
       "      <td>Engineer</td>\n",
       "    </tr>\n",
       "    <tr>\n",
       "      <th>1</th>\n",
       "      <td>Unknown</td>\n",
       "      <td>Other</td>\n",
       "    </tr>\n",
       "    <tr>\n",
       "      <th>2</th>\n",
       "      <td>Engineering Leadership</td>\n",
       "      <td>Engineer</td>\n",
       "    </tr>\n",
       "    <tr>\n",
       "      <th>3</th>\n",
       "      <td>Engineering Leadership</td>\n",
       "      <td>Engineer</td>\n",
       "    </tr>\n",
       "    <tr>\n",
       "      <th>4</th>\n",
       "      <td>Engineering Leadership</td>\n",
       "      <td>Engineer</td>\n",
       "    </tr>\n",
       "  </tbody>\n",
       "</table>\n",
       "</div>"
      ],
      "text/plain": [
       "             job_position Designation Flag\n",
       "0  Engineering Leadership         Engineer\n",
       "1                 Unknown            Other\n",
       "2  Engineering Leadership         Engineer\n",
       "3  Engineering Leadership         Engineer\n",
       "4  Engineering Leadership         Engineer"
      ]
     },
     "execution_count": 26,
     "metadata": {},
     "output_type": "execute_result"
    }
   ],
   "source": [
    "# Define broad job categories based on common roles\n",
    "designation_mapping = {\n",
    "    'Engineer': ['engineer', 'developer', 'programmer', 'devops'],\n",
    "    'Manager': ['manager', 'lead', 'head', 'director'],\n",
    "    'Analyst': ['analyst', 'analytics'],\n",
    "    'Consultant': ['consultant', 'advisor'],\n",
    "    'Other': ['other', 'specialist', 'expert', 'associate']\n",
    "}\n",
    "\n",
    "# Function to map job position to a designation flag\n",
    "def map_to_designation(job_position):\n",
    "    if pd.isna(job_position):\n",
    "        return 'Unknown'\n",
    "    for designation, keywords in designation_mapping.items():\n",
    "        if any(keyword in job_position.lower() for keyword in keywords):\n",
    "            return designation\n",
    "    return 'Other'\n",
    "\n",
    "# Apply the mapping to the job_position column to create a new Designation Flag column\n",
    "df['Designation Flag'] = df['job_position'].apply(map_to_designation)\n",
    "\n",
    "# Display the first few entries to verify the mapping\n",
    "df[['job_position', 'Designation Flag']].head()\n"
   ]
  },
  {
   "cell_type": "code",
   "execution_count": 27,
   "id": "d4669878",
   "metadata": {
    "execution": {
     "iopub.execute_input": "2023-12-07T16:09:14.765520Z",
     "iopub.status.busy": "2023-12-07T16:09:14.764696Z",
     "iopub.status.idle": "2023-12-07T16:09:14.779112Z",
     "shell.execute_reply": "2023-12-07T16:09:14.777773Z"
    },
    "papermill": {
     "duration": 0.040597,
     "end_time": "2023-12-07T16:09:14.781944",
     "exception": false,
     "start_time": "2023-12-07T16:09:14.741347",
     "status": "completed"
    },
    "tags": []
   },
   "outputs": [],
   "source": [
    "df.drop(columns = [\"job_position\"],axis =1, inplace = True)"
   ]
  },
  {
   "cell_type": "code",
   "execution_count": 28,
   "id": "9cb59edb",
   "metadata": {
    "execution": {
     "iopub.execute_input": "2023-12-07T16:09:14.827964Z",
     "iopub.status.busy": "2023-12-07T16:09:14.826785Z",
     "iopub.status.idle": "2023-12-07T16:09:14.843492Z",
     "shell.execute_reply": "2023-12-07T16:09:14.842338Z"
    },
    "papermill": {
     "duration": 0.04202,
     "end_time": "2023-12-07T16:09:14.845898",
     "exception": false,
     "start_time": "2023-12-07T16:09:14.803878",
     "status": "completed"
    },
    "tags": []
   },
   "outputs": [
    {
     "data": {
      "text/html": [
       "<div>\n",
       "<style scoped>\n",
       "    .dataframe tbody tr th:only-of-type {\n",
       "        vertical-align: middle;\n",
       "    }\n",
       "\n",
       "    .dataframe tbody tr th {\n",
       "        vertical-align: top;\n",
       "    }\n",
       "\n",
       "    .dataframe thead th {\n",
       "        text-align: right;\n",
       "    }\n",
       "</style>\n",
       "<table border=\"1\" class=\"dataframe\">\n",
       "  <thead>\n",
       "    <tr style=\"text-align: right;\">\n",
       "      <th></th>\n",
       "      <th>orgyear</th>\n",
       "      <th>company_hash</th>\n",
       "      <th>email_hash</th>\n",
       "      <th>ctc</th>\n",
       "      <th>ctc_updated_year</th>\n",
       "      <th>Designation Flag</th>\n",
       "    </tr>\n",
       "  </thead>\n",
       "  <tbody>\n",
       "    <tr>\n",
       "      <th>0</th>\n",
       "      <td>1900.0000</td>\n",
       "      <td>17090</td>\n",
       "      <td>36951</td>\n",
       "      <td>3170000</td>\n",
       "      <td>2019</td>\n",
       "      <td>Engineer</td>\n",
       "    </tr>\n",
       "    <tr>\n",
       "      <th>1</th>\n",
       "      <td>1970.0000</td>\n",
       "      <td>26343</td>\n",
       "      <td>80645</td>\n",
       "      <td>1800000</td>\n",
       "      <td>2021</td>\n",
       "      <td>Other</td>\n",
       "    </tr>\n",
       "    <tr>\n",
       "      <th>2</th>\n",
       "      <td>1970.0000</td>\n",
       "      <td>8676</td>\n",
       "      <td>137926</td>\n",
       "      <td>140000</td>\n",
       "      <td>2020</td>\n",
       "      <td>Engineer</td>\n",
       "    </tr>\n",
       "    <tr>\n",
       "      <th>3</th>\n",
       "      <td>1971.0000</td>\n",
       "      <td>32049</td>\n",
       "      <td>131867</td>\n",
       "      <td>5500000</td>\n",
       "      <td>2019</td>\n",
       "      <td>Engineer</td>\n",
       "    </tr>\n",
       "    <tr>\n",
       "      <th>4</th>\n",
       "      <td>1972.0000</td>\n",
       "      <td>22101</td>\n",
       "      <td>133129</td>\n",
       "      <td>2300000</td>\n",
       "      <td>2019</td>\n",
       "      <td>Engineer</td>\n",
       "    </tr>\n",
       "    <tr>\n",
       "      <th>...</th>\n",
       "      <td>...</td>\n",
       "      <td>...</td>\n",
       "      <td>...</td>\n",
       "      <td>...</td>\n",
       "      <td>...</td>\n",
       "      <td>...</td>\n",
       "    </tr>\n",
       "    <tr>\n",
       "      <th>205707</th>\n",
       "      <td>2015.0737</td>\n",
       "      <td>8449</td>\n",
       "      <td>136730</td>\n",
       "      <td>1100000</td>\n",
       "      <td>2019</td>\n",
       "      <td>Engineer</td>\n",
       "    </tr>\n",
       "    <tr>\n",
       "      <th>205708</th>\n",
       "      <td>2015.0737</td>\n",
       "      <td>11126</td>\n",
       "      <td>147612</td>\n",
       "      <td>1200000</td>\n",
       "      <td>2021</td>\n",
       "      <td>Other</td>\n",
       "    </tr>\n",
       "    <tr>\n",
       "      <th>205709</th>\n",
       "      <td>2015.0737</td>\n",
       "      <td>30117</td>\n",
       "      <td>26904</td>\n",
       "      <td>600000</td>\n",
       "      <td>2021</td>\n",
       "      <td>Other</td>\n",
       "    </tr>\n",
       "    <tr>\n",
       "      <th>205710</th>\n",
       "      <td>2015.0737</td>\n",
       "      <td>21418</td>\n",
       "      <td>100906</td>\n",
       "      <td>3000000</td>\n",
       "      <td>2021</td>\n",
       "      <td>Other</td>\n",
       "    </tr>\n",
       "    <tr>\n",
       "      <th>205711</th>\n",
       "      <td>2015.0737</td>\n",
       "      <td>10121</td>\n",
       "      <td>72662</td>\n",
       "      <td>2160000</td>\n",
       "      <td>2018</td>\n",
       "      <td>Other</td>\n",
       "    </tr>\n",
       "  </tbody>\n",
       "</table>\n",
       "<p>205712 rows × 6 columns</p>\n",
       "</div>"
      ],
      "text/plain": [
       "          orgyear  company_hash  email_hash      ctc  ctc_updated_year  \\\n",
       "0       1900.0000         17090       36951  3170000              2019   \n",
       "1       1970.0000         26343       80645  1800000              2021   \n",
       "2       1970.0000          8676      137926   140000              2020   \n",
       "3       1971.0000         32049      131867  5500000              2019   \n",
       "4       1972.0000         22101      133129  2300000              2019   \n",
       "...           ...           ...         ...      ...               ...   \n",
       "205707  2015.0737          8449      136730  1100000              2019   \n",
       "205708  2015.0737         11126      147612  1200000              2021   \n",
       "205709  2015.0737         30117       26904   600000              2021   \n",
       "205710  2015.0737         21418      100906  3000000              2021   \n",
       "205711  2015.0737         10121       72662  2160000              2018   \n",
       "\n",
       "       Designation Flag  \n",
       "0              Engineer  \n",
       "1                 Other  \n",
       "2              Engineer  \n",
       "3              Engineer  \n",
       "4              Engineer  \n",
       "...                 ...  \n",
       "205707         Engineer  \n",
       "205708            Other  \n",
       "205709            Other  \n",
       "205710            Other  \n",
       "205711            Other  \n",
       "\n",
       "[205712 rows x 6 columns]"
      ]
     },
     "execution_count": 28,
     "metadata": {},
     "output_type": "execute_result"
    }
   ],
   "source": [
    "df"
   ]
  },
  {
   "cell_type": "code",
   "execution_count": 29,
   "id": "d0f9a60b",
   "metadata": {
    "execution": {
     "iopub.execute_input": "2023-12-07T16:09:14.890999Z",
     "iopub.status.busy": "2023-12-07T16:09:14.890174Z",
     "iopub.status.idle": "2023-12-07T16:09:14.911956Z",
     "shell.execute_reply": "2023-12-07T16:09:14.910674Z"
    },
    "papermill": {
     "duration": 0.04754,
     "end_time": "2023-12-07T16:09:14.914766",
     "exception": false,
     "start_time": "2023-12-07T16:09:14.867226",
     "status": "completed"
    },
    "tags": []
   },
   "outputs": [
    {
     "data": {
      "text/plain": [
       "orgyear             0\n",
       "company_hash        0\n",
       "email_hash          0\n",
       "ctc                 0\n",
       "ctc_updated_year    0\n",
       "Designation Flag    0\n",
       "dtype: int64"
      ]
     },
     "execution_count": 29,
     "metadata": {},
     "output_type": "execute_result"
    }
   ],
   "source": [
    "df.isnull().sum()"
   ]
  },
  {
   "cell_type": "code",
   "execution_count": 30,
   "id": "95e7f3f2",
   "metadata": {
    "execution": {
     "iopub.execute_input": "2023-12-07T16:09:14.960445Z",
     "iopub.status.busy": "2023-12-07T16:09:14.960023Z",
     "iopub.status.idle": "2023-12-07T16:09:15.018017Z",
     "shell.execute_reply": "2023-12-07T16:09:15.017019Z"
    },
    "papermill": {
     "duration": 0.083655,
     "end_time": "2023-12-07T16:09:15.020727",
     "exception": false,
     "start_time": "2023-12-07T16:09:14.937072",
     "status": "completed"
    },
    "tags": []
   },
   "outputs": [],
   "source": [
    "def classify_ctc(ctc):\n",
    "    if ctc < 1000000:\n",
    "        return 'Low'\n",
    "    elif ctc < 2000000:\n",
    "        return 'Medium'\n",
    "    else:\n",
    "        return 'High'\n",
    "\n",
    "# Create a new column 'ctc_class' in the DataFrame\n",
    "df['ctc_class'] = df['ctc'].apply(classify_ctc)\n"
   ]
  },
  {
   "cell_type": "code",
   "execution_count": 31,
   "id": "4dd85dbf",
   "metadata": {
    "execution": {
     "iopub.execute_input": "2023-12-07T16:09:15.064896Z",
     "iopub.status.busy": "2023-12-07T16:09:15.064462Z",
     "iopub.status.idle": "2023-12-07T16:09:15.081067Z",
     "shell.execute_reply": "2023-12-07T16:09:15.079734Z"
    },
    "papermill": {
     "duration": 0.041595,
     "end_time": "2023-12-07T16:09:15.083516",
     "exception": false,
     "start_time": "2023-12-07T16:09:15.041921",
     "status": "completed"
    },
    "tags": []
   },
   "outputs": [
    {
     "data": {
      "text/html": [
       "<div>\n",
       "<style scoped>\n",
       "    .dataframe tbody tr th:only-of-type {\n",
       "        vertical-align: middle;\n",
       "    }\n",
       "\n",
       "    .dataframe tbody tr th {\n",
       "        vertical-align: top;\n",
       "    }\n",
       "\n",
       "    .dataframe thead th {\n",
       "        text-align: right;\n",
       "    }\n",
       "</style>\n",
       "<table border=\"1\" class=\"dataframe\">\n",
       "  <thead>\n",
       "    <tr style=\"text-align: right;\">\n",
       "      <th></th>\n",
       "      <th>orgyear</th>\n",
       "      <th>company_hash</th>\n",
       "      <th>email_hash</th>\n",
       "      <th>ctc</th>\n",
       "      <th>ctc_updated_year</th>\n",
       "      <th>Designation Flag</th>\n",
       "      <th>ctc_class</th>\n",
       "    </tr>\n",
       "  </thead>\n",
       "  <tbody>\n",
       "    <tr>\n",
       "      <th>0</th>\n",
       "      <td>1900.0000</td>\n",
       "      <td>17090</td>\n",
       "      <td>36951</td>\n",
       "      <td>3170000</td>\n",
       "      <td>2019</td>\n",
       "      <td>Engineer</td>\n",
       "      <td>High</td>\n",
       "    </tr>\n",
       "    <tr>\n",
       "      <th>1</th>\n",
       "      <td>1970.0000</td>\n",
       "      <td>26343</td>\n",
       "      <td>80645</td>\n",
       "      <td>1800000</td>\n",
       "      <td>2021</td>\n",
       "      <td>Other</td>\n",
       "      <td>Medium</td>\n",
       "    </tr>\n",
       "    <tr>\n",
       "      <th>2</th>\n",
       "      <td>1970.0000</td>\n",
       "      <td>8676</td>\n",
       "      <td>137926</td>\n",
       "      <td>140000</td>\n",
       "      <td>2020</td>\n",
       "      <td>Engineer</td>\n",
       "      <td>Low</td>\n",
       "    </tr>\n",
       "    <tr>\n",
       "      <th>3</th>\n",
       "      <td>1971.0000</td>\n",
       "      <td>32049</td>\n",
       "      <td>131867</td>\n",
       "      <td>5500000</td>\n",
       "      <td>2019</td>\n",
       "      <td>Engineer</td>\n",
       "      <td>High</td>\n",
       "    </tr>\n",
       "    <tr>\n",
       "      <th>4</th>\n",
       "      <td>1972.0000</td>\n",
       "      <td>22101</td>\n",
       "      <td>133129</td>\n",
       "      <td>2300000</td>\n",
       "      <td>2019</td>\n",
       "      <td>Engineer</td>\n",
       "      <td>High</td>\n",
       "    </tr>\n",
       "    <tr>\n",
       "      <th>...</th>\n",
       "      <td>...</td>\n",
       "      <td>...</td>\n",
       "      <td>...</td>\n",
       "      <td>...</td>\n",
       "      <td>...</td>\n",
       "      <td>...</td>\n",
       "      <td>...</td>\n",
       "    </tr>\n",
       "    <tr>\n",
       "      <th>205707</th>\n",
       "      <td>2015.0737</td>\n",
       "      <td>8449</td>\n",
       "      <td>136730</td>\n",
       "      <td>1100000</td>\n",
       "      <td>2019</td>\n",
       "      <td>Engineer</td>\n",
       "      <td>Medium</td>\n",
       "    </tr>\n",
       "    <tr>\n",
       "      <th>205708</th>\n",
       "      <td>2015.0737</td>\n",
       "      <td>11126</td>\n",
       "      <td>147612</td>\n",
       "      <td>1200000</td>\n",
       "      <td>2021</td>\n",
       "      <td>Other</td>\n",
       "      <td>Medium</td>\n",
       "    </tr>\n",
       "    <tr>\n",
       "      <th>205709</th>\n",
       "      <td>2015.0737</td>\n",
       "      <td>30117</td>\n",
       "      <td>26904</td>\n",
       "      <td>600000</td>\n",
       "      <td>2021</td>\n",
       "      <td>Other</td>\n",
       "      <td>Low</td>\n",
       "    </tr>\n",
       "    <tr>\n",
       "      <th>205710</th>\n",
       "      <td>2015.0737</td>\n",
       "      <td>21418</td>\n",
       "      <td>100906</td>\n",
       "      <td>3000000</td>\n",
       "      <td>2021</td>\n",
       "      <td>Other</td>\n",
       "      <td>High</td>\n",
       "    </tr>\n",
       "    <tr>\n",
       "      <th>205711</th>\n",
       "      <td>2015.0737</td>\n",
       "      <td>10121</td>\n",
       "      <td>72662</td>\n",
       "      <td>2160000</td>\n",
       "      <td>2018</td>\n",
       "      <td>Other</td>\n",
       "      <td>High</td>\n",
       "    </tr>\n",
       "  </tbody>\n",
       "</table>\n",
       "<p>205712 rows × 7 columns</p>\n",
       "</div>"
      ],
      "text/plain": [
       "          orgyear  company_hash  email_hash      ctc  ctc_updated_year  \\\n",
       "0       1900.0000         17090       36951  3170000              2019   \n",
       "1       1970.0000         26343       80645  1800000              2021   \n",
       "2       1970.0000          8676      137926   140000              2020   \n",
       "3       1971.0000         32049      131867  5500000              2019   \n",
       "4       1972.0000         22101      133129  2300000              2019   \n",
       "...           ...           ...         ...      ...               ...   \n",
       "205707  2015.0737          8449      136730  1100000              2019   \n",
       "205708  2015.0737         11126      147612  1200000              2021   \n",
       "205709  2015.0737         30117       26904   600000              2021   \n",
       "205710  2015.0737         21418      100906  3000000              2021   \n",
       "205711  2015.0737         10121       72662  2160000              2018   \n",
       "\n",
       "       Designation Flag ctc_class  \n",
       "0              Engineer      High  \n",
       "1                 Other    Medium  \n",
       "2              Engineer       Low  \n",
       "3              Engineer      High  \n",
       "4              Engineer      High  \n",
       "...                 ...       ...  \n",
       "205707         Engineer    Medium  \n",
       "205708            Other    Medium  \n",
       "205709            Other       Low  \n",
       "205710            Other      High  \n",
       "205711            Other      High  \n",
       "\n",
       "[205712 rows x 7 columns]"
      ]
     },
     "execution_count": 31,
     "metadata": {},
     "output_type": "execute_result"
    }
   ],
   "source": [
    "df"
   ]
  },
  {
   "cell_type": "code",
   "execution_count": 32,
   "id": "7f485673",
   "metadata": {
    "execution": {
     "iopub.execute_input": "2023-12-07T16:09:15.128218Z",
     "iopub.status.busy": "2023-12-07T16:09:15.127776Z",
     "iopub.status.idle": "2023-12-07T16:09:15.144068Z",
     "shell.execute_reply": "2023-12-07T16:09:15.143045Z"
    },
    "papermill": {
     "duration": 0.041577,
     "end_time": "2023-12-07T16:09:15.146541",
     "exception": false,
     "start_time": "2023-12-07T16:09:15.104964",
     "status": "completed"
    },
    "tags": []
   },
   "outputs": [],
   "source": [
    "df.drop(columns = [\"ctc\"],axis =1, inplace = True)"
   ]
  },
  {
   "cell_type": "code",
   "execution_count": 33,
   "id": "31392c6c",
   "metadata": {
    "execution": {
     "iopub.execute_input": "2023-12-07T16:09:15.191584Z",
     "iopub.status.busy": "2023-12-07T16:09:15.190509Z",
     "iopub.status.idle": "2023-12-07T16:09:15.206461Z",
     "shell.execute_reply": "2023-12-07T16:09:15.205403Z"
    },
    "papermill": {
     "duration": 0.040835,
     "end_time": "2023-12-07T16:09:15.208723",
     "exception": false,
     "start_time": "2023-12-07T16:09:15.167888",
     "status": "completed"
    },
    "tags": []
   },
   "outputs": [
    {
     "data": {
      "text/html": [
       "<div>\n",
       "<style scoped>\n",
       "    .dataframe tbody tr th:only-of-type {\n",
       "        vertical-align: middle;\n",
       "    }\n",
       "\n",
       "    .dataframe tbody tr th {\n",
       "        vertical-align: top;\n",
       "    }\n",
       "\n",
       "    .dataframe thead th {\n",
       "        text-align: right;\n",
       "    }\n",
       "</style>\n",
       "<table border=\"1\" class=\"dataframe\">\n",
       "  <thead>\n",
       "    <tr style=\"text-align: right;\">\n",
       "      <th></th>\n",
       "      <th>orgyear</th>\n",
       "      <th>company_hash</th>\n",
       "      <th>email_hash</th>\n",
       "      <th>ctc_updated_year</th>\n",
       "      <th>Designation Flag</th>\n",
       "      <th>ctc_class</th>\n",
       "    </tr>\n",
       "  </thead>\n",
       "  <tbody>\n",
       "    <tr>\n",
       "      <th>0</th>\n",
       "      <td>1900.0000</td>\n",
       "      <td>17090</td>\n",
       "      <td>36951</td>\n",
       "      <td>2019</td>\n",
       "      <td>Engineer</td>\n",
       "      <td>High</td>\n",
       "    </tr>\n",
       "    <tr>\n",
       "      <th>1</th>\n",
       "      <td>1970.0000</td>\n",
       "      <td>26343</td>\n",
       "      <td>80645</td>\n",
       "      <td>2021</td>\n",
       "      <td>Other</td>\n",
       "      <td>Medium</td>\n",
       "    </tr>\n",
       "    <tr>\n",
       "      <th>2</th>\n",
       "      <td>1970.0000</td>\n",
       "      <td>8676</td>\n",
       "      <td>137926</td>\n",
       "      <td>2020</td>\n",
       "      <td>Engineer</td>\n",
       "      <td>Low</td>\n",
       "    </tr>\n",
       "    <tr>\n",
       "      <th>3</th>\n",
       "      <td>1971.0000</td>\n",
       "      <td>32049</td>\n",
       "      <td>131867</td>\n",
       "      <td>2019</td>\n",
       "      <td>Engineer</td>\n",
       "      <td>High</td>\n",
       "    </tr>\n",
       "    <tr>\n",
       "      <th>4</th>\n",
       "      <td>1972.0000</td>\n",
       "      <td>22101</td>\n",
       "      <td>133129</td>\n",
       "      <td>2019</td>\n",
       "      <td>Engineer</td>\n",
       "      <td>High</td>\n",
       "    </tr>\n",
       "    <tr>\n",
       "      <th>...</th>\n",
       "      <td>...</td>\n",
       "      <td>...</td>\n",
       "      <td>...</td>\n",
       "      <td>...</td>\n",
       "      <td>...</td>\n",
       "      <td>...</td>\n",
       "    </tr>\n",
       "    <tr>\n",
       "      <th>205707</th>\n",
       "      <td>2015.0737</td>\n",
       "      <td>8449</td>\n",
       "      <td>136730</td>\n",
       "      <td>2019</td>\n",
       "      <td>Engineer</td>\n",
       "      <td>Medium</td>\n",
       "    </tr>\n",
       "    <tr>\n",
       "      <th>205708</th>\n",
       "      <td>2015.0737</td>\n",
       "      <td>11126</td>\n",
       "      <td>147612</td>\n",
       "      <td>2021</td>\n",
       "      <td>Other</td>\n",
       "      <td>Medium</td>\n",
       "    </tr>\n",
       "    <tr>\n",
       "      <th>205709</th>\n",
       "      <td>2015.0737</td>\n",
       "      <td>30117</td>\n",
       "      <td>26904</td>\n",
       "      <td>2021</td>\n",
       "      <td>Other</td>\n",
       "      <td>Low</td>\n",
       "    </tr>\n",
       "    <tr>\n",
       "      <th>205710</th>\n",
       "      <td>2015.0737</td>\n",
       "      <td>21418</td>\n",
       "      <td>100906</td>\n",
       "      <td>2021</td>\n",
       "      <td>Other</td>\n",
       "      <td>High</td>\n",
       "    </tr>\n",
       "    <tr>\n",
       "      <th>205711</th>\n",
       "      <td>2015.0737</td>\n",
       "      <td>10121</td>\n",
       "      <td>72662</td>\n",
       "      <td>2018</td>\n",
       "      <td>Other</td>\n",
       "      <td>High</td>\n",
       "    </tr>\n",
       "  </tbody>\n",
       "</table>\n",
       "<p>205712 rows × 6 columns</p>\n",
       "</div>"
      ],
      "text/plain": [
       "          orgyear  company_hash  email_hash  ctc_updated_year  \\\n",
       "0       1900.0000         17090       36951              2019   \n",
       "1       1970.0000         26343       80645              2021   \n",
       "2       1970.0000          8676      137926              2020   \n",
       "3       1971.0000         32049      131867              2019   \n",
       "4       1972.0000         22101      133129              2019   \n",
       "...           ...           ...         ...               ...   \n",
       "205707  2015.0737          8449      136730              2019   \n",
       "205708  2015.0737         11126      147612              2021   \n",
       "205709  2015.0737         30117       26904              2021   \n",
       "205710  2015.0737         21418      100906              2021   \n",
       "205711  2015.0737         10121       72662              2018   \n",
       "\n",
       "       Designation Flag ctc_class  \n",
       "0              Engineer      High  \n",
       "1                 Other    Medium  \n",
       "2              Engineer       Low  \n",
       "3              Engineer      High  \n",
       "4              Engineer      High  \n",
       "...                 ...       ...  \n",
       "205707         Engineer    Medium  \n",
       "205708            Other    Medium  \n",
       "205709            Other       Low  \n",
       "205710            Other      High  \n",
       "205711            Other      High  \n",
       "\n",
       "[205712 rows x 6 columns]"
      ]
     },
     "execution_count": 33,
     "metadata": {},
     "output_type": "execute_result"
    }
   ],
   "source": [
    "df"
   ]
  },
  {
   "cell_type": "code",
   "execution_count": 34,
   "id": "f7f651e4",
   "metadata": {
    "execution": {
     "iopub.execute_input": "2023-12-07T16:09:15.253461Z",
     "iopub.status.busy": "2023-12-07T16:09:15.252916Z",
     "iopub.status.idle": "2023-12-07T16:09:15.336068Z",
     "shell.execute_reply": "2023-12-07T16:09:15.334938Z"
    },
    "papermill": {
     "duration": 0.108287,
     "end_time": "2023-12-07T16:09:15.338663",
     "exception": false,
     "start_time": "2023-12-07T16:09:15.230376",
     "status": "completed"
    },
    "tags": []
   },
   "outputs": [
    {
     "data": {
      "text/plain": [
       "(ctc_class\n",
       " Low       104954\n",
       " Medium     60003\n",
       " High       40755\n",
       " Name: count, dtype: int64,\n",
       " ctc_class\n",
       " High      2012.500910\n",
       " Low       2016.329013\n",
       " Medium    2014.625454\n",
       " Name: orgyear, dtype: float64,\n",
       " Designation Flag  Analyst  Consultant  Engineer  Manager  Other\n",
       " ctc_class                                                      \n",
       " High                  272          12     24606     1095  14770\n",
       " Low                  2099          36     53820      595  48404\n",
       " Medium                610          28     36280      540  22545)"
      ]
     },
     "execution_count": 34,
     "metadata": {},
     "output_type": "execute_result"
    }
   ],
   "source": [
    "# Count the number of entries in each class\n",
    "class_counts = df['ctc_class'].value_counts()\n",
    "\n",
    "# Calculate the average 'orgyear' for each class\n",
    "avg_orgyear_by_class = df.groupby('ctc_class')['orgyear'].mean()\n",
    "\n",
    "# Analyze the distribution of 'job_position' across different salary classes\n",
    "job_position_distribution = df.groupby(['ctc_class', 'Designation Flag']).size().unstack()\n",
    "\n",
    "class_counts, avg_orgyear_by_class, job_position_distribution\n"
   ]
  },
  {
   "cell_type": "markdown",
   "id": "c2483bfe",
   "metadata": {
    "papermill": {
     "duration": 0.021226,
     "end_time": "2023-12-07T16:09:15.381731",
     "exception": false,
     "start_time": "2023-12-07T16:09:15.360505",
     "status": "completed"
    },
    "tags": []
   },
   "source": [
    "Based on the output you've provided, here are some insights we can derive:\n",
    "\n",
    "1. **Distribution of Salary Classes:**\n",
    "   - There are 104,954 entries classified as 'Low' salary, 60,003 as 'Medium', and 40,755 as 'High'.\n",
    "   - This distribution suggests that a significant portion of the dataset falls into the 'Low' salary category.\n",
    "\n",
    "2. **Average 'orgyear' by Salary Class:**\n",
    "   - The average 'orgyear' for the 'High' salary class is approximately 2012.50, indicating that on average, entries in this class are older compared to other classes.\n",
    "   - The 'Low' salary class has an average 'orgyear' of around 2016.33, suggesting that these entries are relatively more recent.\n",
    "   - The 'Medium' salary class has an average 'orgyear' of approximately 2014.63.\n",
    "\n",
    "3. **Job Position Distribution Across Salary Classes:**\n",
    "   - In the 'High' salary class, there are 24,606 Engineers and 14,770 in the 'Other' category, indicating a significant presence of these roles in the high salary band.\n",
    "   - The 'Low' salary class is predominantly composed of 53,820 Engineers and 48,404 in the 'Other' category, showing a diverse range of positions in this salary band.\n",
    "   - The 'Medium' salary class has 36,280 Engineers and 22,545 in the 'Other' category, again indicating a diversity of roles.\n",
    "\n",
    "### Overall Insights:\n",
    "\n",
    "- The 'Engineer' role is prevalent across all salary classes, especially in the 'Medium' and 'High' categories, suggesting that engineering positions are well-represented in these salary ranges.\n",
    "- There is a noticeable trend where the average 'orgyear' decreases (becomes more recent) as we move from 'High' to 'Low' salary classes. This could indicate various trends, such as an increase in hiring or salary adjustments over the years.\n",
    "- The 'Other' category is significant across all salary classes, particularly in the 'Low' and 'High' classes, indicating a wide variety of roles or possibly a need for more specific categorization in the dataset.\n",
    "\n"
   ]
  },
  {
   "cell_type": "code",
   "execution_count": 35,
   "id": "539156fd",
   "metadata": {
    "execution": {
     "iopub.execute_input": "2023-12-07T16:09:15.427524Z",
     "iopub.status.busy": "2023-12-07T16:09:15.427103Z",
     "iopub.status.idle": "2023-12-07T16:09:15.443544Z",
     "shell.execute_reply": "2023-12-07T16:09:15.442385Z"
    },
    "papermill": {
     "duration": 0.042513,
     "end_time": "2023-12-07T16:09:15.446045",
     "exception": false,
     "start_time": "2023-12-07T16:09:15.403532",
     "status": "completed"
    },
    "tags": []
   },
   "outputs": [
    {
     "data": {
      "text/html": [
       "<div>\n",
       "<style scoped>\n",
       "    .dataframe tbody tr th:only-of-type {\n",
       "        vertical-align: middle;\n",
       "    }\n",
       "\n",
       "    .dataframe tbody tr th {\n",
       "        vertical-align: top;\n",
       "    }\n",
       "\n",
       "    .dataframe thead th {\n",
       "        text-align: right;\n",
       "    }\n",
       "</style>\n",
       "<table border=\"1\" class=\"dataframe\">\n",
       "  <thead>\n",
       "    <tr style=\"text-align: right;\">\n",
       "      <th></th>\n",
       "      <th>orgyear</th>\n",
       "      <th>company_hash</th>\n",
       "      <th>email_hash</th>\n",
       "      <th>ctc_updated_year</th>\n",
       "      <th>Designation Flag</th>\n",
       "      <th>ctc_class</th>\n",
       "    </tr>\n",
       "  </thead>\n",
       "  <tbody>\n",
       "    <tr>\n",
       "      <th>0</th>\n",
       "      <td>1900.0000</td>\n",
       "      <td>17090</td>\n",
       "      <td>36951</td>\n",
       "      <td>2019</td>\n",
       "      <td>Engineer</td>\n",
       "      <td>High</td>\n",
       "    </tr>\n",
       "    <tr>\n",
       "      <th>1</th>\n",
       "      <td>1970.0000</td>\n",
       "      <td>26343</td>\n",
       "      <td>80645</td>\n",
       "      <td>2021</td>\n",
       "      <td>Other</td>\n",
       "      <td>Medium</td>\n",
       "    </tr>\n",
       "    <tr>\n",
       "      <th>2</th>\n",
       "      <td>1970.0000</td>\n",
       "      <td>8676</td>\n",
       "      <td>137926</td>\n",
       "      <td>2020</td>\n",
       "      <td>Engineer</td>\n",
       "      <td>Low</td>\n",
       "    </tr>\n",
       "    <tr>\n",
       "      <th>3</th>\n",
       "      <td>1971.0000</td>\n",
       "      <td>32049</td>\n",
       "      <td>131867</td>\n",
       "      <td>2019</td>\n",
       "      <td>Engineer</td>\n",
       "      <td>High</td>\n",
       "    </tr>\n",
       "    <tr>\n",
       "      <th>4</th>\n",
       "      <td>1972.0000</td>\n",
       "      <td>22101</td>\n",
       "      <td>133129</td>\n",
       "      <td>2019</td>\n",
       "      <td>Engineer</td>\n",
       "      <td>High</td>\n",
       "    </tr>\n",
       "    <tr>\n",
       "      <th>...</th>\n",
       "      <td>...</td>\n",
       "      <td>...</td>\n",
       "      <td>...</td>\n",
       "      <td>...</td>\n",
       "      <td>...</td>\n",
       "      <td>...</td>\n",
       "    </tr>\n",
       "    <tr>\n",
       "      <th>205707</th>\n",
       "      <td>2015.0737</td>\n",
       "      <td>8449</td>\n",
       "      <td>136730</td>\n",
       "      <td>2019</td>\n",
       "      <td>Engineer</td>\n",
       "      <td>Medium</td>\n",
       "    </tr>\n",
       "    <tr>\n",
       "      <th>205708</th>\n",
       "      <td>2015.0737</td>\n",
       "      <td>11126</td>\n",
       "      <td>147612</td>\n",
       "      <td>2021</td>\n",
       "      <td>Other</td>\n",
       "      <td>Medium</td>\n",
       "    </tr>\n",
       "    <tr>\n",
       "      <th>205709</th>\n",
       "      <td>2015.0737</td>\n",
       "      <td>30117</td>\n",
       "      <td>26904</td>\n",
       "      <td>2021</td>\n",
       "      <td>Other</td>\n",
       "      <td>Low</td>\n",
       "    </tr>\n",
       "    <tr>\n",
       "      <th>205710</th>\n",
       "      <td>2015.0737</td>\n",
       "      <td>21418</td>\n",
       "      <td>100906</td>\n",
       "      <td>2021</td>\n",
       "      <td>Other</td>\n",
       "      <td>High</td>\n",
       "    </tr>\n",
       "    <tr>\n",
       "      <th>205711</th>\n",
       "      <td>2015.0737</td>\n",
       "      <td>10121</td>\n",
       "      <td>72662</td>\n",
       "      <td>2018</td>\n",
       "      <td>Other</td>\n",
       "      <td>High</td>\n",
       "    </tr>\n",
       "  </tbody>\n",
       "</table>\n",
       "<p>205712 rows × 6 columns</p>\n",
       "</div>"
      ],
      "text/plain": [
       "          orgyear  company_hash  email_hash  ctc_updated_year  \\\n",
       "0       1900.0000         17090       36951              2019   \n",
       "1       1970.0000         26343       80645              2021   \n",
       "2       1970.0000          8676      137926              2020   \n",
       "3       1971.0000         32049      131867              2019   \n",
       "4       1972.0000         22101      133129              2019   \n",
       "...           ...           ...         ...               ...   \n",
       "205707  2015.0737          8449      136730              2019   \n",
       "205708  2015.0737         11126      147612              2021   \n",
       "205709  2015.0737         30117       26904              2021   \n",
       "205710  2015.0737         21418      100906              2021   \n",
       "205711  2015.0737         10121       72662              2018   \n",
       "\n",
       "       Designation Flag ctc_class  \n",
       "0              Engineer      High  \n",
       "1                 Other    Medium  \n",
       "2              Engineer       Low  \n",
       "3              Engineer      High  \n",
       "4              Engineer      High  \n",
       "...                 ...       ...  \n",
       "205707         Engineer    Medium  \n",
       "205708            Other    Medium  \n",
       "205709            Other       Low  \n",
       "205710            Other      High  \n",
       "205711            Other      High  \n",
       "\n",
       "[205712 rows x 6 columns]"
      ]
     },
     "execution_count": 35,
     "metadata": {},
     "output_type": "execute_result"
    }
   ],
   "source": [
    "df"
   ]
  },
  {
   "cell_type": "code",
   "execution_count": 36,
   "id": "ee8d985b",
   "metadata": {
    "execution": {
     "iopub.execute_input": "2023-12-07T16:09:15.491777Z",
     "iopub.status.busy": "2023-12-07T16:09:15.491304Z",
     "iopub.status.idle": "2023-12-07T16:09:15.504738Z",
     "shell.execute_reply": "2023-12-07T16:09:15.503579Z"
    },
    "papermill": {
     "duration": 0.039012,
     "end_time": "2023-12-07T16:09:15.507066",
     "exception": false,
     "start_time": "2023-12-07T16:09:15.468054",
     "status": "completed"
    },
    "tags": []
   },
   "outputs": [
    {
     "data": {
      "text/plain": [
       "0    1900\n",
       "1    1970\n",
       "2    1970\n",
       "3    1971\n",
       "4    1972\n",
       "Name: orgyear, dtype: int64"
      ]
     },
     "execution_count": 36,
     "metadata": {},
     "output_type": "execute_result"
    }
   ],
   "source": [
    "# First, handle any NaN or missing values, as they can't be converted to int\n",
    "# You might want to fill them with a placeholder value, like the mean or median year\n",
    "# For example, let's fill NaN values with the median year\n",
    "df['orgyear'].fillna(df['orgyear'].median(), inplace=True)\n",
    "\n",
    "# Now, convert 'orgyear' to integer\n",
    "df['orgyear'] = df['orgyear'].astype(int)\n",
    "\n",
    "# Check the data to ensure the conversion was successful\n",
    "df['orgyear'].head()\n"
   ]
  },
  {
   "cell_type": "code",
   "execution_count": 37,
   "id": "2be5617e",
   "metadata": {
    "execution": {
     "iopub.execute_input": "2023-12-07T16:09:15.554606Z",
     "iopub.status.busy": "2023-12-07T16:09:15.553806Z",
     "iopub.status.idle": "2023-12-07T16:09:15.569091Z",
     "shell.execute_reply": "2023-12-07T16:09:15.567911Z"
    },
    "papermill": {
     "duration": 0.041559,
     "end_time": "2023-12-07T16:09:15.571643",
     "exception": false,
     "start_time": "2023-12-07T16:09:15.530084",
     "status": "completed"
    },
    "tags": []
   },
   "outputs": [
    {
     "data": {
      "text/html": [
       "<div>\n",
       "<style scoped>\n",
       "    .dataframe tbody tr th:only-of-type {\n",
       "        vertical-align: middle;\n",
       "    }\n",
       "\n",
       "    .dataframe tbody tr th {\n",
       "        vertical-align: top;\n",
       "    }\n",
       "\n",
       "    .dataframe thead th {\n",
       "        text-align: right;\n",
       "    }\n",
       "</style>\n",
       "<table border=\"1\" class=\"dataframe\">\n",
       "  <thead>\n",
       "    <tr style=\"text-align: right;\">\n",
       "      <th></th>\n",
       "      <th>orgyear</th>\n",
       "      <th>company_hash</th>\n",
       "      <th>email_hash</th>\n",
       "      <th>ctc_updated_year</th>\n",
       "      <th>Designation Flag</th>\n",
       "      <th>ctc_class</th>\n",
       "    </tr>\n",
       "  </thead>\n",
       "  <tbody>\n",
       "    <tr>\n",
       "      <th>0</th>\n",
       "      <td>1900</td>\n",
       "      <td>17090</td>\n",
       "      <td>36951</td>\n",
       "      <td>2019</td>\n",
       "      <td>Engineer</td>\n",
       "      <td>High</td>\n",
       "    </tr>\n",
       "    <tr>\n",
       "      <th>1</th>\n",
       "      <td>1970</td>\n",
       "      <td>26343</td>\n",
       "      <td>80645</td>\n",
       "      <td>2021</td>\n",
       "      <td>Other</td>\n",
       "      <td>Medium</td>\n",
       "    </tr>\n",
       "    <tr>\n",
       "      <th>2</th>\n",
       "      <td>1970</td>\n",
       "      <td>8676</td>\n",
       "      <td>137926</td>\n",
       "      <td>2020</td>\n",
       "      <td>Engineer</td>\n",
       "      <td>Low</td>\n",
       "    </tr>\n",
       "    <tr>\n",
       "      <th>3</th>\n",
       "      <td>1971</td>\n",
       "      <td>32049</td>\n",
       "      <td>131867</td>\n",
       "      <td>2019</td>\n",
       "      <td>Engineer</td>\n",
       "      <td>High</td>\n",
       "    </tr>\n",
       "    <tr>\n",
       "      <th>4</th>\n",
       "      <td>1972</td>\n",
       "      <td>22101</td>\n",
       "      <td>133129</td>\n",
       "      <td>2019</td>\n",
       "      <td>Engineer</td>\n",
       "      <td>High</td>\n",
       "    </tr>\n",
       "    <tr>\n",
       "      <th>...</th>\n",
       "      <td>...</td>\n",
       "      <td>...</td>\n",
       "      <td>...</td>\n",
       "      <td>...</td>\n",
       "      <td>...</td>\n",
       "      <td>...</td>\n",
       "    </tr>\n",
       "    <tr>\n",
       "      <th>205707</th>\n",
       "      <td>2015</td>\n",
       "      <td>8449</td>\n",
       "      <td>136730</td>\n",
       "      <td>2019</td>\n",
       "      <td>Engineer</td>\n",
       "      <td>Medium</td>\n",
       "    </tr>\n",
       "    <tr>\n",
       "      <th>205708</th>\n",
       "      <td>2015</td>\n",
       "      <td>11126</td>\n",
       "      <td>147612</td>\n",
       "      <td>2021</td>\n",
       "      <td>Other</td>\n",
       "      <td>Medium</td>\n",
       "    </tr>\n",
       "    <tr>\n",
       "      <th>205709</th>\n",
       "      <td>2015</td>\n",
       "      <td>30117</td>\n",
       "      <td>26904</td>\n",
       "      <td>2021</td>\n",
       "      <td>Other</td>\n",
       "      <td>Low</td>\n",
       "    </tr>\n",
       "    <tr>\n",
       "      <th>205710</th>\n",
       "      <td>2015</td>\n",
       "      <td>21418</td>\n",
       "      <td>100906</td>\n",
       "      <td>2021</td>\n",
       "      <td>Other</td>\n",
       "      <td>High</td>\n",
       "    </tr>\n",
       "    <tr>\n",
       "      <th>205711</th>\n",
       "      <td>2015</td>\n",
       "      <td>10121</td>\n",
       "      <td>72662</td>\n",
       "      <td>2018</td>\n",
       "      <td>Other</td>\n",
       "      <td>High</td>\n",
       "    </tr>\n",
       "  </tbody>\n",
       "</table>\n",
       "<p>205712 rows × 6 columns</p>\n",
       "</div>"
      ],
      "text/plain": [
       "        orgyear  company_hash  email_hash  ctc_updated_year Designation Flag  \\\n",
       "0          1900         17090       36951              2019         Engineer   \n",
       "1          1970         26343       80645              2021            Other   \n",
       "2          1970          8676      137926              2020         Engineer   \n",
       "3          1971         32049      131867              2019         Engineer   \n",
       "4          1972         22101      133129              2019         Engineer   \n",
       "...         ...           ...         ...               ...              ...   \n",
       "205707     2015          8449      136730              2019         Engineer   \n",
       "205708     2015         11126      147612              2021            Other   \n",
       "205709     2015         30117       26904              2021            Other   \n",
       "205710     2015         21418      100906              2021            Other   \n",
       "205711     2015         10121       72662              2018            Other   \n",
       "\n",
       "       ctc_class  \n",
       "0           High  \n",
       "1         Medium  \n",
       "2            Low  \n",
       "3           High  \n",
       "4           High  \n",
       "...          ...  \n",
       "205707    Medium  \n",
       "205708    Medium  \n",
       "205709       Low  \n",
       "205710      High  \n",
       "205711      High  \n",
       "\n",
       "[205712 rows x 6 columns]"
      ]
     },
     "execution_count": 37,
     "metadata": {},
     "output_type": "execute_result"
    }
   ],
   "source": [
    "df"
   ]
  },
  {
   "cell_type": "code",
   "execution_count": 38,
   "id": "e29040d5",
   "metadata": {
    "execution": {
     "iopub.execute_input": "2023-12-07T16:09:15.620511Z",
     "iopub.status.busy": "2023-12-07T16:09:15.619948Z",
     "iopub.status.idle": "2023-12-07T16:09:15.681685Z",
     "shell.execute_reply": "2023-12-07T16:09:15.680361Z"
    },
    "papermill": {
     "duration": 0.089349,
     "end_time": "2023-12-07T16:09:15.684604",
     "exception": false,
     "start_time": "2023-12-07T16:09:15.595255",
     "status": "completed"
    },
    "tags": []
   },
   "outputs": [],
   "source": [
    "df_encoded = pd.get_dummies(df, columns=['Designation Flag', 'ctc_class'])\n"
   ]
  },
  {
   "cell_type": "code",
   "execution_count": 39,
   "id": "396573e9",
   "metadata": {
    "execution": {
     "iopub.execute_input": "2023-12-07T16:09:15.733103Z",
     "iopub.status.busy": "2023-12-07T16:09:15.732650Z",
     "iopub.status.idle": "2023-12-07T16:09:15.737319Z",
     "shell.execute_reply": "2023-12-07T16:09:15.736226Z"
    },
    "papermill": {
     "duration": 0.031332,
     "end_time": "2023-12-07T16:09:15.739490",
     "exception": false,
     "start_time": "2023-12-07T16:09:15.708158",
     "status": "completed"
    },
    "tags": []
   },
   "outputs": [],
   "source": [
    "# from pyclustertend import hopkins\n",
    "\n",
    "# # Assuming df_encoded is the DataFrame with numerical features\n",
    "# X = df_encoded.values\n",
    "\n",
    "# # Calculating the Hopkins statistic\n",
    "# hopkins_stat = hopkins(X, X.shape[0])\n"
   ]
  },
  {
   "cell_type": "code",
   "execution_count": null,
   "id": "07aa227e",
   "metadata": {
    "papermill": {
     "duration": 0.022276,
     "end_time": "2023-12-07T16:09:15.784243",
     "exception": false,
     "start_time": "2023-12-07T16:09:15.761967",
     "status": "completed"
    },
    "tags": []
   },
   "outputs": [],
   "source": []
  },
  {
   "cell_type": "code",
   "execution_count": null,
   "id": "1fdbfb5a",
   "metadata": {
    "papermill": {
     "duration": 0.02179,
     "end_time": "2023-12-07T16:09:15.828349",
     "exception": false,
     "start_time": "2023-12-07T16:09:15.806559",
     "status": "completed"
    },
    "tags": []
   },
   "outputs": [],
   "source": []
  }
 ],
 "metadata": {
  "kaggle": {
   "accelerator": "none",
   "dataSources": [
    {
     "datasetId": 4107858,
     "sourceId": 7121793,
     "sourceType": "datasetVersion"
    }
   ],
   "dockerImageVersionId": 30587,
   "isGpuEnabled": false,
   "isInternetEnabled": true,
   "language": "python",
   "sourceType": "notebook"
  },
  "kernelspec": {
   "display_name": "Python 3",
   "language": "python",
   "name": "python3"
  },
  "language_info": {
   "codemirror_mode": {
    "name": "ipython",
    "version": 3
   },
   "file_extension": ".py",
   "mimetype": "text/x-python",
   "name": "python",
   "nbconvert_exporter": "python",
   "pygments_lexer": "ipython3",
   "version": "3.10.12"
  },
  "papermill": {
   "default_parameters": {},
   "duration": 22.596233,
   "end_time": "2023-12-07T16:09:16.673537",
   "environment_variables": {},
   "exception": null,
   "input_path": "__notebook__.ipynb",
   "output_path": "__notebook__.ipynb",
   "parameters": {},
   "start_time": "2023-12-07T16:08:54.077304",
   "version": "2.4.0"
  }
 },
 "nbformat": 4,
 "nbformat_minor": 5
}
