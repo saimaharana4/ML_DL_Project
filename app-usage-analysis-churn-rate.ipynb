{
 "cells": [
  {
   "cell_type": "markdown",
   "id": "79aecd5d",
   "metadata": {
    "_cell_guid": "b1076dfc-b9ad-4769-8c92-a6c4dae69d19",
    "_uuid": "8f2839f25d086af736a60e9eeb907d3b93b6e0e5",
    "papermill": {
     "duration": 0.012036,
     "end_time": "2023-11-30T12:47:24.107354",
     "exception": false,
     "start_time": "2023-11-30T12:47:24.095318",
     "status": "completed"
    },
    "tags": []
   },
   "source": [
    "# INTRODUCTION\n",
    "\n",
    "In today's market, many companies have a mobile presence. Often, these companies provide free products/services in their mobile apps in an attempt to transition their customers to a paid membership. Some examples of paid products, which originate from free ones, are YouTube Red, Pandora Premium. Audible Subscription, and You Need a Budget. Since marketing efforts are never free, these companies need to know exactly who to target with offers and promotions.\n",
    "\n",
    "* Market: The target audience is customers who use a company's free product. In this case study, this refers to users who installed (and used) the company's free mobile app.\n",
    "\n",
    "* Product: The paid memberships often provide enhanced versions of the free products already given for free, alongside new features. For example, Youtube Red allows you to leave the app while still listening to a video.\n",
    "\n",
    "* Goal: The objective of this model is to predict which users will not subscribe to the paid membership, so that greater marketing efforts can go into trying to \"convert\" them to paid users."
   ]
  },
  {
   "cell_type": "markdown",
   "id": "fbde544d",
   "metadata": {
    "papermill": {
     "duration": 0.011907,
     "end_time": "2023-11-30T12:47:24.131260",
     "exception": false,
     "start_time": "2023-11-30T12:47:24.119353",
     "status": "completed"
    },
    "tags": []
   },
   "source": [
    "# BUSINESS CHALLENGE\n",
    "\n",
    "* In this Case Study we will be working for a fintech company that wants to provide its customers with a paid mobile app subscription that will allow them to track all of their finances in one place. To attract customers, the company releases a free version of their app with some of the main features unlocked.\n",
    "\n",
    "* The company has tasked you to identify which users will most likely NOT enroll in the paid product, so that additional offers can be given to them. Because of the costs of these offers, the company does not want to offer them to everybody, especially customers who were going to enroll anyways."
   ]
  },
  {
   "cell_type": "markdown",
   "id": "59667b0b",
   "metadata": {
    "papermill": {
     "duration": 0.011305,
     "end_time": "2023-11-30T12:47:24.154371",
     "exception": false,
     "start_time": "2023-11-30T12:47:24.143066",
     "status": "completed"
    },
    "tags": []
   },
   "source": [
    "# DATA\n",
    "\n",
    "* By working for the company, we have access to each customer's app behavior data. This data allows us to see the date and time of app installation, as well as the features the users engaged with within the app. App behavior is characterized as the list of app screens the user looked at, and whether the user played the financial mini-games available.\n",
    "\n",
    "* The app usage data is only from the user's first day in the app. This limitation exists because users can enjoy a 24-hour free trial of the premium features, and the company wants to target them with new offers shortly after the trial is over."
   ]
  },
  {
   "cell_type": "code",
   "execution_count": 1,
   "id": "a2f41592",
   "metadata": {
    "execution": {
     "iopub.execute_input": "2023-11-30T12:47:24.179371Z",
     "iopub.status.busy": "2023-11-30T12:47:24.178813Z",
     "iopub.status.idle": "2023-11-30T12:47:25.700906Z",
     "shell.execute_reply": "2023-11-30T12:47:25.700007Z"
    },
    "papermill": {
     "duration": 1.537696,
     "end_time": "2023-11-30T12:47:25.703576",
     "exception": false,
     "start_time": "2023-11-30T12:47:24.165880",
     "status": "completed"
    },
    "tags": []
   },
   "outputs": [],
   "source": [
    "#import all the library\n",
    "import pandas as pd\n",
    "import numpy as np\n",
    "import matplotlib.pyplot as plt\n",
    "import seaborn as sns\n",
    "from dateutil import parser\n",
    "import time"
   ]
  },
  {
   "cell_type": "code",
   "execution_count": 2,
   "id": "03124249",
   "metadata": {
    "execution": {
     "iopub.execute_input": "2023-11-30T12:47:25.728735Z",
     "iopub.status.busy": "2023-11-30T12:47:25.728238Z",
     "iopub.status.idle": "2023-11-30T12:47:26.087142Z",
     "shell.execute_reply": "2023-11-30T12:47:26.086015Z"
    },
    "papermill": {
     "duration": 0.374675,
     "end_time": "2023-11-30T12:47:26.089942",
     "exception": false,
     "start_time": "2023-11-30T12:47:25.715267",
     "status": "completed"
    },
    "tags": []
   },
   "outputs": [],
   "source": [
    "#import the data set using pandas\n",
    "df = pd.read_csv(r\"/kaggle/input/app-data/new_appdata10.csv\")"
   ]
  },
  {
   "cell_type": "code",
   "execution_count": 3,
   "id": "74e4d305",
   "metadata": {
    "execution": {
     "iopub.execute_input": "2023-11-30T12:47:26.117805Z",
     "iopub.status.busy": "2023-11-30T12:47:26.116939Z",
     "iopub.status.idle": "2023-11-30T12:47:26.142171Z",
     "shell.execute_reply": "2023-11-30T12:47:26.141135Z"
    },
    "papermill": {
     "duration": 0.042237,
     "end_time": "2023-11-30T12:47:26.144366",
     "exception": false,
     "start_time": "2023-11-30T12:47:26.102129",
     "status": "completed"
    },
    "tags": []
   },
   "outputs": [
    {
     "data": {
      "text/html": [
       "<div>\n",
       "<style scoped>\n",
       "    .dataframe tbody tr th:only-of-type {\n",
       "        vertical-align: middle;\n",
       "    }\n",
       "\n",
       "    .dataframe tbody tr th {\n",
       "        vertical-align: top;\n",
       "    }\n",
       "\n",
       "    .dataframe thead th {\n",
       "        text-align: right;\n",
       "    }\n",
       "</style>\n",
       "<table border=\"1\" class=\"dataframe\">\n",
       "  <thead>\n",
       "    <tr style=\"text-align: right;\">\n",
       "      <th></th>\n",
       "      <th>user</th>\n",
       "      <th>first_open</th>\n",
       "      <th>dayofweek</th>\n",
       "      <th>hour</th>\n",
       "      <th>age</th>\n",
       "      <th>screen_list</th>\n",
       "      <th>numscreens</th>\n",
       "      <th>minigame</th>\n",
       "      <th>used_premium_feature</th>\n",
       "      <th>enrolled</th>\n",
       "      <th>enrolled_date</th>\n",
       "      <th>liked</th>\n",
       "    </tr>\n",
       "  </thead>\n",
       "  <tbody>\n",
       "    <tr>\n",
       "      <th>0</th>\n",
       "      <td>235136</td>\n",
       "      <td>2012-12-27 02:14:51.273</td>\n",
       "      <td>3</td>\n",
       "      <td>02:00:00</td>\n",
       "      <td>23</td>\n",
       "      <td>idscreen,joinscreen,Cycle,product_review,ScanP...</td>\n",
       "      <td>15</td>\n",
       "      <td>0</td>\n",
       "      <td>0</td>\n",
       "      <td>0</td>\n",
       "      <td>NaN</td>\n",
       "      <td>0</td>\n",
       "    </tr>\n",
       "    <tr>\n",
       "      <th>1</th>\n",
       "      <td>333588</td>\n",
       "      <td>2012-12-02 01:16:00.905</td>\n",
       "      <td>6</td>\n",
       "      <td>01:00:00</td>\n",
       "      <td>24</td>\n",
       "      <td>joinscreen,product_review,product_review2,Scan...</td>\n",
       "      <td>13</td>\n",
       "      <td>0</td>\n",
       "      <td>0</td>\n",
       "      <td>0</td>\n",
       "      <td>NaN</td>\n",
       "      <td>0</td>\n",
       "    </tr>\n",
       "    <tr>\n",
       "      <th>2</th>\n",
       "      <td>254414</td>\n",
       "      <td>2013-03-19 19:19:09.157</td>\n",
       "      <td>1</td>\n",
       "      <td>19:00:00</td>\n",
       "      <td>23</td>\n",
       "      <td>Splash,Cycle,Loan</td>\n",
       "      <td>3</td>\n",
       "      <td>0</td>\n",
       "      <td>1</td>\n",
       "      <td>0</td>\n",
       "      <td>NaN</td>\n",
       "      <td>1</td>\n",
       "    </tr>\n",
       "    <tr>\n",
       "      <th>3</th>\n",
       "      <td>234192</td>\n",
       "      <td>2013-07-05 16:08:46.354</td>\n",
       "      <td>4</td>\n",
       "      <td>16:00:00</td>\n",
       "      <td>28</td>\n",
       "      <td>product_review,Home,product_review,Loan3,Finan...</td>\n",
       "      <td>40</td>\n",
       "      <td>0</td>\n",
       "      <td>0</td>\n",
       "      <td>1</td>\n",
       "      <td>2013-07-05 16:11:49.513</td>\n",
       "      <td>0</td>\n",
       "    </tr>\n",
       "    <tr>\n",
       "      <th>4</th>\n",
       "      <td>51549</td>\n",
       "      <td>2013-02-26 18:50:48.661</td>\n",
       "      <td>1</td>\n",
       "      <td>18:00:00</td>\n",
       "      <td>31</td>\n",
       "      <td>idscreen,joinscreen,Cycle,Credit3Container,Sca...</td>\n",
       "      <td>32</td>\n",
       "      <td>0</td>\n",
       "      <td>0</td>\n",
       "      <td>1</td>\n",
       "      <td>2013-02-26 18:56:37.841</td>\n",
       "      <td>1</td>\n",
       "    </tr>\n",
       "  </tbody>\n",
       "</table>\n",
       "</div>"
      ],
      "text/plain": [
       "     user               first_open  dayofweek       hour  age  \\\n",
       "0  235136  2012-12-27 02:14:51.273          3   02:00:00   23   \n",
       "1  333588  2012-12-02 01:16:00.905          6   01:00:00   24   \n",
       "2  254414  2013-03-19 19:19:09.157          1   19:00:00   23   \n",
       "3  234192  2013-07-05 16:08:46.354          4   16:00:00   28   \n",
       "4   51549  2013-02-26 18:50:48.661          1   18:00:00   31   \n",
       "\n",
       "                                         screen_list  numscreens  minigame  \\\n",
       "0  idscreen,joinscreen,Cycle,product_review,ScanP...          15         0   \n",
       "1  joinscreen,product_review,product_review2,Scan...          13         0   \n",
       "2                                  Splash,Cycle,Loan           3         0   \n",
       "3  product_review,Home,product_review,Loan3,Finan...          40         0   \n",
       "4  idscreen,joinscreen,Cycle,Credit3Container,Sca...          32         0   \n",
       "\n",
       "   used_premium_feature  enrolled            enrolled_date  liked  \n",
       "0                     0         0                      NaN      0  \n",
       "1                     0         0                      NaN      0  \n",
       "2                     1         0                      NaN      1  \n",
       "3                     0         1  2013-07-05 16:11:49.513      0  \n",
       "4                     0         1  2013-02-26 18:56:37.841      1  "
      ]
     },
     "execution_count": 3,
     "metadata": {},
     "output_type": "execute_result"
    }
   ],
   "source": [
    "#Check the data set how its look\n",
    "df.head()"
   ]
  },
  {
   "cell_type": "code",
   "execution_count": 4,
   "id": "9e2a1046",
   "metadata": {
    "execution": {
     "iopub.execute_input": "2023-11-30T12:47:26.169828Z",
     "iopub.status.busy": "2023-11-30T12:47:26.169385Z",
     "iopub.status.idle": "2023-11-30T12:47:26.218217Z",
     "shell.execute_reply": "2023-11-30T12:47:26.217119Z"
    },
    "papermill": {
     "duration": 0.064231,
     "end_time": "2023-11-30T12:47:26.220471",
     "exception": false,
     "start_time": "2023-11-30T12:47:26.156240",
     "status": "completed"
    },
    "tags": []
   },
   "outputs": [
    {
     "data": {
      "text/html": [
       "<div>\n",
       "<style scoped>\n",
       "    .dataframe tbody tr th:only-of-type {\n",
       "        vertical-align: middle;\n",
       "    }\n",
       "\n",
       "    .dataframe tbody tr th {\n",
       "        vertical-align: top;\n",
       "    }\n",
       "\n",
       "    .dataframe thead th {\n",
       "        text-align: right;\n",
       "    }\n",
       "</style>\n",
       "<table border=\"1\" class=\"dataframe\">\n",
       "  <thead>\n",
       "    <tr style=\"text-align: right;\">\n",
       "      <th></th>\n",
       "      <th>user</th>\n",
       "      <th>dayofweek</th>\n",
       "      <th>age</th>\n",
       "      <th>numscreens</th>\n",
       "      <th>minigame</th>\n",
       "      <th>used_premium_feature</th>\n",
       "      <th>enrolled</th>\n",
       "      <th>liked</th>\n",
       "    </tr>\n",
       "  </thead>\n",
       "  <tbody>\n",
       "    <tr>\n",
       "      <th>count</th>\n",
       "      <td>50000.000000</td>\n",
       "      <td>50000.000000</td>\n",
       "      <td>50000.00000</td>\n",
       "      <td>50000.000000</td>\n",
       "      <td>50000.000000</td>\n",
       "      <td>50000.000000</td>\n",
       "      <td>50000.000000</td>\n",
       "      <td>50000.000000</td>\n",
       "    </tr>\n",
       "    <tr>\n",
       "      <th>mean</th>\n",
       "      <td>186889.729900</td>\n",
       "      <td>3.029860</td>\n",
       "      <td>31.72436</td>\n",
       "      <td>21.095900</td>\n",
       "      <td>0.107820</td>\n",
       "      <td>0.172020</td>\n",
       "      <td>0.621480</td>\n",
       "      <td>0.165000</td>\n",
       "    </tr>\n",
       "    <tr>\n",
       "      <th>std</th>\n",
       "      <td>107768.520361</td>\n",
       "      <td>2.031997</td>\n",
       "      <td>10.80331</td>\n",
       "      <td>15.728812</td>\n",
       "      <td>0.310156</td>\n",
       "      <td>0.377402</td>\n",
       "      <td>0.485023</td>\n",
       "      <td>0.371184</td>\n",
       "    </tr>\n",
       "    <tr>\n",
       "      <th>min</th>\n",
       "      <td>13.000000</td>\n",
       "      <td>0.000000</td>\n",
       "      <td>16.00000</td>\n",
       "      <td>1.000000</td>\n",
       "      <td>0.000000</td>\n",
       "      <td>0.000000</td>\n",
       "      <td>0.000000</td>\n",
       "      <td>0.000000</td>\n",
       "    </tr>\n",
       "    <tr>\n",
       "      <th>25%</th>\n",
       "      <td>93526.750000</td>\n",
       "      <td>1.000000</td>\n",
       "      <td>24.00000</td>\n",
       "      <td>10.000000</td>\n",
       "      <td>0.000000</td>\n",
       "      <td>0.000000</td>\n",
       "      <td>0.000000</td>\n",
       "      <td>0.000000</td>\n",
       "    </tr>\n",
       "    <tr>\n",
       "      <th>50%</th>\n",
       "      <td>187193.500000</td>\n",
       "      <td>3.000000</td>\n",
       "      <td>29.00000</td>\n",
       "      <td>18.000000</td>\n",
       "      <td>0.000000</td>\n",
       "      <td>0.000000</td>\n",
       "      <td>1.000000</td>\n",
       "      <td>0.000000</td>\n",
       "    </tr>\n",
       "    <tr>\n",
       "      <th>75%</th>\n",
       "      <td>279984.250000</td>\n",
       "      <td>5.000000</td>\n",
       "      <td>37.00000</td>\n",
       "      <td>28.000000</td>\n",
       "      <td>0.000000</td>\n",
       "      <td>0.000000</td>\n",
       "      <td>1.000000</td>\n",
       "      <td>0.000000</td>\n",
       "    </tr>\n",
       "    <tr>\n",
       "      <th>max</th>\n",
       "      <td>373662.000000</td>\n",
       "      <td>6.000000</td>\n",
       "      <td>101.00000</td>\n",
       "      <td>325.000000</td>\n",
       "      <td>1.000000</td>\n",
       "      <td>1.000000</td>\n",
       "      <td>1.000000</td>\n",
       "      <td>1.000000</td>\n",
       "    </tr>\n",
       "  </tbody>\n",
       "</table>\n",
       "</div>"
      ],
      "text/plain": [
       "                user     dayofweek          age    numscreens      minigame  \\\n",
       "count   50000.000000  50000.000000  50000.00000  50000.000000  50000.000000   \n",
       "mean   186889.729900      3.029860     31.72436     21.095900      0.107820   \n",
       "std    107768.520361      2.031997     10.80331     15.728812      0.310156   \n",
       "min        13.000000      0.000000     16.00000      1.000000      0.000000   \n",
       "25%     93526.750000      1.000000     24.00000     10.000000      0.000000   \n",
       "50%    187193.500000      3.000000     29.00000     18.000000      0.000000   \n",
       "75%    279984.250000      5.000000     37.00000     28.000000      0.000000   \n",
       "max    373662.000000      6.000000    101.00000    325.000000      1.000000   \n",
       "\n",
       "       used_premium_feature      enrolled         liked  \n",
       "count          50000.000000  50000.000000  50000.000000  \n",
       "mean               0.172020      0.621480      0.165000  \n",
       "std                0.377402      0.485023      0.371184  \n",
       "min                0.000000      0.000000      0.000000  \n",
       "25%                0.000000      0.000000      0.000000  \n",
       "50%                0.000000      1.000000      0.000000  \n",
       "75%                0.000000      1.000000      0.000000  \n",
       "max                1.000000      1.000000      1.000000  "
      ]
     },
     "execution_count": 4,
     "metadata": {},
     "output_type": "execute_result"
    }
   ],
   "source": [
    " df.describe()"
   ]
  },
  {
   "cell_type": "code",
   "execution_count": 5,
   "id": "12a2cac8",
   "metadata": {
    "execution": {
     "iopub.execute_input": "2023-11-30T12:47:26.246549Z",
     "iopub.status.busy": "2023-11-30T12:47:26.246194Z",
     "iopub.status.idle": "2023-11-30T12:47:26.275481Z",
     "shell.execute_reply": "2023-11-30T12:47:26.274533Z"
    },
    "papermill": {
     "duration": 0.044742,
     "end_time": "2023-11-30T12:47:26.277609",
     "exception": false,
     "start_time": "2023-11-30T12:47:26.232867",
     "status": "completed"
    },
    "tags": []
   },
   "outputs": [],
   "source": [
    "#Data Cleaning\n",
    "df['hour'] = df.hour.str.slice(1,3).astype(int)"
   ]
  },
  {
   "cell_type": "code",
   "execution_count": 6,
   "id": "275b6a05",
   "metadata": {
    "execution": {
     "iopub.execute_input": "2023-11-30T12:47:26.304323Z",
     "iopub.status.busy": "2023-11-30T12:47:26.303956Z",
     "iopub.status.idle": "2023-11-30T12:47:26.317828Z",
     "shell.execute_reply": "2023-11-30T12:47:26.316762Z"
    },
    "papermill": {
     "duration": 0.030186,
     "end_time": "2023-11-30T12:47:26.320038",
     "exception": false,
     "start_time": "2023-11-30T12:47:26.289852",
     "status": "completed"
    },
    "tags": []
   },
   "outputs": [
    {
     "data": {
      "text/html": [
       "<div>\n",
       "<style scoped>\n",
       "    .dataframe tbody tr th:only-of-type {\n",
       "        vertical-align: middle;\n",
       "    }\n",
       "\n",
       "    .dataframe tbody tr th {\n",
       "        vertical-align: top;\n",
       "    }\n",
       "\n",
       "    .dataframe thead th {\n",
       "        text-align: right;\n",
       "    }\n",
       "</style>\n",
       "<table border=\"1\" class=\"dataframe\">\n",
       "  <thead>\n",
       "    <tr style=\"text-align: right;\">\n",
       "      <th></th>\n",
       "      <th>user</th>\n",
       "      <th>first_open</th>\n",
       "      <th>dayofweek</th>\n",
       "      <th>hour</th>\n",
       "      <th>age</th>\n",
       "      <th>screen_list</th>\n",
       "      <th>numscreens</th>\n",
       "      <th>minigame</th>\n",
       "      <th>used_premium_feature</th>\n",
       "      <th>enrolled</th>\n",
       "      <th>enrolled_date</th>\n",
       "      <th>liked</th>\n",
       "    </tr>\n",
       "  </thead>\n",
       "  <tbody>\n",
       "    <tr>\n",
       "      <th>0</th>\n",
       "      <td>235136</td>\n",
       "      <td>2012-12-27 02:14:51.273</td>\n",
       "      <td>3</td>\n",
       "      <td>2</td>\n",
       "      <td>23</td>\n",
       "      <td>idscreen,joinscreen,Cycle,product_review,ScanP...</td>\n",
       "      <td>15</td>\n",
       "      <td>0</td>\n",
       "      <td>0</td>\n",
       "      <td>0</td>\n",
       "      <td>NaN</td>\n",
       "      <td>0</td>\n",
       "    </tr>\n",
       "    <tr>\n",
       "      <th>1</th>\n",
       "      <td>333588</td>\n",
       "      <td>2012-12-02 01:16:00.905</td>\n",
       "      <td>6</td>\n",
       "      <td>1</td>\n",
       "      <td>24</td>\n",
       "      <td>joinscreen,product_review,product_review2,Scan...</td>\n",
       "      <td>13</td>\n",
       "      <td>0</td>\n",
       "      <td>0</td>\n",
       "      <td>0</td>\n",
       "      <td>NaN</td>\n",
       "      <td>0</td>\n",
       "    </tr>\n",
       "    <tr>\n",
       "      <th>2</th>\n",
       "      <td>254414</td>\n",
       "      <td>2013-03-19 19:19:09.157</td>\n",
       "      <td>1</td>\n",
       "      <td>19</td>\n",
       "      <td>23</td>\n",
       "      <td>Splash,Cycle,Loan</td>\n",
       "      <td>3</td>\n",
       "      <td>0</td>\n",
       "      <td>1</td>\n",
       "      <td>0</td>\n",
       "      <td>NaN</td>\n",
       "      <td>1</td>\n",
       "    </tr>\n",
       "    <tr>\n",
       "      <th>3</th>\n",
       "      <td>234192</td>\n",
       "      <td>2013-07-05 16:08:46.354</td>\n",
       "      <td>4</td>\n",
       "      <td>16</td>\n",
       "      <td>28</td>\n",
       "      <td>product_review,Home,product_review,Loan3,Finan...</td>\n",
       "      <td>40</td>\n",
       "      <td>0</td>\n",
       "      <td>0</td>\n",
       "      <td>1</td>\n",
       "      <td>2013-07-05 16:11:49.513</td>\n",
       "      <td>0</td>\n",
       "    </tr>\n",
       "    <tr>\n",
       "      <th>4</th>\n",
       "      <td>51549</td>\n",
       "      <td>2013-02-26 18:50:48.661</td>\n",
       "      <td>1</td>\n",
       "      <td>18</td>\n",
       "      <td>31</td>\n",
       "      <td>idscreen,joinscreen,Cycle,Credit3Container,Sca...</td>\n",
       "      <td>32</td>\n",
       "      <td>0</td>\n",
       "      <td>0</td>\n",
       "      <td>1</td>\n",
       "      <td>2013-02-26 18:56:37.841</td>\n",
       "      <td>1</td>\n",
       "    </tr>\n",
       "  </tbody>\n",
       "</table>\n",
       "</div>"
      ],
      "text/plain": [
       "     user               first_open  dayofweek  hour  age  \\\n",
       "0  235136  2012-12-27 02:14:51.273          3     2   23   \n",
       "1  333588  2012-12-02 01:16:00.905          6     1   24   \n",
       "2  254414  2013-03-19 19:19:09.157          1    19   23   \n",
       "3  234192  2013-07-05 16:08:46.354          4    16   28   \n",
       "4   51549  2013-02-26 18:50:48.661          1    18   31   \n",
       "\n",
       "                                         screen_list  numscreens  minigame  \\\n",
       "0  idscreen,joinscreen,Cycle,product_review,ScanP...          15         0   \n",
       "1  joinscreen,product_review,product_review2,Scan...          13         0   \n",
       "2                                  Splash,Cycle,Loan           3         0   \n",
       "3  product_review,Home,product_review,Loan3,Finan...          40         0   \n",
       "4  idscreen,joinscreen,Cycle,Credit3Container,Sca...          32         0   \n",
       "\n",
       "   used_premium_feature  enrolled            enrolled_date  liked  \n",
       "0                     0         0                      NaN      0  \n",
       "1                     0         0                      NaN      0  \n",
       "2                     1         0                      NaN      1  \n",
       "3                     0         1  2013-07-05 16:11:49.513      0  \n",
       "4                     0         1  2013-02-26 18:56:37.841      1  "
      ]
     },
     "execution_count": 6,
     "metadata": {},
     "output_type": "execute_result"
    }
   ],
   "source": [
    "df.head()"
   ]
  },
  {
   "cell_type": "code",
   "execution_count": 7,
   "id": "1a0e309a",
   "metadata": {
    "execution": {
     "iopub.execute_input": "2023-11-30T12:47:26.347004Z",
     "iopub.status.busy": "2023-11-30T12:47:26.346142Z",
     "iopub.status.idle": "2023-11-30T12:47:26.369404Z",
     "shell.execute_reply": "2023-11-30T12:47:26.368563Z"
    },
    "papermill": {
     "duration": 0.039292,
     "end_time": "2023-11-30T12:47:26.371791",
     "exception": false,
     "start_time": "2023-11-30T12:47:26.332499",
     "status": "completed"
    },
    "tags": []
   },
   "outputs": [],
   "source": [
    "#create a copy of dataset\n",
    "df_temp = df.copy().drop(columns = [\"user\",\"screen_list\",\"enrolled_date\",\"enrolled\",\"first_open\"])"
   ]
  },
  {
   "cell_type": "code",
   "execution_count": 8,
   "id": "4d37c2a2",
   "metadata": {
    "execution": {
     "iopub.execute_input": "2023-11-30T12:47:26.399274Z",
     "iopub.status.busy": "2023-11-30T12:47:26.398519Z",
     "iopub.status.idle": "2023-11-30T12:47:26.408794Z",
     "shell.execute_reply": "2023-11-30T12:47:26.408066Z"
    },
    "papermill": {
     "duration": 0.025668,
     "end_time": "2023-11-30T12:47:26.410591",
     "exception": false,
     "start_time": "2023-11-30T12:47:26.384923",
     "status": "completed"
    },
    "tags": []
   },
   "outputs": [
    {
     "data": {
      "text/html": [
       "<div>\n",
       "<style scoped>\n",
       "    .dataframe tbody tr th:only-of-type {\n",
       "        vertical-align: middle;\n",
       "    }\n",
       "\n",
       "    .dataframe tbody tr th {\n",
       "        vertical-align: top;\n",
       "    }\n",
       "\n",
       "    .dataframe thead th {\n",
       "        text-align: right;\n",
       "    }\n",
       "</style>\n",
       "<table border=\"1\" class=\"dataframe\">\n",
       "  <thead>\n",
       "    <tr style=\"text-align: right;\">\n",
       "      <th></th>\n",
       "      <th>dayofweek</th>\n",
       "      <th>hour</th>\n",
       "      <th>age</th>\n",
       "      <th>numscreens</th>\n",
       "      <th>minigame</th>\n",
       "      <th>used_premium_feature</th>\n",
       "      <th>liked</th>\n",
       "    </tr>\n",
       "  </thead>\n",
       "  <tbody>\n",
       "    <tr>\n",
       "      <th>0</th>\n",
       "      <td>3</td>\n",
       "      <td>2</td>\n",
       "      <td>23</td>\n",
       "      <td>15</td>\n",
       "      <td>0</td>\n",
       "      <td>0</td>\n",
       "      <td>0</td>\n",
       "    </tr>\n",
       "    <tr>\n",
       "      <th>1</th>\n",
       "      <td>6</td>\n",
       "      <td>1</td>\n",
       "      <td>24</td>\n",
       "      <td>13</td>\n",
       "      <td>0</td>\n",
       "      <td>0</td>\n",
       "      <td>0</td>\n",
       "    </tr>\n",
       "    <tr>\n",
       "      <th>2</th>\n",
       "      <td>1</td>\n",
       "      <td>19</td>\n",
       "      <td>23</td>\n",
       "      <td>3</td>\n",
       "      <td>0</td>\n",
       "      <td>1</td>\n",
       "      <td>1</td>\n",
       "    </tr>\n",
       "    <tr>\n",
       "      <th>3</th>\n",
       "      <td>4</td>\n",
       "      <td>16</td>\n",
       "      <td>28</td>\n",
       "      <td>40</td>\n",
       "      <td>0</td>\n",
       "      <td>0</td>\n",
       "      <td>0</td>\n",
       "    </tr>\n",
       "    <tr>\n",
       "      <th>4</th>\n",
       "      <td>1</td>\n",
       "      <td>18</td>\n",
       "      <td>31</td>\n",
       "      <td>32</td>\n",
       "      <td>0</td>\n",
       "      <td>0</td>\n",
       "      <td>1</td>\n",
       "    </tr>\n",
       "  </tbody>\n",
       "</table>\n",
       "</div>"
      ],
      "text/plain": [
       "   dayofweek  hour  age  numscreens  minigame  used_premium_feature  liked\n",
       "0          3     2   23          15         0                     0      0\n",
       "1          6     1   24          13         0                     0      0\n",
       "2          1    19   23           3         0                     1      1\n",
       "3          4    16   28          40         0                     0      0\n",
       "4          1    18   31          32         0                     0      1"
      ]
     },
     "execution_count": 8,
     "metadata": {},
     "output_type": "execute_result"
    }
   ],
   "source": [
    "df_temp.head()"
   ]
  },
  {
   "cell_type": "code",
   "execution_count": 9,
   "id": "a9af754e",
   "metadata": {
    "execution": {
     "iopub.execute_input": "2023-11-30T12:47:26.497109Z",
     "iopub.status.busy": "2023-11-30T12:47:26.496489Z",
     "iopub.status.idle": "2023-11-30T12:47:28.175844Z",
     "shell.execute_reply": "2023-11-30T12:47:28.174842Z"
    },
    "papermill": {
     "duration": 1.754856,
     "end_time": "2023-11-30T12:47:28.178116",
     "exception": false,
     "start_time": "2023-11-30T12:47:26.423260",
     "status": "completed"
    },
    "tags": []
   },
   "outputs": [
    {
     "data": {
      "image/png": "[encoded data removed]",
      "text/plain": [
       "<Figure size 640x480 with 1 Axes>"
      ]
     },
     "metadata": {},
     "output_type": "display_data"
    },
    {
     "data": {
      "image/png": "[encoded data removed]",
      "text/plain": [
       "<Figure size 640x480 with 1 Axes>"
      ]
     },
     "metadata": {},
     "output_type": "display_data"
    },
    {
     "data": {
      "image/png": "[encoded data removed]",
      "text/plain": [
       "<Figure size 640x480 with 1 Axes>"
      ]
     },
     "metadata": {},
     "output_type": "display_data"
    },
    {
     "data": {
      "image/png": "[encoded data removed]",
      "text/plain": [
       "<Figure size 640x480 with 1 Axes>"
      ]
     },
     "metadata": {},
     "output_type": "display_data"
    },
    {
     "data": {
      "image/png": "[encoded data removed]",
      "text/plain": [
       "<Figure size 640x480 with 1 Axes>"
      ]
     },
     "metadata": {},
     "output_type": "display_data"
    },
    {
     "data": {
      "image/png": "[encoded data removed]",
      "text/plain": [
       "<Figure size 640x480 with 1 Axes>"
      ]
     },
     "metadata": {},
     "output_type": "display_data"
    },
    {
     "data": {
      "image/png": "[encoded data removed]",
      "text/plain": [
       "<Figure size 640x480 with 1 Axes>"
      ]
     },
     "metadata": {},
     "output_type": "display_data"
    }
   ],
   "source": [
    "#Create a Histogram\n",
    "plt.suptitle(\"Histograms of numerical columns\", fontsize = 20)\n",
    "for i in range(1, df_temp.shape[1]+1):\n",
    "    plt.subplot(3,3,i)\n",
    "    f = plt.gca()\n",
    "    f.set_title(df_temp.columns.values[i - 1])\n",
    "    \n",
    "    vals = np.size(df_temp.iloc[:,i-1].unique())\n",
    "    plt.hist(df_temp.iloc[:,i-1],bins = vals, color = '#3F5D7D')\n",
    "    plt.show()"
   ]
  },
  {
   "cell_type": "code",
   "execution_count": 10,
   "id": "55dddd77",
   "metadata": {
    "execution": {
     "iopub.execute_input": "2023-11-30T12:47:28.208630Z",
     "iopub.status.busy": "2023-11-30T12:47:28.207923Z",
     "iopub.status.idle": "2023-11-30T12:47:28.625021Z",
     "shell.execute_reply": "2023-11-30T12:47:28.623857Z"
    },
    "papermill": {
     "duration": 0.435365,
     "end_time": "2023-11-30T12:47:28.627937",
     "exception": false,
     "start_time": "2023-11-30T12:47:28.192572",
     "status": "completed"
    },
    "tags": []
   },
   "outputs": [
    {
     "data": {
      "text/plain": [
       "<Axes: title={'center': 'Correlation with Response Variable'}>"
      ]
     },
     "execution_count": 10,
     "metadata": {},
     "output_type": "execute_result"
    },
    {
     "data": {
      "image/png": "[encoded data removed]",
      "text/plain": [
       "<Figure size 2000x1000 with 1 Axes>"
      ]
     },
     "metadata": {},
     "output_type": "display_data"
    }
   ],
   "source": [
    "#Correlation with Responses\n",
    "df_temp.corrwith(df[\"enrolled\"]).plot.bar(figsize=(20,10), \n",
    "                                          title =\"Correlation with Response Variable\",\n",
    "                                         fontsize = 15,\n",
    "                                         rot =45,\n",
    "                                         grid = True)"
   ]
  },
  {
   "cell_type": "code",
   "execution_count": 11,
   "id": "57aa48d8",
   "metadata": {
    "execution": {
     "iopub.execute_input": "2023-11-30T12:47:28.661408Z",
     "iopub.status.busy": "2023-11-30T12:47:28.660723Z",
     "iopub.status.idle": "2023-11-30T12:47:29.328908Z",
     "shell.execute_reply": "2023-11-30T12:47:29.327759Z"
    },
    "papermill": {
     "duration": 0.688436,
     "end_time": "2023-11-30T12:47:29.331954",
     "exception": false,
     "start_time": "2023-11-30T12:47:28.643518",
     "status": "completed"
    },
    "tags": []
   },
   "outputs": [
    {
     "data": {
      "text/plain": [
       "<Axes: >"
      ]
     },
     "execution_count": 11,
     "metadata": {},
     "output_type": "execute_result"
    },
    {
     "data": {
      "image/png": "[encoded data removed]",
      "text/plain": [
       "<Figure size 1800x1500 with 2 Axes>"
      ]
     },
     "metadata": {},
     "output_type": "display_data"
    }
   ],
   "source": [
    "#Correlation matrix\n",
    "sns.set(style = 'white', font_scale =2)\n",
    "\n",
    "#Compute Correlation Matrix\n",
    "corr = df_temp.corr()\n",
    "\n",
    "#Genarte a mask for the upper triangle\n",
    "mask = np.zeros_like(corr,dtype = np.bool_)\n",
    "mask[np.triu_indices_from(mask)] = True\n",
    "\n",
    "#Set up the matplotlib figure\n",
    "fig, axes = plt.subplots(figsize = (18,15))\n",
    "fig.suptitle(\"Correlation Matrix\", fontsize = 40)\n",
    "\n",
    "#Generate a custome diverging colormap\n",
    "cmap = sns.diverging_palette(220,10, as_cmap = True)\n",
    "\n",
    "#Draw the heatmap with the mask an correct aspect ratio\n",
    "sns.heatmap(corr, mask = mask, cmap = cmap, vmax = .3, center = 0, square = True, linewidths =0.5, cbar_kws = {\"shrink\": 0.5} )"
   ]
  },
  {
   "cell_type": "code",
   "execution_count": 12,
   "id": "43accd61",
   "metadata": {
    "execution": {
     "iopub.execute_input": "2023-11-30T12:47:29.368425Z",
     "iopub.status.busy": "2023-11-30T12:47:29.367997Z",
     "iopub.status.idle": "2023-11-30T12:47:29.376395Z",
     "shell.execute_reply": "2023-11-30T12:47:29.375311Z"
    },
    "papermill": {
     "duration": 0.029661,
     "end_time": "2023-11-30T12:47:29.378512",
     "exception": false,
     "start_time": "2023-11-30T12:47:29.348851",
     "status": "completed"
    },
    "tags": []
   },
   "outputs": [
    {
     "data": {
      "text/plain": [
       "user                     int64\n",
       "first_open              object\n",
       "dayofweek                int64\n",
       "hour                     int64\n",
       "age                      int64\n",
       "screen_list             object\n",
       "numscreens               int64\n",
       "minigame                 int64\n",
       "used_premium_feature     int64\n",
       "enrolled                 int64\n",
       "enrolled_date           object\n",
       "liked                    int64\n",
       "dtype: object"
      ]
     },
     "execution_count": 12,
     "metadata": {},
     "output_type": "execute_result"
    }
   ],
   "source": [
    "#Feature Engineering \n",
    "df.dtypes"
   ]
  },
  {
   "cell_type": "code",
   "execution_count": 13,
   "id": "b9dfd5cc",
   "metadata": {
    "execution": {
     "iopub.execute_input": "2023-11-30T12:47:29.415754Z",
     "iopub.status.busy": "2023-11-30T12:47:29.415370Z",
     "iopub.status.idle": "2023-11-30T12:47:36.085964Z",
     "shell.execute_reply": "2023-11-30T12:47:36.084860Z"
    },
    "papermill": {
     "duration": 6.691702,
     "end_time": "2023-11-30T12:47:36.088245",
     "exception": false,
     "start_time": "2023-11-30T12:47:29.396543",
     "status": "completed"
    },
    "tags": []
   },
   "outputs": [
    {
     "data": {
      "text/html": [
       "<div>\n",
       "<style scoped>\n",
       "    .dataframe tbody tr th:only-of-type {\n",
       "        vertical-align: middle;\n",
       "    }\n",
       "\n",
       "    .dataframe tbody tr th {\n",
       "        vertical-align: top;\n",
       "    }\n",
       "\n",
       "    .dataframe thead th {\n",
       "        text-align: right;\n",
       "    }\n",
       "</style>\n",
       "<table border=\"1\" class=\"dataframe\">\n",
       "  <thead>\n",
       "    <tr style=\"text-align: right;\">\n",
       "      <th></th>\n",
       "      <th>user</th>\n",
       "      <th>first_open</th>\n",
       "      <th>dayofweek</th>\n",
       "      <th>hour</th>\n",
       "      <th>age</th>\n",
       "      <th>screen_list</th>\n",
       "      <th>numscreens</th>\n",
       "      <th>minigame</th>\n",
       "      <th>used_premium_feature</th>\n",
       "      <th>enrolled</th>\n",
       "      <th>enrolled_date</th>\n",
       "      <th>liked</th>\n",
       "    </tr>\n",
       "  </thead>\n",
       "  <tbody>\n",
       "    <tr>\n",
       "      <th>0</th>\n",
       "      <td>235136</td>\n",
       "      <td>2012-12-27 02:14:51.273</td>\n",
       "      <td>3</td>\n",
       "      <td>2</td>\n",
       "      <td>23</td>\n",
       "      <td>idscreen,joinscreen,Cycle,product_review,ScanP...</td>\n",
       "      <td>15</td>\n",
       "      <td>0</td>\n",
       "      <td>0</td>\n",
       "      <td>0</td>\n",
       "      <td>NaT</td>\n",
       "      <td>0</td>\n",
       "    </tr>\n",
       "    <tr>\n",
       "      <th>1</th>\n",
       "      <td>333588</td>\n",
       "      <td>2012-12-02 01:16:00.905</td>\n",
       "      <td>6</td>\n",
       "      <td>1</td>\n",
       "      <td>24</td>\n",
       "      <td>joinscreen,product_review,product_review2,Scan...</td>\n",
       "      <td>13</td>\n",
       "      <td>0</td>\n",
       "      <td>0</td>\n",
       "      <td>0</td>\n",
       "      <td>NaT</td>\n",
       "      <td>0</td>\n",
       "    </tr>\n",
       "    <tr>\n",
       "      <th>2</th>\n",
       "      <td>254414</td>\n",
       "      <td>2013-03-19 19:19:09.157</td>\n",
       "      <td>1</td>\n",
       "      <td>19</td>\n",
       "      <td>23</td>\n",
       "      <td>Splash,Cycle,Loan</td>\n",
       "      <td>3</td>\n",
       "      <td>0</td>\n",
       "      <td>1</td>\n",
       "      <td>0</td>\n",
       "      <td>NaT</td>\n",
       "      <td>1</td>\n",
       "    </tr>\n",
       "    <tr>\n",
       "      <th>3</th>\n",
       "      <td>234192</td>\n",
       "      <td>2013-07-05 16:08:46.354</td>\n",
       "      <td>4</td>\n",
       "      <td>16</td>\n",
       "      <td>28</td>\n",
       "      <td>product_review,Home,product_review,Loan3,Finan...</td>\n",
       "      <td>40</td>\n",
       "      <td>0</td>\n",
       "      <td>0</td>\n",
       "      <td>1</td>\n",
       "      <td>2013-07-05 16:11:49.513</td>\n",
       "      <td>0</td>\n",
       "    </tr>\n",
       "    <tr>\n",
       "      <th>4</th>\n",
       "      <td>51549</td>\n",
       "      <td>2013-02-26 18:50:48.661</td>\n",
       "      <td>1</td>\n",
       "      <td>18</td>\n",
       "      <td>31</td>\n",
       "      <td>idscreen,joinscreen,Cycle,Credit3Container,Sca...</td>\n",
       "      <td>32</td>\n",
       "      <td>0</td>\n",
       "      <td>0</td>\n",
       "      <td>1</td>\n",
       "      <td>2013-02-26 18:56:37.841</td>\n",
       "      <td>1</td>\n",
       "    </tr>\n",
       "  </tbody>\n",
       "</table>\n",
       "</div>"
      ],
      "text/plain": [
       "     user              first_open  dayofweek  hour  age  \\\n",
       "0  235136 2012-12-27 02:14:51.273          3     2   23   \n",
       "1  333588 2012-12-02 01:16:00.905          6     1   24   \n",
       "2  254414 2013-03-19 19:19:09.157          1    19   23   \n",
       "3  234192 2013-07-05 16:08:46.354          4    16   28   \n",
       "4   51549 2013-02-26 18:50:48.661          1    18   31   \n",
       "\n",
       "                                         screen_list  numscreens  minigame  \\\n",
       "0  idscreen,joinscreen,Cycle,product_review,ScanP...          15         0   \n",
       "1  joinscreen,product_review,product_review2,Scan...          13         0   \n",
       "2                                  Splash,Cycle,Loan           3         0   \n",
       "3  product_review,Home,product_review,Loan3,Finan...          40         0   \n",
       "4  idscreen,joinscreen,Cycle,Credit3Container,Sca...          32         0   \n",
       "\n",
       "   used_premium_feature  enrolled           enrolled_date  liked  \n",
       "0                     0         0                     NaT      0  \n",
       "1                     0         0                     NaT      0  \n",
       "2                     1         0                     NaT      1  \n",
       "3                     0         1 2013-07-05 16:11:49.513      0  \n",
       "4                     0         1 2013-02-26 18:56:37.841      1  "
      ]
     },
     "execution_count": 13,
     "metadata": {},
     "output_type": "execute_result"
    }
   ],
   "source": [
    "df['first_open'] = [parser.parse(row_data) for row_data in df['first_open']]\n",
    "df['enrolled_date'] = [parser.parse(row_data) if isinstance(row_data,str) else row_data for row_data in df['enrolled_date']]\n",
    "df.head()"
   ]
  },
  {
   "cell_type": "code",
   "execution_count": 14,
   "id": "54d2a990",
   "metadata": {
    "execution": {
     "iopub.execute_input": "2023-11-30T12:47:36.125306Z",
     "iopub.status.busy": "2023-11-30T12:47:36.124628Z",
     "iopub.status.idle": "2023-11-30T12:47:36.132575Z",
     "shell.execute_reply": "2023-11-30T12:47:36.131683Z"
    },
    "papermill": {
     "duration": 0.02903,
     "end_time": "2023-11-30T12:47:36.134652",
     "exception": false,
     "start_time": "2023-11-30T12:47:36.105622",
     "status": "completed"
    },
    "tags": []
   },
   "outputs": [
    {
     "data": {
      "text/plain": [
       "user                             int64\n",
       "first_open              datetime64[ns]\n",
       "dayofweek                        int64\n",
       "hour                             int64\n",
       "age                              int64\n",
       "screen_list                     object\n",
       "numscreens                       int64\n",
       "minigame                         int64\n",
       "used_premium_feature             int64\n",
       "enrolled                         int64\n",
       "enrolled_date           datetime64[ns]\n",
       "liked                            int64\n",
       "dtype: object"
      ]
     },
     "execution_count": 14,
     "metadata": {},
     "output_type": "execute_result"
    }
   ],
   "source": [
    "df.dtypes"
   ]
  },
  {
   "cell_type": "code",
   "execution_count": 15,
   "id": "c84273ba",
   "metadata": {
    "execution": {
     "iopub.execute_input": "2023-11-30T12:47:36.171433Z",
     "iopub.status.busy": "2023-11-30T12:47:36.170648Z",
     "iopub.status.idle": "2023-11-30T12:47:36.189213Z",
     "shell.execute_reply": "2023-11-30T12:47:36.188120Z"
    },
    "papermill": {
     "duration": 0.039597,
     "end_time": "2023-11-30T12:47:36.191500",
     "exception": false,
     "start_time": "2023-11-30T12:47:36.151903",
     "status": "completed"
    },
    "tags": []
   },
   "outputs": [
    {
     "data": {
      "text/html": [
       "<div>\n",
       "<style scoped>\n",
       "    .dataframe tbody tr th:only-of-type {\n",
       "        vertical-align: middle;\n",
       "    }\n",
       "\n",
       "    .dataframe tbody tr th {\n",
       "        vertical-align: top;\n",
       "    }\n",
       "\n",
       "    .dataframe thead th {\n",
       "        text-align: right;\n",
       "    }\n",
       "</style>\n",
       "<table border=\"1\" class=\"dataframe\">\n",
       "  <thead>\n",
       "    <tr style=\"text-align: right;\">\n",
       "      <th></th>\n",
       "      <th>user</th>\n",
       "      <th>first_open</th>\n",
       "      <th>dayofweek</th>\n",
       "      <th>hour</th>\n",
       "      <th>age</th>\n",
       "      <th>screen_list</th>\n",
       "      <th>numscreens</th>\n",
       "      <th>minigame</th>\n",
       "      <th>used_premium_feature</th>\n",
       "      <th>enrolled</th>\n",
       "      <th>enrolled_date</th>\n",
       "      <th>liked</th>\n",
       "      <th>diff</th>\n",
       "    </tr>\n",
       "  </thead>\n",
       "  <tbody>\n",
       "    <tr>\n",
       "      <th>0</th>\n",
       "      <td>235136</td>\n",
       "      <td>2012-12-27 02:14:51.273</td>\n",
       "      <td>3</td>\n",
       "      <td>2</td>\n",
       "      <td>23</td>\n",
       "      <td>idscreen,joinscreen,Cycle,product_review,ScanP...</td>\n",
       "      <td>15</td>\n",
       "      <td>0</td>\n",
       "      <td>0</td>\n",
       "      <td>0</td>\n",
       "      <td>NaT</td>\n",
       "      <td>0</td>\n",
       "      <td>NaT</td>\n",
       "    </tr>\n",
       "    <tr>\n",
       "      <th>1</th>\n",
       "      <td>333588</td>\n",
       "      <td>2012-12-02 01:16:00.905</td>\n",
       "      <td>6</td>\n",
       "      <td>1</td>\n",
       "      <td>24</td>\n",
       "      <td>joinscreen,product_review,product_review2,Scan...</td>\n",
       "      <td>13</td>\n",
       "      <td>0</td>\n",
       "      <td>0</td>\n",
       "      <td>0</td>\n",
       "      <td>NaT</td>\n",
       "      <td>0</td>\n",
       "      <td>NaT</td>\n",
       "    </tr>\n",
       "    <tr>\n",
       "      <th>2</th>\n",
       "      <td>254414</td>\n",
       "      <td>2013-03-19 19:19:09.157</td>\n",
       "      <td>1</td>\n",
       "      <td>19</td>\n",
       "      <td>23</td>\n",
       "      <td>Splash,Cycle,Loan</td>\n",
       "      <td>3</td>\n",
       "      <td>0</td>\n",
       "      <td>1</td>\n",
       "      <td>0</td>\n",
       "      <td>NaT</td>\n",
       "      <td>1</td>\n",
       "      <td>NaT</td>\n",
       "    </tr>\n",
       "    <tr>\n",
       "      <th>3</th>\n",
       "      <td>234192</td>\n",
       "      <td>2013-07-05 16:08:46.354</td>\n",
       "      <td>4</td>\n",
       "      <td>16</td>\n",
       "      <td>28</td>\n",
       "      <td>product_review,Home,product_review,Loan3,Finan...</td>\n",
       "      <td>40</td>\n",
       "      <td>0</td>\n",
       "      <td>0</td>\n",
       "      <td>1</td>\n",
       "      <td>2013-07-05 16:11:49.513</td>\n",
       "      <td>0</td>\n",
       "      <td>0 days 00:03:03.159000</td>\n",
       "    </tr>\n",
       "    <tr>\n",
       "      <th>4</th>\n",
       "      <td>51549</td>\n",
       "      <td>2013-02-26 18:50:48.661</td>\n",
       "      <td>1</td>\n",
       "      <td>18</td>\n",
       "      <td>31</td>\n",
       "      <td>idscreen,joinscreen,Cycle,Credit3Container,Sca...</td>\n",
       "      <td>32</td>\n",
       "      <td>0</td>\n",
       "      <td>0</td>\n",
       "      <td>1</td>\n",
       "      <td>2013-02-26 18:56:37.841</td>\n",
       "      <td>1</td>\n",
       "      <td>0 days 00:05:49.180000</td>\n",
       "    </tr>\n",
       "  </tbody>\n",
       "</table>\n",
       "</div>"
      ],
      "text/plain": [
       "     user              first_open  dayofweek  hour  age  \\\n",
       "0  235136 2012-12-27 02:14:51.273          3     2   23   \n",
       "1  333588 2012-12-02 01:16:00.905          6     1   24   \n",
       "2  254414 2013-03-19 19:19:09.157          1    19   23   \n",
       "3  234192 2013-07-05 16:08:46.354          4    16   28   \n",
       "4   51549 2013-02-26 18:50:48.661          1    18   31   \n",
       "\n",
       "                                         screen_list  numscreens  minigame  \\\n",
       "0  idscreen,joinscreen,Cycle,product_review,ScanP...          15         0   \n",
       "1  joinscreen,product_review,product_review2,Scan...          13         0   \n",
       "2                                  Splash,Cycle,Loan           3         0   \n",
       "3  product_review,Home,product_review,Loan3,Finan...          40         0   \n",
       "4  idscreen,joinscreen,Cycle,Credit3Container,Sca...          32         0   \n",
       "\n",
       "   used_premium_feature  enrolled           enrolled_date  liked  \\\n",
       "0                     0         0                     NaT      0   \n",
       "1                     0         0                     NaT      0   \n",
       "2                     1         0                     NaT      1   \n",
       "3                     0         1 2013-07-05 16:11:49.513      0   \n",
       "4                     0         1 2013-02-26 18:56:37.841      1   \n",
       "\n",
       "                    diff  \n",
       "0                    NaT  \n",
       "1                    NaT  \n",
       "2                    NaT  \n",
       "3 0 days 00:03:03.159000  \n",
       "4 0 days 00:05:49.180000  "
      ]
     },
     "execution_count": 15,
     "metadata": {},
     "output_type": "execute_result"
    }
   ],
   "source": [
    "df[\"diff\"] = (df[\"enrolled_date\"] - df[\"first_open\"])\n",
    "df.head()"
   ]
  },
  {
   "cell_type": "code",
   "execution_count": 16,
   "id": "3dd856e0",
   "metadata": {
    "execution": {
     "iopub.execute_input": "2023-11-30T12:47:36.229003Z",
     "iopub.status.busy": "2023-11-30T12:47:36.228243Z",
     "iopub.status.idle": "2023-11-30T12:47:36.549536Z",
     "shell.execute_reply": "2023-11-30T12:47:36.548433Z"
    },
    "papermill": {
     "duration": 0.343085,
     "end_time": "2023-11-30T12:47:36.552199",
     "exception": false,
     "start_time": "2023-11-30T12:47:36.209114",
     "status": "completed"
    },
    "tags": []
   },
   "outputs": [
    {
     "data": {
      "image/png": "[encoded data removed]",
      "text/plain": [
       "<Figure size 640x480 with 1 Axes>"
      ]
     },
     "metadata": {},
     "output_type": "display_data"
    }
   ],
   "source": [
    "# Assuming 'diff' is a timedelta column, convert it to total days\n",
    "df['diff_days'] = df['diff'].dt.total_seconds() / (24 * 3600)  # Convert to days\n",
    "\n",
    "# Plot the histogram\n",
    "plt.hist(df['diff_days'].dropna(), color='#3F5D7D')\n",
    "plt.title('Distribution of Time-Since-Enrolled (in days)')\n",
    "plt.show()\n"
   ]
  },
  {
   "cell_type": "code",
   "execution_count": 17,
   "id": "f54b1b97",
   "metadata": {
    "execution": {
     "iopub.execute_input": "2023-11-30T12:47:36.600541Z",
     "iopub.status.busy": "2023-11-30T12:47:36.599632Z",
     "iopub.status.idle": "2023-11-30T12:47:36.932260Z",
     "shell.execute_reply": "2023-11-30T12:47:36.931048Z"
    },
    "papermill": {
     "duration": 0.365019,
     "end_time": "2023-11-30T12:47:36.935820",
     "exception": false,
     "start_time": "2023-11-30T12:47:36.570801",
     "status": "completed"
    },
    "tags": []
   },
   "outputs": [
    {
     "data": {
      "image/png": "[encoded data removed]",
      "text/plain": [
       "<Figure size 640x480 with 1 Axes>"
      ]
     },
     "metadata": {},
     "output_type": "display_data"
    }
   ],
   "source": [
    "# Plot the histogram\n",
    "plt.hist(df['diff_days'].dropna(), color='#3F5D7D',range = [0,100])\n",
    "plt.title('Distribution of Time-Since-Enrolled (in days)')\n",
    "plt.show()"
   ]
  },
  {
   "cell_type": "code",
   "execution_count": 18,
   "id": "287f6529",
   "metadata": {
    "execution": {
     "iopub.execute_input": "2023-11-30T12:47:36.977001Z",
     "iopub.status.busy": "2023-11-30T12:47:36.976259Z",
     "iopub.status.idle": "2023-11-30T12:47:36.982204Z",
     "shell.execute_reply": "2023-11-30T12:47:36.981437Z"
    },
    "papermill": {
     "duration": 0.029065,
     "end_time": "2023-11-30T12:47:36.984342",
     "exception": false,
     "start_time": "2023-11-30T12:47:36.955277",
     "status": "completed"
    },
    "tags": []
   },
   "outputs": [],
   "source": [
    "df.loc[df['diff_days'] >48, 'enrolled'] =  0"
   ]
  },
  {
   "cell_type": "code",
   "execution_count": 19,
   "id": "73156dfb",
   "metadata": {
    "execution": {
     "iopub.execute_input": "2023-11-30T12:47:37.026629Z",
     "iopub.status.busy": "2023-11-30T12:47:37.025852Z",
     "iopub.status.idle": "2023-11-30T12:47:37.035822Z",
     "shell.execute_reply": "2023-11-30T12:47:37.034877Z"
    },
    "papermill": {
     "duration": 0.034848,
     "end_time": "2023-11-30T12:47:37.038270",
     "exception": false,
     "start_time": "2023-11-30T12:47:37.003422",
     "status": "completed"
    },
    "tags": []
   },
   "outputs": [],
   "source": [
    "df = df.drop(columns = [\"diff_days\",\"enrolled_date\",\"first_open\",\"diff\"])"
   ]
  },
  {
   "cell_type": "code",
   "execution_count": 20,
   "id": "b84f28ed",
   "metadata": {
    "execution": {
     "iopub.execute_input": "2023-11-30T12:47:37.079444Z",
     "iopub.status.busy": "2023-11-30T12:47:37.079082Z",
     "iopub.status.idle": "2023-11-30T12:47:37.092456Z",
     "shell.execute_reply": "2023-11-30T12:47:37.091356Z"
    },
    "papermill": {
     "duration": 0.036656,
     "end_time": "2023-11-30T12:47:37.094825",
     "exception": false,
     "start_time": "2023-11-30T12:47:37.058169",
     "status": "completed"
    },
    "tags": []
   },
   "outputs": [
    {
     "data": {
      "text/html": [
       "<div>\n",
       "<style scoped>\n",
       "    .dataframe tbody tr th:only-of-type {\n",
       "        vertical-align: middle;\n",
       "    }\n",
       "\n",
       "    .dataframe tbody tr th {\n",
       "        vertical-align: top;\n",
       "    }\n",
       "\n",
       "    .dataframe thead th {\n",
       "        text-align: right;\n",
       "    }\n",
       "</style>\n",
       "<table border=\"1\" class=\"dataframe\">\n",
       "  <thead>\n",
       "    <tr style=\"text-align: right;\">\n",
       "      <th></th>\n",
       "      <th>user</th>\n",
       "      <th>dayofweek</th>\n",
       "      <th>hour</th>\n",
       "      <th>age</th>\n",
       "      <th>screen_list</th>\n",
       "      <th>numscreens</th>\n",
       "      <th>minigame</th>\n",
       "      <th>used_premium_feature</th>\n",
       "      <th>enrolled</th>\n",
       "      <th>liked</th>\n",
       "    </tr>\n",
       "  </thead>\n",
       "  <tbody>\n",
       "    <tr>\n",
       "      <th>0</th>\n",
       "      <td>235136</td>\n",
       "      <td>3</td>\n",
       "      <td>2</td>\n",
       "      <td>23</td>\n",
       "      <td>idscreen,joinscreen,Cycle,product_review,ScanP...</td>\n",
       "      <td>15</td>\n",
       "      <td>0</td>\n",
       "      <td>0</td>\n",
       "      <td>0</td>\n",
       "      <td>0</td>\n",
       "    </tr>\n",
       "    <tr>\n",
       "      <th>1</th>\n",
       "      <td>333588</td>\n",
       "      <td>6</td>\n",
       "      <td>1</td>\n",
       "      <td>24</td>\n",
       "      <td>joinscreen,product_review,product_review2,Scan...</td>\n",
       "      <td>13</td>\n",
       "      <td>0</td>\n",
       "      <td>0</td>\n",
       "      <td>0</td>\n",
       "      <td>0</td>\n",
       "    </tr>\n",
       "    <tr>\n",
       "      <th>2</th>\n",
       "      <td>254414</td>\n",
       "      <td>1</td>\n",
       "      <td>19</td>\n",
       "      <td>23</td>\n",
       "      <td>Splash,Cycle,Loan</td>\n",
       "      <td>3</td>\n",
       "      <td>0</td>\n",
       "      <td>1</td>\n",
       "      <td>0</td>\n",
       "      <td>1</td>\n",
       "    </tr>\n",
       "    <tr>\n",
       "      <th>3</th>\n",
       "      <td>234192</td>\n",
       "      <td>4</td>\n",
       "      <td>16</td>\n",
       "      <td>28</td>\n",
       "      <td>product_review,Home,product_review,Loan3,Finan...</td>\n",
       "      <td>40</td>\n",
       "      <td>0</td>\n",
       "      <td>0</td>\n",
       "      <td>1</td>\n",
       "      <td>0</td>\n",
       "    </tr>\n",
       "    <tr>\n",
       "      <th>4</th>\n",
       "      <td>51549</td>\n",
       "      <td>1</td>\n",
       "      <td>18</td>\n",
       "      <td>31</td>\n",
       "      <td>idscreen,joinscreen,Cycle,Credit3Container,Sca...</td>\n",
       "      <td>32</td>\n",
       "      <td>0</td>\n",
       "      <td>0</td>\n",
       "      <td>1</td>\n",
       "      <td>1</td>\n",
       "    </tr>\n",
       "  </tbody>\n",
       "</table>\n",
       "</div>"
      ],
      "text/plain": [
       "     user  dayofweek  hour  age  \\\n",
       "0  235136          3     2   23   \n",
       "1  333588          6     1   24   \n",
       "2  254414          1    19   23   \n",
       "3  234192          4    16   28   \n",
       "4   51549          1    18   31   \n",
       "\n",
       "                                         screen_list  numscreens  minigame  \\\n",
       "0  idscreen,joinscreen,Cycle,product_review,ScanP...          15         0   \n",
       "1  joinscreen,product_review,product_review2,Scan...          13         0   \n",
       "2                                  Splash,Cycle,Loan           3         0   \n",
       "3  product_review,Home,product_review,Loan3,Finan...          40         0   \n",
       "4  idscreen,joinscreen,Cycle,Credit3Container,Sca...          32         0   \n",
       "\n",
       "   used_premium_feature  enrolled  liked  \n",
       "0                     0         0      0  \n",
       "1                     0         0      0  \n",
       "2                     1         0      1  \n",
       "3                     0         1      0  \n",
       "4                     0         1      1  "
      ]
     },
     "execution_count": 20,
     "metadata": {},
     "output_type": "execute_result"
    }
   ],
   "source": [
    "df.head()"
   ]
  },
  {
   "cell_type": "code",
   "execution_count": 21,
   "id": "f1ca4adb",
   "metadata": {
    "execution": {
     "iopub.execute_input": "2023-11-30T12:47:37.135853Z",
     "iopub.status.busy": "2023-11-30T12:47:37.135104Z",
     "iopub.status.idle": "2023-11-30T12:47:37.168354Z",
     "shell.execute_reply": "2023-11-30T12:47:37.167454Z"
    },
    "papermill": {
     "duration": 0.056693,
     "end_time": "2023-11-30T12:47:37.170850",
     "exception": false,
     "start_time": "2023-11-30T12:47:37.114157",
     "status": "completed"
    },
    "tags": []
   },
   "outputs": [],
   "source": [
    "df_screen = pd.read_csv(r\"/kaggle/input/top-screens/top_screens.csv\")[\"top_screens\"].values\n",
    "df['screen_list'] = df['screen_list'].astype(str) + ','"
   ]
  },
  {
   "cell_type": "code",
   "execution_count": 22,
   "id": "550cab03",
   "metadata": {
    "execution": {
     "iopub.execute_input": "2023-11-30T12:47:37.211968Z",
     "iopub.status.busy": "2023-11-30T12:47:37.211564Z",
     "iopub.status.idle": "2023-11-30T12:47:41.301628Z",
     "shell.execute_reply": "2023-11-30T12:47:41.300628Z"
    },
    "papermill": {
     "duration": 4.114263,
     "end_time": "2023-11-30T12:47:41.304439",
     "exception": false,
     "start_time": "2023-11-30T12:47:37.190176",
     "status": "completed"
    },
    "tags": []
   },
   "outputs": [],
   "source": [
    "for sc in df_screen:\n",
    "    df[sc] = df['screen_list'].str.contains(sc).astype(int)\n",
    "    df['screen_list'] = df['screen_list'].str.replace(sc + \",\", \"\")"
   ]
  },
  {
   "cell_type": "code",
   "execution_count": 23,
   "id": "70524b4a",
   "metadata": {
    "execution": {
     "iopub.execute_input": "2023-11-30T12:47:41.347989Z",
     "iopub.status.busy": "2023-11-30T12:47:41.347613Z",
     "iopub.status.idle": "2023-11-30T12:47:41.456916Z",
     "shell.execute_reply": "2023-11-30T12:47:41.455920Z"
    },
    "papermill": {
     "duration": 0.134322,
     "end_time": "2023-11-30T12:47:41.459262",
     "exception": false,
     "start_time": "2023-11-30T12:47:41.324940",
     "status": "completed"
    },
    "tags": []
   },
   "outputs": [],
   "source": [
    "df['Other'] = df['screen_list'].str.count(',')\n",
    "df = df.drop(columns = [\"screen_list\"])"
   ]
  },
  {
   "cell_type": "code",
   "execution_count": 24,
   "id": "83456ab5",
   "metadata": {
    "execution": {
     "iopub.execute_input": "2023-11-30T12:47:41.501100Z",
     "iopub.status.busy": "2023-11-30T12:47:41.500693Z",
     "iopub.status.idle": "2023-11-30T12:47:41.507510Z",
     "shell.execute_reply": "2023-11-30T12:47:41.506528Z"
    },
    "papermill": {
     "duration": 0.030954,
     "end_time": "2023-11-30T12:47:41.510109",
     "exception": false,
     "start_time": "2023-11-30T12:47:41.479155",
     "status": "completed"
    },
    "tags": []
   },
   "outputs": [
    {
     "data": {
      "text/plain": [
       "Index(['user', 'dayofweek', 'hour', 'age', 'numscreens', 'minigame',\n",
       "       'used_premium_feature', 'enrolled', 'liked', 'Loan2', 'location',\n",
       "       'Institutions', 'Credit3Container', 'VerifyPhone', 'BankVerification',\n",
       "       'VerifyDateOfBirth', 'ProfilePage', 'VerifyCountry', 'Cycle',\n",
       "       'idscreen', 'Credit3Dashboard', 'Loan3', 'CC1Category', 'Splash',\n",
       "       'Loan', 'CC1', 'RewardsContainer', 'Credit3', 'Credit1', 'EditProfile',\n",
       "       'Credit2', 'Finances', 'CC3', 'Saving9', 'Saving1', 'Alerts', 'Saving8',\n",
       "       'Saving10', 'Leaderboard', 'Saving4', 'VerifyMobile', 'VerifyHousing',\n",
       "       'RewardDetail', 'VerifyHousingAmount', 'ProfileMaritalStatus',\n",
       "       'ProfileChildren ', 'ProfileEducation', 'Saving7',\n",
       "       'ProfileEducationMajor', 'Rewards', 'AccountView', 'VerifyAnnualIncome',\n",
       "       'VerifyIncomeType', 'Saving2', 'Saving6', 'Saving2Amount', 'Saving5',\n",
       "       'ProfileJobTitle', 'Login', 'ProfileEmploymentLength', 'WebView',\n",
       "       'SecurityModal', 'Loan4', 'ResendToken', 'TransactionList',\n",
       "       'NetworkFailure', 'ListPicker', 'Other'],\n",
       "      dtype='object')"
      ]
     },
     "execution_count": 24,
     "metadata": {},
     "output_type": "execute_result"
    }
   ],
   "source": [
    "df.columns"
   ]
  },
  {
   "cell_type": "code",
   "execution_count": 25,
   "id": "dd722735",
   "metadata": {
    "execution": {
     "iopub.execute_input": "2023-11-30T12:47:41.551439Z",
     "iopub.status.busy": "2023-11-30T12:47:41.551071Z",
     "iopub.status.idle": "2023-11-30T12:47:41.652683Z",
     "shell.execute_reply": "2023-11-30T12:47:41.651749Z"
    },
    "papermill": {
     "duration": 0.125184,
     "end_time": "2023-11-30T12:47:41.655319",
     "exception": false,
     "start_time": "2023-11-30T12:47:41.530135",
     "status": "completed"
    },
    "tags": []
   },
   "outputs": [],
   "source": [
    "savings_screens = [\"Saving1\",\n",
    "                    \"Saving2\",\n",
    "                    \"Saving2Amount\",\n",
    "                    \"Saving4\",\n",
    "                    \"Saving5\",\n",
    "                    \"Saving6\",\n",
    "                    \"Saving7\",\n",
    "                    \"Saving8\",\n",
    "                    \"Saving9\",\n",
    "                    \"Saving10\"]\n",
    "df[\"SavingCount\"] = df[savings_screens].sum(axis=1)\n",
    "df = df.drop(columns=savings_screens)\n",
    "\n",
    "cm_screens = [\"Credit1\",\n",
    "               \"Credit2\",\n",
    "               \"Credit3\",\n",
    "               \"Credit3Container\",\n",
    "               \"Credit3Dashboard\"]\n",
    "df[\"CMCount\"] = df[cm_screens].sum(axis=1)\n",
    "df = df.drop(columns=cm_screens)\n",
    "\n",
    "cc_screens = [\"CC1\",\n",
    "                \"CC1Category\",\n",
    "                \"CC3\"]\n",
    "df[\"CCCount\"] = df[cc_screens].sum(axis=1)\n",
    "df = df.drop(columns=cc_screens)\n",
    "\n",
    "loan_screens = [\"Loan\",\n",
    "               \"Loan2\",\n",
    "               \"Loan3\",\n",
    "               \"Loan4\"]\n",
    "df[\"LoansCount\"] = df[loan_screens].sum(axis=1)\n",
    "df = df.drop(columns=loan_screens)\n",
    "\n"
   ]
  },
  {
   "cell_type": "code",
   "execution_count": 26,
   "id": "aedc7d01",
   "metadata": {
    "execution": {
     "iopub.execute_input": "2023-11-30T12:47:41.696065Z",
     "iopub.status.busy": "2023-11-30T12:47:41.695337Z",
     "iopub.status.idle": "2023-11-30T12:47:41.713296Z",
     "shell.execute_reply": "2023-11-30T12:47:41.712369Z"
    },
    "papermill": {
     "duration": 0.040948,
     "end_time": "2023-11-30T12:47:41.715591",
     "exception": false,
     "start_time": "2023-11-30T12:47:41.674643",
     "status": "completed"
    },
    "tags": []
   },
   "outputs": [
    {
     "data": {
      "text/html": [
       "<div>\n",
       "<style scoped>\n",
       "    .dataframe tbody tr th:only-of-type {\n",
       "        vertical-align: middle;\n",
       "    }\n",
       "\n",
       "    .dataframe tbody tr th {\n",
       "        vertical-align: top;\n",
       "    }\n",
       "\n",
       "    .dataframe thead th {\n",
       "        text-align: right;\n",
       "    }\n",
       "</style>\n",
       "<table border=\"1\" class=\"dataframe\">\n",
       "  <thead>\n",
       "    <tr style=\"text-align: right;\">\n",
       "      <th></th>\n",
       "      <th>user</th>\n",
       "      <th>dayofweek</th>\n",
       "      <th>hour</th>\n",
       "      <th>age</th>\n",
       "      <th>numscreens</th>\n",
       "      <th>minigame</th>\n",
       "      <th>used_premium_feature</th>\n",
       "      <th>enrolled</th>\n",
       "      <th>liked</th>\n",
       "      <th>location</th>\n",
       "      <th>...</th>\n",
       "      <th>SecurityModal</th>\n",
       "      <th>ResendToken</th>\n",
       "      <th>TransactionList</th>\n",
       "      <th>NetworkFailure</th>\n",
       "      <th>ListPicker</th>\n",
       "      <th>Other</th>\n",
       "      <th>SavingCount</th>\n",
       "      <th>CMCount</th>\n",
       "      <th>CCCount</th>\n",
       "      <th>LoansCount</th>\n",
       "    </tr>\n",
       "  </thead>\n",
       "  <tbody>\n",
       "    <tr>\n",
       "      <th>0</th>\n",
       "      <td>235136</td>\n",
       "      <td>3</td>\n",
       "      <td>2</td>\n",
       "      <td>23</td>\n",
       "      <td>15</td>\n",
       "      <td>0</td>\n",
       "      <td>0</td>\n",
       "      <td>0</td>\n",
       "      <td>0</td>\n",
       "      <td>0</td>\n",
       "      <td>...</td>\n",
       "      <td>0</td>\n",
       "      <td>0</td>\n",
       "      <td>0</td>\n",
       "      <td>0</td>\n",
       "      <td>0</td>\n",
       "      <td>7</td>\n",
       "      <td>0</td>\n",
       "      <td>0</td>\n",
       "      <td>0</td>\n",
       "      <td>1</td>\n",
       "    </tr>\n",
       "    <tr>\n",
       "      <th>1</th>\n",
       "      <td>333588</td>\n",
       "      <td>6</td>\n",
       "      <td>1</td>\n",
       "      <td>24</td>\n",
       "      <td>13</td>\n",
       "      <td>0</td>\n",
       "      <td>0</td>\n",
       "      <td>0</td>\n",
       "      <td>0</td>\n",
       "      <td>1</td>\n",
       "      <td>...</td>\n",
       "      <td>0</td>\n",
       "      <td>0</td>\n",
       "      <td>0</td>\n",
       "      <td>0</td>\n",
       "      <td>0</td>\n",
       "      <td>5</td>\n",
       "      <td>0</td>\n",
       "      <td>0</td>\n",
       "      <td>0</td>\n",
       "      <td>1</td>\n",
       "    </tr>\n",
       "    <tr>\n",
       "      <th>2</th>\n",
       "      <td>254414</td>\n",
       "      <td>1</td>\n",
       "      <td>19</td>\n",
       "      <td>23</td>\n",
       "      <td>3</td>\n",
       "      <td>0</td>\n",
       "      <td>1</td>\n",
       "      <td>0</td>\n",
       "      <td>1</td>\n",
       "      <td>0</td>\n",
       "      <td>...</td>\n",
       "      <td>0</td>\n",
       "      <td>0</td>\n",
       "      <td>0</td>\n",
       "      <td>0</td>\n",
       "      <td>0</td>\n",
       "      <td>0</td>\n",
       "      <td>0</td>\n",
       "      <td>0</td>\n",
       "      <td>0</td>\n",
       "      <td>1</td>\n",
       "    </tr>\n",
       "    <tr>\n",
       "      <th>3</th>\n",
       "      <td>234192</td>\n",
       "      <td>4</td>\n",
       "      <td>16</td>\n",
       "      <td>28</td>\n",
       "      <td>40</td>\n",
       "      <td>0</td>\n",
       "      <td>0</td>\n",
       "      <td>1</td>\n",
       "      <td>0</td>\n",
       "      <td>1</td>\n",
       "      <td>...</td>\n",
       "      <td>0</td>\n",
       "      <td>0</td>\n",
       "      <td>0</td>\n",
       "      <td>0</td>\n",
       "      <td>0</td>\n",
       "      <td>6</td>\n",
       "      <td>0</td>\n",
       "      <td>3</td>\n",
       "      <td>0</td>\n",
       "      <td>1</td>\n",
       "    </tr>\n",
       "    <tr>\n",
       "      <th>4</th>\n",
       "      <td>51549</td>\n",
       "      <td>1</td>\n",
       "      <td>18</td>\n",
       "      <td>31</td>\n",
       "      <td>32</td>\n",
       "      <td>0</td>\n",
       "      <td>0</td>\n",
       "      <td>1</td>\n",
       "      <td>1</td>\n",
       "      <td>0</td>\n",
       "      <td>...</td>\n",
       "      <td>0</td>\n",
       "      <td>0</td>\n",
       "      <td>0</td>\n",
       "      <td>0</td>\n",
       "      <td>0</td>\n",
       "      <td>10</td>\n",
       "      <td>0</td>\n",
       "      <td>2</td>\n",
       "      <td>0</td>\n",
       "      <td>1</td>\n",
       "    </tr>\n",
       "  </tbody>\n",
       "</table>\n",
       "<p>5 rows × 50 columns</p>\n",
       "</div>"
      ],
      "text/plain": [
       "     user  dayofweek  hour  age  numscreens  minigame  used_premium_feature  \\\n",
       "0  235136          3     2   23          15         0                     0   \n",
       "1  333588          6     1   24          13         0                     0   \n",
       "2  254414          1    19   23           3         0                     1   \n",
       "3  234192          4    16   28          40         0                     0   \n",
       "4   51549          1    18   31          32         0                     0   \n",
       "\n",
       "   enrolled  liked  location  ...  SecurityModal  ResendToken  \\\n",
       "0         0      0         0  ...              0            0   \n",
       "1         0      0         1  ...              0            0   \n",
       "2         0      1         0  ...              0            0   \n",
       "3         1      0         1  ...              0            0   \n",
       "4         1      1         0  ...              0            0   \n",
       "\n",
       "   TransactionList  NetworkFailure  ListPicker  Other  SavingCount  CMCount  \\\n",
       "0                0               0           0      7            0        0   \n",
       "1                0               0           0      5            0        0   \n",
       "2                0               0           0      0            0        0   \n",
       "3                0               0           0      6            0        3   \n",
       "4                0               0           0     10            0        2   \n",
       "\n",
       "   CCCount  LoansCount  \n",
       "0        0           1  \n",
       "1        0           1  \n",
       "2        0           1  \n",
       "3        0           1  \n",
       "4        0           1  \n",
       "\n",
       "[5 rows x 50 columns]"
      ]
     },
     "execution_count": 26,
     "metadata": {},
     "output_type": "execute_result"
    }
   ],
   "source": [
    "# #### Saving Results ####\n",
    "df.head()\n"
   ]
  },
  {
   "cell_type": "code",
   "execution_count": 27,
   "id": "16fc2ae3",
   "metadata": {
    "execution": {
     "iopub.execute_input": "2023-11-30T12:47:41.757860Z",
     "iopub.status.busy": "2023-11-30T12:47:41.757130Z",
     "iopub.status.idle": "2023-11-30T12:47:41.950528Z",
     "shell.execute_reply": "2023-11-30T12:47:41.949430Z"
    },
    "papermill": {
     "duration": 0.21744,
     "end_time": "2023-11-30T12:47:41.953195",
     "exception": false,
     "start_time": "2023-11-30T12:47:41.735755",
     "status": "completed"
    },
    "tags": []
   },
   "outputs": [
    {
     "data": {
      "text/html": [
       "<div>\n",
       "<style scoped>\n",
       "    .dataframe tbody tr th:only-of-type {\n",
       "        vertical-align: middle;\n",
       "    }\n",
       "\n",
       "    .dataframe tbody tr th {\n",
       "        vertical-align: top;\n",
       "    }\n",
       "\n",
       "    .dataframe thead th {\n",
       "        text-align: right;\n",
       "    }\n",
       "</style>\n",
       "<table border=\"1\" class=\"dataframe\">\n",
       "  <thead>\n",
       "    <tr style=\"text-align: right;\">\n",
       "      <th></th>\n",
       "      <th>user</th>\n",
       "      <th>dayofweek</th>\n",
       "      <th>hour</th>\n",
       "      <th>age</th>\n",
       "      <th>numscreens</th>\n",
       "      <th>minigame</th>\n",
       "      <th>used_premium_feature</th>\n",
       "      <th>enrolled</th>\n",
       "      <th>liked</th>\n",
       "      <th>location</th>\n",
       "      <th>...</th>\n",
       "      <th>SecurityModal</th>\n",
       "      <th>ResendToken</th>\n",
       "      <th>TransactionList</th>\n",
       "      <th>NetworkFailure</th>\n",
       "      <th>ListPicker</th>\n",
       "      <th>Other</th>\n",
       "      <th>SavingCount</th>\n",
       "      <th>CMCount</th>\n",
       "      <th>CCCount</th>\n",
       "      <th>LoansCount</th>\n",
       "    </tr>\n",
       "  </thead>\n",
       "  <tbody>\n",
       "    <tr>\n",
       "      <th>count</th>\n",
       "      <td>50000.000000</td>\n",
       "      <td>50000.000000</td>\n",
       "      <td>50000.000000</td>\n",
       "      <td>50000.00000</td>\n",
       "      <td>50000.000000</td>\n",
       "      <td>50000.000000</td>\n",
       "      <td>50000.000000</td>\n",
       "      <td>50000.000000</td>\n",
       "      <td>50000.000000</td>\n",
       "      <td>50000.000000</td>\n",
       "      <td>...</td>\n",
       "      <td>50000.000000</td>\n",
       "      <td>50000.000000</td>\n",
       "      <td>50000.000000</td>\n",
       "      <td>50000.000000</td>\n",
       "      <td>50000.000000</td>\n",
       "      <td>50000.000000</td>\n",
       "      <td>50000.000000</td>\n",
       "      <td>50000.00000</td>\n",
       "      <td>50000.000000</td>\n",
       "      <td>50000.000000</td>\n",
       "    </tr>\n",
       "    <tr>\n",
       "      <th>mean</th>\n",
       "      <td>186889.729900</td>\n",
       "      <td>3.029860</td>\n",
       "      <td>12.557220</td>\n",
       "      <td>31.72436</td>\n",
       "      <td>21.095900</td>\n",
       "      <td>0.107820</td>\n",
       "      <td>0.172020</td>\n",
       "      <td>0.585840</td>\n",
       "      <td>0.165000</td>\n",
       "      <td>0.517760</td>\n",
       "      <td>...</td>\n",
       "      <td>0.014220</td>\n",
       "      <td>0.013340</td>\n",
       "      <td>0.013400</td>\n",
       "      <td>0.008200</td>\n",
       "      <td>0.007580</td>\n",
       "      <td>6.214260</td>\n",
       "      <td>0.365020</td>\n",
       "      <td>0.92776</td>\n",
       "      <td>0.176860</td>\n",
       "      <td>0.788400</td>\n",
       "    </tr>\n",
       "    <tr>\n",
       "      <th>std</th>\n",
       "      <td>107768.520361</td>\n",
       "      <td>2.031997</td>\n",
       "      <td>7.438072</td>\n",
       "      <td>10.80331</td>\n",
       "      <td>15.728812</td>\n",
       "      <td>0.310156</td>\n",
       "      <td>0.377402</td>\n",
       "      <td>0.492581</td>\n",
       "      <td>0.371184</td>\n",
       "      <td>0.499689</td>\n",
       "      <td>...</td>\n",
       "      <td>0.118398</td>\n",
       "      <td>0.114727</td>\n",
       "      <td>0.114981</td>\n",
       "      <td>0.090183</td>\n",
       "      <td>0.086733</td>\n",
       "      <td>3.672561</td>\n",
       "      <td>1.405511</td>\n",
       "      <td>1.21751</td>\n",
       "      <td>0.612787</td>\n",
       "      <td>0.677462</td>\n",
       "    </tr>\n",
       "    <tr>\n",
       "      <th>min</th>\n",
       "      <td>13.000000</td>\n",
       "      <td>0.000000</td>\n",
       "      <td>0.000000</td>\n",
       "      <td>16.00000</td>\n",
       "      <td>1.000000</td>\n",
       "      <td>0.000000</td>\n",
       "      <td>0.000000</td>\n",
       "      <td>0.000000</td>\n",
       "      <td>0.000000</td>\n",
       "      <td>0.000000</td>\n",
       "      <td>...</td>\n",
       "      <td>0.000000</td>\n",
       "      <td>0.000000</td>\n",
       "      <td>0.000000</td>\n",
       "      <td>0.000000</td>\n",
       "      <td>0.000000</td>\n",
       "      <td>0.000000</td>\n",
       "      <td>0.000000</td>\n",
       "      <td>0.00000</td>\n",
       "      <td>0.000000</td>\n",
       "      <td>0.000000</td>\n",
       "    </tr>\n",
       "    <tr>\n",
       "      <th>25%</th>\n",
       "      <td>93526.750000</td>\n",
       "      <td>1.000000</td>\n",
       "      <td>5.000000</td>\n",
       "      <td>24.00000</td>\n",
       "      <td>10.000000</td>\n",
       "      <td>0.000000</td>\n",
       "      <td>0.000000</td>\n",
       "      <td>0.000000</td>\n",
       "      <td>0.000000</td>\n",
       "      <td>0.000000</td>\n",
       "      <td>...</td>\n",
       "      <td>0.000000</td>\n",
       "      <td>0.000000</td>\n",
       "      <td>0.000000</td>\n",
       "      <td>0.000000</td>\n",
       "      <td>0.000000</td>\n",
       "      <td>3.000000</td>\n",
       "      <td>0.000000</td>\n",
       "      <td>0.00000</td>\n",
       "      <td>0.000000</td>\n",
       "      <td>0.000000</td>\n",
       "    </tr>\n",
       "    <tr>\n",
       "      <th>50%</th>\n",
       "      <td>187193.500000</td>\n",
       "      <td>3.000000</td>\n",
       "      <td>14.000000</td>\n",
       "      <td>29.00000</td>\n",
       "      <td>18.000000</td>\n",
       "      <td>0.000000</td>\n",
       "      <td>0.000000</td>\n",
       "      <td>1.000000</td>\n",
       "      <td>0.000000</td>\n",
       "      <td>1.000000</td>\n",
       "      <td>...</td>\n",
       "      <td>0.000000</td>\n",
       "      <td>0.000000</td>\n",
       "      <td>0.000000</td>\n",
       "      <td>0.000000</td>\n",
       "      <td>0.000000</td>\n",
       "      <td>6.000000</td>\n",
       "      <td>0.000000</td>\n",
       "      <td>0.00000</td>\n",
       "      <td>0.000000</td>\n",
       "      <td>1.000000</td>\n",
       "    </tr>\n",
       "    <tr>\n",
       "      <th>75%</th>\n",
       "      <td>279984.250000</td>\n",
       "      <td>5.000000</td>\n",
       "      <td>19.000000</td>\n",
       "      <td>37.00000</td>\n",
       "      <td>28.000000</td>\n",
       "      <td>0.000000</td>\n",
       "      <td>0.000000</td>\n",
       "      <td>1.000000</td>\n",
       "      <td>0.000000</td>\n",
       "      <td>1.000000</td>\n",
       "      <td>...</td>\n",
       "      <td>0.000000</td>\n",
       "      <td>0.000000</td>\n",
       "      <td>0.000000</td>\n",
       "      <td>0.000000</td>\n",
       "      <td>0.000000</td>\n",
       "      <td>8.000000</td>\n",
       "      <td>0.000000</td>\n",
       "      <td>1.00000</td>\n",
       "      <td>0.000000</td>\n",
       "      <td>1.000000</td>\n",
       "    </tr>\n",
       "    <tr>\n",
       "      <th>max</th>\n",
       "      <td>373662.000000</td>\n",
       "      <td>6.000000</td>\n",
       "      <td>23.000000</td>\n",
       "      <td>101.00000</td>\n",
       "      <td>325.000000</td>\n",
       "      <td>1.000000</td>\n",
       "      <td>1.000000</td>\n",
       "      <td>1.000000</td>\n",
       "      <td>1.000000</td>\n",
       "      <td>1.000000</td>\n",
       "      <td>...</td>\n",
       "      <td>1.000000</td>\n",
       "      <td>1.000000</td>\n",
       "      <td>1.000000</td>\n",
       "      <td>1.000000</td>\n",
       "      <td>1.000000</td>\n",
       "      <td>35.000000</td>\n",
       "      <td>10.000000</td>\n",
       "      <td>5.00000</td>\n",
       "      <td>3.000000</td>\n",
       "      <td>3.000000</td>\n",
       "    </tr>\n",
       "  </tbody>\n",
       "</table>\n",
       "<p>8 rows × 50 columns</p>\n",
       "</div>"
      ],
      "text/plain": [
       "                user     dayofweek          hour          age    numscreens  \\\n",
       "count   50000.000000  50000.000000  50000.000000  50000.00000  50000.000000   \n",
       "mean   186889.729900      3.029860     12.557220     31.72436     21.095900   \n",
       "std    107768.520361      2.031997      7.438072     10.80331     15.728812   \n",
       "min        13.000000      0.000000      0.000000     16.00000      1.000000   \n",
       "25%     93526.750000      1.000000      5.000000     24.00000     10.000000   \n",
       "50%    187193.500000      3.000000     14.000000     29.00000     18.000000   \n",
       "75%    279984.250000      5.000000     19.000000     37.00000     28.000000   \n",
       "max    373662.000000      6.000000     23.000000    101.00000    325.000000   \n",
       "\n",
       "           minigame  used_premium_feature      enrolled         liked  \\\n",
       "count  50000.000000          50000.000000  50000.000000  50000.000000   \n",
       "mean       0.107820              0.172020      0.585840      0.165000   \n",
       "std        0.310156              0.377402      0.492581      0.371184   \n",
       "min        0.000000              0.000000      0.000000      0.000000   \n",
       "25%        0.000000              0.000000      0.000000      0.000000   \n",
       "50%        0.000000              0.000000      1.000000      0.000000   \n",
       "75%        0.000000              0.000000      1.000000      0.000000   \n",
       "max        1.000000              1.000000      1.000000      1.000000   \n",
       "\n",
       "           location  ...  SecurityModal   ResendToken  TransactionList  \\\n",
       "count  50000.000000  ...   50000.000000  50000.000000     50000.000000   \n",
       "mean       0.517760  ...       0.014220      0.013340         0.013400   \n",
       "std        0.499689  ...       0.118398      0.114727         0.114981   \n",
       "min        0.000000  ...       0.000000      0.000000         0.000000   \n",
       "25%        0.000000  ...       0.000000      0.000000         0.000000   \n",
       "50%        1.000000  ...       0.000000      0.000000         0.000000   \n",
       "75%        1.000000  ...       0.000000      0.000000         0.000000   \n",
       "max        1.000000  ...       1.000000      1.000000         1.000000   \n",
       "\n",
       "       NetworkFailure    ListPicker         Other   SavingCount      CMCount  \\\n",
       "count    50000.000000  50000.000000  50000.000000  50000.000000  50000.00000   \n",
       "mean         0.008200      0.007580      6.214260      0.365020      0.92776   \n",
       "std          0.090183      0.086733      3.672561      1.405511      1.21751   \n",
       "min          0.000000      0.000000      0.000000      0.000000      0.00000   \n",
       "25%          0.000000      0.000000      3.000000      0.000000      0.00000   \n",
       "50%          0.000000      0.000000      6.000000      0.000000      0.00000   \n",
       "75%          0.000000      0.000000      8.000000      0.000000      1.00000   \n",
       "max          1.000000      1.000000     35.000000     10.000000      5.00000   \n",
       "\n",
       "            CCCount    LoansCount  \n",
       "count  50000.000000  50000.000000  \n",
       "mean       0.176860      0.788400  \n",
       "std        0.612787      0.677462  \n",
       "min        0.000000      0.000000  \n",
       "25%        0.000000      0.000000  \n",
       "50%        0.000000      1.000000  \n",
       "75%        0.000000      1.000000  \n",
       "max        3.000000      3.000000  \n",
       "\n",
       "[8 rows x 50 columns]"
      ]
     },
     "execution_count": 27,
     "metadata": {},
     "output_type": "execute_result"
    }
   ],
   "source": [
    "df.describe()\n"
   ]
  },
  {
   "cell_type": "code",
   "execution_count": 28,
   "id": "6ab09a18",
   "metadata": {
    "execution": {
     "iopub.execute_input": "2023-11-30T12:47:41.995916Z",
     "iopub.status.busy": "2023-11-30T12:47:41.995515Z",
     "iopub.status.idle": "2023-11-30T12:47:42.002450Z",
     "shell.execute_reply": "2023-11-30T12:47:42.001248Z"
    },
    "papermill": {
     "duration": 0.031234,
     "end_time": "2023-11-30T12:47:42.004954",
     "exception": false,
     "start_time": "2023-11-30T12:47:41.973720",
     "status": "completed"
    },
    "tags": []
   },
   "outputs": [
    {
     "data": {
      "text/plain": [
       "Index(['user', 'dayofweek', 'hour', 'age', 'numscreens', 'minigame',\n",
       "       'used_premium_feature', 'enrolled', 'liked', 'location', 'Institutions',\n",
       "       'VerifyPhone', 'BankVerification', 'VerifyDateOfBirth', 'ProfilePage',\n",
       "       'VerifyCountry', 'Cycle', 'idscreen', 'Splash', 'RewardsContainer',\n",
       "       'EditProfile', 'Finances', 'Alerts', 'Leaderboard', 'VerifyMobile',\n",
       "       'VerifyHousing', 'RewardDetail', 'VerifyHousingAmount',\n",
       "       'ProfileMaritalStatus', 'ProfileChildren ', 'ProfileEducation',\n",
       "       'ProfileEducationMajor', 'Rewards', 'AccountView', 'VerifyAnnualIncome',\n",
       "       'VerifyIncomeType', 'ProfileJobTitle', 'Login',\n",
       "       'ProfileEmploymentLength', 'WebView', 'SecurityModal', 'ResendToken',\n",
       "       'TransactionList', 'NetworkFailure', 'ListPicker', 'Other',\n",
       "       'SavingCount', 'CMCount', 'CCCount', 'LoansCount'],\n",
       "      dtype='object')"
      ]
     },
     "execution_count": 28,
     "metadata": {},
     "output_type": "execute_result"
    }
   ],
   "source": [
    "df.columns\n",
    "\n"
   ]
  },
  {
   "cell_type": "code",
   "execution_count": 29,
   "id": "39616b73",
   "metadata": {
    "execution": {
     "iopub.execute_input": "2023-11-30T12:47:42.049563Z",
     "iopub.status.busy": "2023-11-30T12:47:42.049195Z",
     "iopub.status.idle": "2023-11-30T12:47:42.545843Z",
     "shell.execute_reply": "2023-11-30T12:47:42.544804Z"
    },
    "papermill": {
     "duration": 0.52278,
     "end_time": "2023-11-30T12:47:42.548601",
     "exception": false,
     "start_time": "2023-11-30T12:47:42.025821",
     "status": "completed"
    },
    "tags": []
   },
   "outputs": [],
   "source": [
    "df.to_csv('new_appdata10.csv', index = False)"
   ]
  },
  {
   "cell_type": "markdown",
   "id": "dc09d074",
   "metadata": {
    "papermill": {
     "duration": 0.020292,
     "end_time": "2023-11-30T12:47:42.589703",
     "exception": false,
     "start_time": "2023-11-30T12:47:42.569411",
     "status": "completed"
    },
    "tags": []
   },
   "source": [
    "# Model Building"
   ]
  },
  {
   "cell_type": "code",
   "execution_count": 30,
   "id": "b45186fe",
   "metadata": {
    "execution": {
     "iopub.execute_input": "2023-11-30T12:47:42.632993Z",
     "iopub.status.busy": "2023-11-30T12:47:42.632232Z",
     "iopub.status.idle": "2023-11-30T12:47:42.793879Z",
     "shell.execute_reply": "2023-11-30T12:47:42.792940Z"
    },
    "papermill": {
     "duration": 0.186289,
     "end_time": "2023-11-30T12:47:42.796591",
     "exception": false,
     "start_time": "2023-11-30T12:47:42.610302",
     "status": "completed"
    },
    "tags": []
   },
   "outputs": [],
   "source": [
    "df = pd.read_csv(r\"/kaggle/working/new_appdata10.csv\")"
   ]
  },
  {
   "cell_type": "code",
   "execution_count": 31,
   "id": "e1980553",
   "metadata": {
    "execution": {
     "iopub.execute_input": "2023-11-30T12:47:42.839960Z",
     "iopub.status.busy": "2023-11-30T12:47:42.839567Z",
     "iopub.status.idle": "2023-11-30T12:47:42.844799Z",
     "shell.execute_reply": "2023-11-30T12:47:42.843692Z"
    },
    "papermill": {
     "duration": 0.029569,
     "end_time": "2023-11-30T12:47:42.846986",
     "exception": false,
     "start_time": "2023-11-30T12:47:42.817417",
     "status": "completed"
    },
    "tags": []
   },
   "outputs": [],
   "source": [
    "response = df['enrolled']"
   ]
  },
  {
   "cell_type": "code",
   "execution_count": 32,
   "id": "0711685b",
   "metadata": {
    "execution": {
     "iopub.execute_input": "2023-11-30T12:47:42.890535Z",
     "iopub.status.busy": "2023-11-30T12:47:42.889747Z",
     "iopub.status.idle": "2023-11-30T12:47:42.903746Z",
     "shell.execute_reply": "2023-11-30T12:47:42.902876Z"
    },
    "papermill": {
     "duration": 0.037963,
     "end_time": "2023-11-30T12:47:42.905609",
     "exception": false,
     "start_time": "2023-11-30T12:47:42.867646",
     "status": "completed"
    },
    "tags": []
   },
   "outputs": [],
   "source": [
    "df = df.drop(columns = 'enrolled')"
   ]
  },
  {
   "cell_type": "code",
   "execution_count": 33,
   "id": "a5a8e58a",
   "metadata": {
    "execution": {
     "iopub.execute_input": "2023-11-30T12:47:42.948987Z",
     "iopub.status.busy": "2023-11-30T12:47:42.948564Z",
     "iopub.status.idle": "2023-11-30T12:47:43.205587Z",
     "shell.execute_reply": "2023-11-30T12:47:43.204403Z"
    },
    "papermill": {
     "duration": 0.28179,
     "end_time": "2023-11-30T12:47:43.208195",
     "exception": false,
     "start_time": "2023-11-30T12:47:42.926405",
     "status": "completed"
    },
    "tags": []
   },
   "outputs": [],
   "source": [
    "from sklearn.model_selection import train_test_split\n",
    "X_train, X_test, y_train, y_test = train_test_split(df, response, test_size = 0.25, random_state = 42)"
   ]
  },
  {
   "cell_type": "code",
   "execution_count": 34,
   "id": "04f5edb5",
   "metadata": {
    "execution": {
     "iopub.execute_input": "2023-11-30T12:47:43.251278Z",
     "iopub.status.busy": "2023-11-30T12:47:43.250865Z",
     "iopub.status.idle": "2023-11-30T12:47:43.270160Z",
     "shell.execute_reply": "2023-11-30T12:47:43.269194Z"
    },
    "papermill": {
     "duration": 0.04378,
     "end_time": "2023-11-30T12:47:43.272581",
     "exception": false,
     "start_time": "2023-11-30T12:47:43.228801",
     "status": "completed"
    },
    "tags": []
   },
   "outputs": [],
   "source": [
    "train_identifier = X_train['user']\n",
    "X_train = X_train.drop(columns = 'user')\n",
    "test_identifier = X_test['user']\n",
    "X_test = X_test.drop(columns = 'user')"
   ]
  },
  {
   "cell_type": "code",
   "execution_count": 35,
   "id": "6f0041cb",
   "metadata": {
    "execution": {
     "iopub.execute_input": "2023-11-30T12:47:43.315395Z",
     "iopub.status.busy": "2023-11-30T12:47:43.315029Z",
     "iopub.status.idle": "2023-11-30T12:47:43.319784Z",
     "shell.execute_reply": "2023-11-30T12:47:43.318756Z"
    },
    "papermill": {
     "duration": 0.028907,
     "end_time": "2023-11-30T12:47:43.322009",
     "exception": false,
     "start_time": "2023-11-30T12:47:43.293102",
     "status": "completed"
    },
    "tags": []
   },
   "outputs": [],
   "source": [
    "from sklearn.preprocessing import StandardScaler"
   ]
  },
  {
   "cell_type": "code",
   "execution_count": 36,
   "id": "8771a799",
   "metadata": {
    "execution": {
     "iopub.execute_input": "2023-11-30T12:47:43.365345Z",
     "iopub.status.busy": "2023-11-30T12:47:43.364476Z",
     "iopub.status.idle": "2023-11-30T12:47:43.422198Z",
     "shell.execute_reply": "2023-11-30T12:47:43.421072Z"
    },
    "papermill": {
     "duration": 0.082086,
     "end_time": "2023-11-30T12:47:43.424682",
     "exception": false,
     "start_time": "2023-11-30T12:47:43.342596",
     "status": "completed"
    },
    "tags": []
   },
   "outputs": [],
   "source": [
    "sc_X = StandardScaler()\n",
    "X_train2 = pd.DataFrame(sc_X.fit_transform(X_train))\n",
    "X_test2 = pd.DataFrame(sc_X.fit_transform(X_test))\n",
    "X_train2.columns = X_train.columns.values\n",
    "X_test2.columns = X_test.columns.values\n",
    "X_train2.index = X_train.index.values\n",
    "X_test2.index = X_test.index.values\n",
    "X_train = X_train2\n",
    "X_test = X_test2"
   ]
  },
  {
   "cell_type": "code",
   "execution_count": 37,
   "id": "e834dd03",
   "metadata": {
    "execution": {
     "iopub.execute_input": "2023-11-30T12:47:43.468368Z",
     "iopub.status.busy": "2023-11-30T12:47:43.467961Z",
     "iopub.status.idle": "2023-11-30T12:47:43.665406Z",
     "shell.execute_reply": "2023-11-30T12:47:43.664210Z"
    },
    "papermill": {
     "duration": 0.222008,
     "end_time": "2023-11-30T12:47:43.668058",
     "exception": false,
     "start_time": "2023-11-30T12:47:43.446050",
     "status": "completed"
    },
    "tags": []
   },
   "outputs": [],
   "source": [
    "#Model Building\n",
    "from sklearn.linear_model import LogisticRegression"
   ]
  },
  {
   "cell_type": "code",
   "execution_count": 38,
   "id": "6fd658c8",
   "metadata": {
    "execution": {
     "iopub.execute_input": "2023-11-30T12:47:43.713341Z",
     "iopub.status.busy": "2023-11-30T12:47:43.712958Z",
     "iopub.status.idle": "2023-11-30T12:47:44.369230Z",
     "shell.execute_reply": "2023-11-30T12:47:44.368154Z"
    },
    "papermill": {
     "duration": 0.682386,
     "end_time": "2023-11-30T12:47:44.371812",
     "exception": false,
     "start_time": "2023-11-30T12:47:43.689426",
     "status": "completed"
    },
    "tags": []
   },
   "outputs": [
    {
     "data": {
      "text/html": [
       "<style>#sk-container-id-1 {color: black;background-color: white;}#sk-container-id-1 pre{padding: 0;}#sk-container-id-1 div.sk-toggleable {background-color: white;}#sk-container-id-1 label.sk-toggleable__label {cursor: pointer;display: block;width: 100%;margin-bottom: 0;padding: 0.3em;box-sizing: border-box;text-align: center;}#sk-container-id-1 label.sk-toggleable__label-arrow:before {content: \"▸\";float: left;margin-right: 0.25em;color: #696969;}#sk-container-id-1 label.sk-toggleable__label-arrow:hover:before {color: black;}#sk-container-id-1 div.sk-estimator:hover label.sk-toggleable__label-arrow:before {color: black;}#sk-container-id-1 div.sk-toggleable__content {max-height: 0;max-width: 0;overflow: hidden;text-align: left;background-color: #f0f8ff;}#sk-container-id-1 div.sk-toggleable__content pre {margin: 0.2em;color: black;border-radius: 0.25em;background-color: #f0f8ff;}#sk-container-id-1 input.sk-toggleable__control:checked~div.sk-toggleable__content {max-height: 200px;max-width: 100%;overflow: auto;}#sk-container-id-1 input.sk-toggleable__control:checked~label.sk-toggleable__label-arrow:before {content: \"▾\";}#sk-container-id-1 div.sk-estimator input.sk-toggleable__control:checked~label.sk-toggleable__label {background-color: #d4ebff;}#sk-container-id-1 div.sk-label input.sk-toggleable__control:checked~label.sk-toggleable__label {background-color: #d4ebff;}#sk-container-id-1 input.sk-hidden--visually {border: 0;clip: rect(1px 1px 1px 1px);clip: rect(1px, 1px, 1px, 1px);height: 1px;margin: -1px;overflow: hidden;padding: 0;position: absolute;width: 1px;}#sk-container-id-1 div.sk-estimator {font-family: monospace;background-color: #f0f8ff;border: 1px dotted black;border-radius: 0.25em;box-sizing: border-box;margin-bottom: 0.5em;}#sk-container-id-1 div.sk-estimator:hover {background-color: #d4ebff;}#sk-container-id-1 div.sk-parallel-item::after {content: \"\";width: 100%;border-bottom: 1px solid gray;flex-grow: 1;}#sk-container-id-1 div.sk-label:hover label.sk-toggleable__label {background-color: #d4ebff;}#sk-container-id-1 div.sk-serial::before {content: \"\";position: absolute;border-left: 1px solid gray;box-sizing: border-box;top: 0;bottom: 0;left: 50%;z-index: 0;}#sk-container-id-1 div.sk-serial {display: flex;flex-direction: column;align-items: center;background-color: white;padding-right: 0.2em;padding-left: 0.2em;position: relative;}#sk-container-id-1 div.sk-item {position: relative;z-index: 1;}#sk-container-id-1 div.sk-parallel {display: flex;align-items: stretch;justify-content: center;background-color: white;position: relative;}#sk-container-id-1 div.sk-item::before, #sk-container-id-1 div.sk-parallel-item::before {content: \"\";position: absolute;border-left: 1px solid gray;box-sizing: border-box;top: 0;bottom: 0;left: 50%;z-index: -1;}#sk-container-id-1 div.sk-parallel-item {display: flex;flex-direction: column;z-index: 1;position: relative;background-color: white;}#sk-container-id-1 div.sk-parallel-item:first-child::after {align-self: flex-end;width: 50%;}#sk-container-id-1 div.sk-parallel-item:last-child::after {align-self: flex-start;width: 50%;}#sk-container-id-1 div.sk-parallel-item:only-child::after {width: 0;}#sk-container-id-1 div.sk-dashed-wrapped {border: 1px dashed gray;margin: 0 0.4em 0.5em 0.4em;box-sizing: border-box;padding-bottom: 0.4em;background-color: white;}#sk-container-id-1 div.sk-label label {font-family: monospace;font-weight: bold;display: inline-block;line-height: 1.2em;}#sk-container-id-1 div.sk-label-container {text-align: center;}#sk-container-id-1 div.sk-container {/* jupyter's `normalize.less` sets `[hidden] { display: none; }` but bootstrap.min.css set `[hidden] { display: none !important; }` so we also need the `!important` here to be able to override the default hidden behavior on the sphinx rendered scikit-learn.org. See: https://github.com/scikit-learn/scikit-learn/issues/21755 */display: inline-block !important;position: relative;}#sk-container-id-1 div.sk-text-repr-fallback {display: none;}</style><div id=\"sk-container-id-1\" class=\"sk-top-container\"><div class=\"sk-text-repr-fallback\"><pre>LogisticRegression(penalty=&#x27;l1&#x27;, random_state=42, solver=&#x27;liblinear&#x27;)</pre><b>In a Jupyter environment, please rerun this cell to show the HTML representation or trust the notebook. <br />On GitHub, the HTML representation is unable to render, please try loading this page with nbviewer.org.</b></div><div class=\"sk-container\" hidden><div class=\"sk-item\"><div class=\"sk-estimator sk-toggleable\"><input class=\"sk-toggleable__control sk-hidden--visually\" id=\"sk-estimator-id-1\" type=\"checkbox\" checked><label for=\"sk-estimator-id-1\" class=\"sk-toggleable__label sk-toggleable__label-arrow\">LogisticRegression</label><div class=\"sk-toggleable__content\"><pre>LogisticRegression(penalty=&#x27;l1&#x27;, random_state=42, solver=&#x27;liblinear&#x27;)</pre></div></div></div></div></div>"
      ],
      "text/plain": [
       "LogisticRegression(penalty='l1', random_state=42, solver='liblinear')"
      ]
     },
     "execution_count": 38,
     "metadata": {},
     "output_type": "execute_result"
    }
   ],
   "source": [
    "classifier = LogisticRegression(random_state = 42, penalty = 'l1',solver='liblinear')\n",
    "classifier.fit(X_train,y_train)"
   ]
  },
  {
   "cell_type": "code",
   "execution_count": 39,
   "id": "f4cd9ebb",
   "metadata": {
    "execution": {
     "iopub.execute_input": "2023-11-30T12:47:44.417967Z",
     "iopub.status.busy": "2023-11-30T12:47:44.417325Z",
     "iopub.status.idle": "2023-11-30T12:47:44.431379Z",
     "shell.execute_reply": "2023-11-30T12:47:44.430091Z"
    },
    "papermill": {
     "duration": 0.041599,
     "end_time": "2023-11-30T12:47:44.435175",
     "exception": false,
     "start_time": "2023-11-30T12:47:44.393576",
     "status": "completed"
    },
    "tags": []
   },
   "outputs": [
    {
     "data": {
      "text/plain": [
       "array([0, 0, 0, ..., 1, 1, 1])"
      ]
     },
     "execution_count": 39,
     "metadata": {},
     "output_type": "execute_result"
    }
   ],
   "source": [
    "y_pred = classifier.predict(X_test)\n",
    "y_pred"
   ]
  },
  {
   "cell_type": "code",
   "execution_count": 40,
   "id": "8005bc79",
   "metadata": {
    "execution": {
     "iopub.execute_input": "2023-11-30T12:47:44.510249Z",
     "iopub.status.busy": "2023-11-30T12:47:44.509611Z",
     "iopub.status.idle": "2023-11-30T12:47:44.515879Z",
     "shell.execute_reply": "2023-11-30T12:47:44.514753Z"
    },
    "papermill": {
     "duration": 0.048963,
     "end_time": "2023-11-30T12:47:44.520520",
     "exception": false,
     "start_time": "2023-11-30T12:47:44.471557",
     "status": "completed"
    },
    "tags": []
   },
   "outputs": [],
   "source": [
    "from sklearn.metrics import confusion_matrix, accuracy_score, f1_score, precision_score, recall_score"
   ]
  },
  {
   "cell_type": "code",
   "execution_count": 41,
   "id": "64ef2f9e",
   "metadata": {
    "execution": {
     "iopub.execute_input": "2023-11-30T12:47:44.574215Z",
     "iopub.status.busy": "2023-11-30T12:47:44.573823Z",
     "iopub.status.idle": "2023-11-30T12:47:44.584835Z",
     "shell.execute_reply": "2023-11-30T12:47:44.583722Z"
    },
    "papermill": {
     "duration": 0.035422,
     "end_time": "2023-11-30T12:47:44.587103",
     "exception": false,
     "start_time": "2023-11-30T12:47:44.551681",
     "status": "completed"
    },
    "tags": []
   },
   "outputs": [
    {
     "data": {
      "text/plain": [
       "array([[3509, 1789],\n",
       "       [1354, 5848]])"
      ]
     },
     "execution_count": 41,
     "metadata": {},
     "output_type": "execute_result"
    }
   ],
   "source": [
    "cm = confusion_matrix(y_test,y_pred)\n",
    "cm"
   ]
  },
  {
   "cell_type": "code",
   "execution_count": 42,
   "id": "a68db475",
   "metadata": {
    "execution": {
     "iopub.execute_input": "2023-11-30T12:47:44.631711Z",
     "iopub.status.busy": "2023-11-30T12:47:44.631336Z",
     "iopub.status.idle": "2023-11-30T12:47:44.639562Z",
     "shell.execute_reply": "2023-11-30T12:47:44.638385Z"
    },
    "papermill": {
     "duration": 0.032826,
     "end_time": "2023-11-30T12:47:44.641587",
     "exception": false,
     "start_time": "2023-11-30T12:47:44.608761",
     "status": "completed"
    },
    "tags": []
   },
   "outputs": [
    {
     "data": {
      "text/plain": [
       "0.74856"
      ]
     },
     "execution_count": 42,
     "metadata": {},
     "output_type": "execute_result"
    }
   ],
   "source": [
    " accuracy_score(y_test,y_pred)"
   ]
  },
  {
   "cell_type": "code",
   "execution_count": 43,
   "id": "c9d020f2",
   "metadata": {
    "execution": {
     "iopub.execute_input": "2023-11-30T12:47:44.686771Z",
     "iopub.status.busy": "2023-11-30T12:47:44.686021Z",
     "iopub.status.idle": "2023-11-30T12:47:44.699410Z",
     "shell.execute_reply": "2023-11-30T12:47:44.698455Z"
    },
    "papermill": {
     "duration": 0.038317,
     "end_time": "2023-11-30T12:47:44.701594",
     "exception": false,
     "start_time": "2023-11-30T12:47:44.663277",
     "status": "completed"
    },
    "tags": []
   },
   "outputs": [
    {
     "data": {
      "text/plain": [
       "0.7657457116668849"
      ]
     },
     "execution_count": 43,
     "metadata": {},
     "output_type": "execute_result"
    }
   ],
   "source": [
    "precision_score(y_test, y_pred)"
   ]
  },
  {
   "cell_type": "code",
   "execution_count": 44,
   "id": "6b6f25ce",
   "metadata": {
    "execution": {
     "iopub.execute_input": "2023-11-30T12:47:44.746542Z",
     "iopub.status.busy": "2023-11-30T12:47:44.745825Z",
     "iopub.status.idle": "2023-11-30T12:47:44.759638Z",
     "shell.execute_reply": "2023-11-30T12:47:44.758527Z"
    },
    "papermill": {
     "duration": 0.039062,
     "end_time": "2023-11-30T12:47:44.762025",
     "exception": false,
     "start_time": "2023-11-30T12:47:44.722963",
     "status": "completed"
    },
    "tags": []
   },
   "outputs": [
    {
     "data": {
      "text/plain": [
       "0.8119966675923355"
      ]
     },
     "execution_count": 44,
     "metadata": {},
     "output_type": "execute_result"
    }
   ],
   "source": [
    "recall_score(y_test,y_pred)"
   ]
  },
  {
   "cell_type": "code",
   "execution_count": 45,
   "id": "f6060ecc",
   "metadata": {
    "execution": {
     "iopub.execute_input": "2023-11-30T12:47:44.806528Z",
     "iopub.status.busy": "2023-11-30T12:47:44.806130Z",
     "iopub.status.idle": "2023-11-30T12:47:44.820327Z",
     "shell.execute_reply": "2023-11-30T12:47:44.819318Z"
    },
    "papermill": {
     "duration": 0.03935,
     "end_time": "2023-11-30T12:47:44.822758",
     "exception": false,
     "start_time": "2023-11-30T12:47:44.783408",
     "status": "completed"
    },
    "tags": []
   },
   "outputs": [
    {
     "data": {
      "text/plain": [
       "0.7881932744794123"
      ]
     },
     "execution_count": 45,
     "metadata": {},
     "output_type": "execute_result"
    }
   ],
   "source": [
    "f1_score(y_test,y_pred)"
   ]
  },
  {
   "cell_type": "code",
   "execution_count": 46,
   "id": "ede9f6e4",
   "metadata": {
    "execution": {
     "iopub.execute_input": "2023-11-30T12:47:44.868216Z",
     "iopub.status.busy": "2023-11-30T12:47:44.867823Z",
     "iopub.status.idle": "2023-11-30T12:47:45.238926Z",
     "shell.execute_reply": "2023-11-30T12:47:45.237848Z"
    },
    "papermill": {
     "duration": 0.396481,
     "end_time": "2023-11-30T12:47:45.241468",
     "exception": false,
     "start_time": "2023-11-30T12:47:44.844987",
     "status": "completed"
    },
    "tags": []
   },
   "outputs": [
    {
     "data": {
      "text/plain": [
       "<Axes: >"
      ]
     },
     "execution_count": 46,
     "metadata": {},
     "output_type": "execute_result"
    },
    {
     "data": {
      "image/png": "[encoded data removed]",
      "text/plain": [
       "<Figure size 1000x700 with 2 Axes>"
      ]
     },
     "metadata": {},
     "output_type": "display_data"
    }
   ],
   "source": [
    "df_cm = pd.DataFrame(cm,index =(0,1), columns = (0,1))\n",
    "plt.figure(figsize = (10,7))\n",
    "sns.set(font_scale = 1.4)\n",
    "sns.heatmap(df_cm, annot = True, fmt ='g')"
   ]
  },
  {
   "cell_type": "code",
   "execution_count": 47,
   "id": "e6e1b053",
   "metadata": {
    "execution": {
     "iopub.execute_input": "2023-11-30T12:47:45.287557Z",
     "iopub.status.busy": "2023-11-30T12:47:45.287172Z",
     "iopub.status.idle": "2023-11-30T12:47:45.292153Z",
     "shell.execute_reply": "2023-11-30T12:47:45.291252Z"
    },
    "papermill": {
     "duration": 0.030478,
     "end_time": "2023-11-30T12:47:45.294100",
     "exception": false,
     "start_time": "2023-11-30T12:47:45.263622",
     "status": "completed"
    },
    "tags": []
   },
   "outputs": [],
   "source": [
    "from sklearn.model_selection import cross_val_score"
   ]
  },
  {
   "cell_type": "code",
   "execution_count": 48,
   "id": "50ed208e",
   "metadata": {
    "execution": {
     "iopub.execute_input": "2023-11-30T12:47:45.340560Z",
     "iopub.status.busy": "2023-11-30T12:47:45.339632Z",
     "iopub.status.idle": "2023-11-30T12:47:51.999476Z",
     "shell.execute_reply": "2023-11-30T12:47:51.998157Z"
    },
    "papermill": {
     "duration": 6.685792,
     "end_time": "2023-11-30T12:47:52.002078",
     "exception": false,
     "start_time": "2023-11-30T12:47:45.316286",
     "status": "completed"
    },
    "tags": []
   },
   "outputs": [
    {
     "data": {
      "text/plain": [
       "0.7489866666666666"
      ]
     },
     "execution_count": 48,
     "metadata": {},
     "output_type": "execute_result"
    }
   ],
   "source": [
    "accuracies = cross_val_score(estimator = classifier, X = X_train, y=y_train, cv =10)\n",
    "accuracies.mean()"
   ]
  },
  {
   "cell_type": "markdown",
   "id": "c7d6e081",
   "metadata": {
    "papermill": {
     "duration": 0.039155,
     "end_time": "2023-11-30T12:47:52.084427",
     "exception": false,
     "start_time": "2023-11-30T12:47:52.045272",
     "status": "completed"
    },
    "tags": []
   },
   "source": [
    "### Formatting the final result"
   ]
  },
  {
   "cell_type": "code",
   "execution_count": 49,
   "id": "a4cb2034",
   "metadata": {
    "execution": {
     "iopub.execute_input": "2023-11-30T12:47:52.142397Z",
     "iopub.status.busy": "2023-11-30T12:47:52.142021Z",
     "iopub.status.idle": "2023-11-30T12:47:52.150200Z",
     "shell.execute_reply": "2023-11-30T12:47:52.149212Z"
    },
    "papermill": {
     "duration": 0.034035,
     "end_time": "2023-11-30T12:47:52.152429",
     "exception": false,
     "start_time": "2023-11-30T12:47:52.118394",
     "status": "completed"
    },
    "tags": []
   },
   "outputs": [],
   "source": [
    "final_res = pd.concat([y_test, test_identifier], axis = 1).dropna()"
   ]
  },
  {
   "cell_type": "code",
   "execution_count": 50,
   "id": "e0b85f1e",
   "metadata": {
    "execution": {
     "iopub.execute_input": "2023-11-30T12:47:52.199599Z",
     "iopub.status.busy": "2023-11-30T12:47:52.198865Z",
     "iopub.status.idle": "2023-11-30T12:47:52.212714Z",
     "shell.execute_reply": "2023-11-30T12:47:52.211679Z"
    },
    "papermill": {
     "duration": 0.039917,
     "end_time": "2023-11-30T12:47:52.214984",
     "exception": false,
     "start_time": "2023-11-30T12:47:52.175067",
     "status": "completed"
    },
    "tags": []
   },
   "outputs": [
    {
     "data": {
      "text/html": [
       "<div>\n",
       "<style scoped>\n",
       "    .dataframe tbody tr th:only-of-type {\n",
       "        vertical-align: middle;\n",
       "    }\n",
       "\n",
       "    .dataframe tbody tr th {\n",
       "        vertical-align: top;\n",
       "    }\n",
       "\n",
       "    .dataframe thead th {\n",
       "        text-align: right;\n",
       "    }\n",
       "</style>\n",
       "<table border=\"1\" class=\"dataframe\">\n",
       "  <thead>\n",
       "    <tr style=\"text-align: right;\">\n",
       "      <th></th>\n",
       "      <th>user</th>\n",
       "      <th>enrolled</th>\n",
       "      <th>predicted_result</th>\n",
       "    </tr>\n",
       "  </thead>\n",
       "  <tbody>\n",
       "    <tr>\n",
       "      <th>0</th>\n",
       "      <td>48024</td>\n",
       "      <td>1</td>\n",
       "      <td>0</td>\n",
       "    </tr>\n",
       "    <tr>\n",
       "      <th>1</th>\n",
       "      <td>266463</td>\n",
       "      <td>1</td>\n",
       "      <td>0</td>\n",
       "    </tr>\n",
       "    <tr>\n",
       "      <th>2</th>\n",
       "      <td>262169</td>\n",
       "      <td>1</td>\n",
       "      <td>0</td>\n",
       "    </tr>\n",
       "    <tr>\n",
       "      <th>3</th>\n",
       "      <td>213736</td>\n",
       "      <td>1</td>\n",
       "      <td>0</td>\n",
       "    </tr>\n",
       "    <tr>\n",
       "      <th>4</th>\n",
       "      <td>169082</td>\n",
       "      <td>1</td>\n",
       "      <td>1</td>\n",
       "    </tr>\n",
       "    <tr>\n",
       "      <th>...</th>\n",
       "      <td>...</td>\n",
       "      <td>...</td>\n",
       "      <td>...</td>\n",
       "    </tr>\n",
       "    <tr>\n",
       "      <th>12495</th>\n",
       "      <td>224853</td>\n",
       "      <td>1</td>\n",
       "      <td>1</td>\n",
       "    </tr>\n",
       "    <tr>\n",
       "      <th>12496</th>\n",
       "      <td>140477</td>\n",
       "      <td>0</td>\n",
       "      <td>0</td>\n",
       "    </tr>\n",
       "    <tr>\n",
       "      <th>12497</th>\n",
       "      <td>130283</td>\n",
       "      <td>1</td>\n",
       "      <td>1</td>\n",
       "    </tr>\n",
       "    <tr>\n",
       "      <th>12498</th>\n",
       "      <td>315152</td>\n",
       "      <td>1</td>\n",
       "      <td>1</td>\n",
       "    </tr>\n",
       "    <tr>\n",
       "      <th>12499</th>\n",
       "      <td>253111</td>\n",
       "      <td>1</td>\n",
       "      <td>1</td>\n",
       "    </tr>\n",
       "  </tbody>\n",
       "</table>\n",
       "<p>12500 rows × 3 columns</p>\n",
       "</div>"
      ],
      "text/plain": [
       "         user  enrolled  predicted_result\n",
       "0       48024         1                 0\n",
       "1      266463         1                 0\n",
       "2      262169         1                 0\n",
       "3      213736         1                 0\n",
       "4      169082         1                 1\n",
       "...       ...       ...               ...\n",
       "12495  224853         1                 1\n",
       "12496  140477         0                 0\n",
       "12497  130283         1                 1\n",
       "12498  315152         1                 1\n",
       "12499  253111         1                 1\n",
       "\n",
       "[12500 rows x 3 columns]"
      ]
     },
     "execution_count": 50,
     "metadata": {},
     "output_type": "execute_result"
    }
   ],
   "source": [
    "final_res['predicted_result'] = y_pred\n",
    "final_res[['user','enrolled','predicted_result']].reset_index(drop=True)"
   ]
  },
  {
   "cell_type": "markdown",
   "id": "6840bd9a",
   "metadata": {
    "papermill": {
     "duration": 0.022996,
     "end_time": "2023-11-30T12:47:52.261007",
     "exception": false,
     "start_time": "2023-11-30T12:47:52.238011",
     "status": "completed"
    },
    "tags": []
   },
   "source": [
    "# CONCLUSION\n",
    "\n",
    "1. DIRECTING CUSTOMERS TO SUBSCRIPTION PRODUCTS THROUGH APP BEHAVIOR ANALYSIS\n",
    "\n",
    "* Our efforts have given us a model that will label every new user as \"highly likely\" (or \"unlikely\") to subscribe. We can further validate our results by running our predictions on daily new installs, and see whether our accuracy is consistent. From there, we can narrow our marketing efforts only to those users \"unlikely\" to subscribe, and thus increase our subscription rate. \n",
    "\n",
    "* The increase in overall subscriptions can measure the benefit of this model to the company. Recall that those already likely to subscribe will do so, and, although we can still give them offers, we don't have to go all out. On the other hand, users who are likely to leave may convert to paid subscribers if we give them an offer they cannot refuse. For example, these offers can come in the form of 'Ist month free', or '50% off yearly subscriptions'. The latter shows that great offers can still be structured in a way that brings overall benefit to the company because we are locking the user in for an extended period!"
   ]
  },
  {
   "cell_type": "code",
   "execution_count": null,
   "id": "b3aa3249",
   "metadata": {
    "papermill": {
     "duration": 0.022449,
     "end_time": "2023-11-30T12:47:52.306257",
     "exception": false,
     "start_time": "2023-11-30T12:47:52.283808",
     "status": "completed"
    },
    "tags": []
   },
   "outputs": [],
   "source": []
  }
 ],
 "metadata": {
  "kaggle": {
   "accelerator": "none",
   "dataSources": [
    {
     "datasetId": 4084271,
     "sourceId": 7088349,
     "sourceType": "datasetVersion"
    },
    {
     "datasetId": 4084768,
     "sourceId": 7089033,
     "sourceType": "datasetVersion"
    }
   ],
   "dockerImageVersionId": 30587,
   "isGpuEnabled": false,
   "isInternetEnabled": true,
   "language": "python",
   "sourceType": "notebook"
  },
  "kernelspec": {
   "display_name": "Python 3",
   "language": "python",
   "name": "python3"
  },
  "language_info": {
   "codemirror_mode": {
    "name": "ipython",
    "version": 3
   },
   "file_extension": ".py",
   "mimetype": "text/x-python",
   "name": "python",
   "nbconvert_exporter": "python",
   "pygments_lexer": "ipython3",
   "version": "3.10.12"
  },
  "papermill": {
   "default_parameters": {},
   "duration": 31.952138,
   "end_time": "2023-11-30T12:47:53.051032",
   "environment_variables": {},
   "exception": null,
   "input_path": "__notebook__.ipynb",
   "output_path": "__notebook__.ipynb",
   "parameters": {},
   "start_time": "2023-11-30T12:47:21.098894",
   "version": "2.4.0"
  }
 },
 "nbformat": 4,
 "nbformat_minor": 5
}
