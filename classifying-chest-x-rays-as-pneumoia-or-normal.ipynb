{
 "cells": [
  {
   "cell_type": "markdown",
   "id": "ef976f3a",
   "metadata": {
    "_cell_guid": "b1076dfc-b9ad-4769-8c92-a6c4dae69d19",
    "_uuid": "8f2839f25d086af736a60e9eeb907d3b93b6e0e5",
    "papermill": {
     "duration": 0.001944,
     "end_time": "2023-12-02T08:04:58.361489",
     "exception": false,
     "start_time": "2023-12-02T08:04:58.359545",
     "status": "completed"
    },
    "tags": []
   },
   "source": [
    "# Classifying Chest X rays as Pneumoia or Normal"
   ]
  },
  {
   "cell_type": "markdown",
   "id": "3d111e81",
   "metadata": {
    "papermill": {
     "duration": 0.001152,
     "end_time": "2023-12-02T08:04:58.364167",
     "exception": false,
     "start_time": "2023-12-02T08:04:58.363015",
     "status": "completed"
    },
    "tags": []
   },
   "source": [
    "- Dealing with Image data sets\n",
    "- Performing Data Processing and Augumentation as when Required\n",
    "- Creating and training CNN using Tensor Flow 2.0\n",
    "\n",
    "- Linear and Logistic Regression\n",
    "- Image Processing\n",
    "- ANN and CNN\n",
    "\n",
    "DataSet:- \n",
    "Test, Train, Val \n",
    "\n",
    "What is Pneumonia?\n",
    "* It is an infection that inflames air sacs in one or both lungs infection can be life-threatening to anyone.\n",
    "\t\tGerms that cause pneumonia are contagious.\n",
    "\t\tType:- Viral and bacterial pneumonia\n",
    "\t\t\n",
    "\tSymptoms:-\n",
    "\t\tCoughing, sweating and chills, shortness of breath, feeling  of tiredness or fatigue, loss of appetite, Nausea or vomiting.\n",
    "\t\t\n",
    "\tPhysical Chekups:- \n",
    "\t\tChest X-ray, Blood Culture, Sputum Culture, Pulse Oximetry, CT Scan, Fluid Sample\n",
    "\t\t \n",
    "\tChest X-ray related to Pneumonia:-\n",
    "\t\tAn X-ray will allow to a doc to see lungs, heart and blood vesselsetc to determine the presence of pneumonia.\n",
    "\t\tInfiltrates that identify and infection\n",
    "\t\tLow contrast, overlapping organs, blurred boundary"
   ]
  },
  {
   "cell_type": "code",
   "execution_count": null,
   "id": "0eafda7b",
   "metadata": {
    "papermill": {
     "duration": 0.002982,
     "end_time": "2023-12-02T08:04:58.368445",
     "exception": false,
     "start_time": "2023-12-02T08:04:58.365463",
     "status": "completed"
    },
    "tags": []
   },
   "outputs": [],
   "source": []
  }
 ],
 "metadata": {
  "kaggle": {
   "accelerator": "none",
   "dataSources": [
    {
     "datasetId": 17810,
     "sourceId": 23812,
     "sourceType": "datasetVersion"
    }
   ],
   "dockerImageVersionId": 30587,
   "isGpuEnabled": false,
   "isInternetEnabled": true,
   "language": "python",
   "sourceType": "notebook"
  },
  "kernelspec": {
   "display_name": "Python 3",
   "language": "python",
   "name": "python3"
  },
  "language_info": {
   "codemirror_mode": {
    "name": "ipython",
    "version": 3
   },
   "file_extension": ".py",
   "mimetype": "text/x-python",
   "name": "python",
   "nbconvert_exporter": "python",
   "pygments_lexer": "ipython3",
   "version": "3.10.12"
  },
  "papermill": {
   "default_parameters": {},
   "duration": 2.996716,
   "end_time": "2023-12-02T08:04:58.689724",
   "environment_variables": {},
   "exception": null,
   "input_path": "__notebook__.ipynb",
   "output_path": "__notebook__.ipynb",
   "parameters": {},
   "start_time": "2023-12-02T08:04:55.693008",
   "version": "2.4.0"
  }
 },
 "nbformat": 4,
 "nbformat_minor": 5
}
